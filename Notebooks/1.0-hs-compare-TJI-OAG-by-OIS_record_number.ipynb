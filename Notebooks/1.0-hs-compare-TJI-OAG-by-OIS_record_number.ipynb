{
 "cells": [
  {
   "cell_type": "code",
   "execution_count": 1,
   "id": "776f138f-504d-4446-96d7-3a0cf0fad2cb",
   "metadata": {},
   "outputs": [
    {
     "name": "stdout",
     "output_type": "stream",
     "text": [
      "Author: Hongsup Shin\n",
      "\n",
      "Last updated: 2021-05-16 11:03:32\n",
      "\n",
      "Python implementation: CPython\n",
      "Python version       : 3.7.10\n",
      "IPython version      : 7.20.0\n",
      "\n",
      "Git hash: 55299f866b979f9394f5ca724e351c738f0a6c6e\n",
      "\n",
      "Git repo: https://github.com/texas-justice-initiative/officer_involved_shooting.git\n",
      "\n",
      "Git branch: create_annual_report\n",
      "\n",
      "numpy     : 1.20.2\n",
      "pandas    : 1.2.3\n",
      "sys       : 3.7.10 | packaged by conda-forge | (default, Feb 19 2021, 15:59:12) \n",
      "[Clang 11.0.1 ]\n",
      "matplotlib: 3.4.1\n",
      "seaborn   : 0.11.1\n",
      "\n"
     ]
    }
   ],
   "source": [
    "import pandas as pd\n",
    "pd.set_option('precision', 2)\n",
    "import numpy as np\n",
    "import matplotlib\n",
    "import matplotlib.pyplot as plt\n",
    "import seaborn as sns\n",
    "import sys\n",
    "\n",
    "plt.style.use('ggplot')\n",
    "%config InlineBackend.figure_format = 'retina'\n",
    "colors = plt.rcParams['axes.prop_cycle'].by_key()['color']\n",
    "colors_ = plt.get_cmap('Set2')(np.linspace(0, 1, 8))\n",
    "\n",
    "from IPython.core.pylabtools import figsize\n",
    "from IPython.display import display\n",
    "figsize(8, 5)\n",
    "\n",
    "%load_ext watermark\n",
    "%load_ext autoreload\n",
    "%autoreload 2\n",
    "%matplotlib inline\n",
    "\n",
    "%watermark -d -t -u -v -g -r -b -iv -a \"Hongsup Shin\""
   ]
  },
  {
   "cell_type": "code",
   "execution_count": 2,
   "id": "598b7f6d-34b7-488f-ad57-a94c2ad2f6c7",
   "metadata": {},
   "outputs": [],
   "source": [
    "import preprocess"
   ]
  },
  {
   "cell_type": "markdown",
   "id": "d233bd56-6cc1-4079-bdb5-da445880054f",
   "metadata": {},
   "source": [
    "# Checking the discrepancy between the TJI and OAG datasets\n",
    "## Motivation\n",
    "In 2019 and 2020, TJI has fewer reports (about 20 per year) than the number of reports described in the OAG annual reports.\n",
    "\n",
    "## Methods\n",
    "OAG has provided OIS numbers (unique identifiers). This data is currently saved on TJI's Google Sheet (not on the TJI website). TJI has updated the OIS data on the website by adding a column for OIS numbers. We will compare these to identify which reports are missing."
   ]
  },
  {
   "cell_type": "markdown",
   "id": "0adae1d0-4d47-4bb0-bfdf-ee87b14d7110",
   "metadata": {},
   "source": [
    "## TJI Data\n",
    "Downloaded on May 16, 2021"
   ]
  },
  {
   "cell_type": "code",
   "execution_count": 3,
   "id": "6f3d806e-2158-4818-b170-d7050e20241e",
   "metadata": {},
   "outputs": [],
   "source": [
    "df_c = pd.read_csv('../Data/Raw/Website/tji_civilians-shot_May2021.csv')\n",
    "df_o = pd.read_csv('../Data/Raw/Website/tji_officers-shot_May2021.csv')"
   ]
  },
  {
   "cell_type": "code",
   "execution_count": 4,
   "id": "bdc53790-b9ac-4dcb-9043-344ddb794c09",
   "metadata": {},
   "outputs": [
    {
     "data": {
      "text/plain": [
       "((1000, 144), (183, 48))"
      ]
     },
     "execution_count": 4,
     "metadata": {},
     "output_type": "execute_result"
    }
   ],
   "source": [
    "df_c.shape, df_o.shape"
   ]
  },
  {
   "cell_type": "code",
   "execution_count": 5,
   "id": "343e78cb-c114-4185-83f9-88fe580d8595",
   "metadata": {},
   "outputs": [],
   "source": [
    "df_c = preprocess.convert_date_cols(df_c)\n",
    "df_o = preprocess.convert_date_cols(df_o)\n",
    "df_c['year'] = df_c['date_incident'].dt.year\n",
    "df_o['year'] = df_o['date_incident'].dt.year"
   ]
  },
  {
   "cell_type": "markdown",
   "id": "49fe6b7d-a193-46be-864a-d2a90671d323",
   "metadata": {},
   "source": [
    "## OIS report number\n",
    "`ois_report_no` exists in more recent records in the TJI data"
   ]
  },
  {
   "cell_type": "markdown",
   "id": "8193b8b7-1a09-4645-9133-23918495550e",
   "metadata": {},
   "source": [
    "### Civilian data"
   ]
  },
  {
   "cell_type": "code",
   "execution_count": 6,
   "id": "cf9f743f-1eb9-41bd-95b7-1af4c7b25394",
   "metadata": {},
   "outputs": [
    {
     "data": {
      "text/html": [
       "<div>\n",
       "<style scoped>\n",
       "    .dataframe tbody tr th:only-of-type {\n",
       "        vertical-align: middle;\n",
       "    }\n",
       "\n",
       "    .dataframe tbody tr th {\n",
       "        vertical-align: top;\n",
       "    }\n",
       "\n",
       "    .dataframe thead th {\n",
       "        text-align: right;\n",
       "    }\n",
       "</style>\n",
       "<table border=\"1\" class=\"dataframe\">\n",
       "  <thead>\n",
       "    <tr style=\"text-align: right;\">\n",
       "      <th></th>\n",
       "      <th>Total no. reports</th>\n",
       "      <th>OIS no. found</th>\n",
       "    </tr>\n",
       "    <tr>\n",
       "      <th>year</th>\n",
       "      <th></th>\n",
       "      <th></th>\n",
       "    </tr>\n",
       "  </thead>\n",
       "  <tbody>\n",
       "    <tr>\n",
       "      <th>2015</th>\n",
       "      <td>66</td>\n",
       "      <td>0</td>\n",
       "    </tr>\n",
       "    <tr>\n",
       "      <th>2016</th>\n",
       "      <td>176</td>\n",
       "      <td>0</td>\n",
       "    </tr>\n",
       "    <tr>\n",
       "      <th>2017</th>\n",
       "      <td>163</td>\n",
       "      <td>0</td>\n",
       "    </tr>\n",
       "    <tr>\n",
       "      <th>2018</th>\n",
       "      <td>175</td>\n",
       "      <td>1</td>\n",
       "    </tr>\n",
       "    <tr>\n",
       "      <th>2019</th>\n",
       "      <td>186</td>\n",
       "      <td>2</td>\n",
       "    </tr>\n",
       "    <tr>\n",
       "      <th>2020</th>\n",
       "      <td>178</td>\n",
       "      <td>155</td>\n",
       "    </tr>\n",
       "    <tr>\n",
       "      <th>2021</th>\n",
       "      <td>56</td>\n",
       "      <td>56</td>\n",
       "    </tr>\n",
       "  </tbody>\n",
       "</table>\n",
       "</div>"
      ],
      "text/plain": [
       "      Total no. reports  OIS no. found\n",
       "year                                  \n",
       "2015                 66              0\n",
       "2016                176              0\n",
       "2017                163              0\n",
       "2018                175              1\n",
       "2019                186              2\n",
       "2020                178            155\n",
       "2021                 56             56"
      ]
     },
     "execution_count": 6,
     "metadata": {},
     "output_type": "execute_result"
    }
   ],
   "source": [
    "notnans = df_c['ois_report_no'].notna().groupby(df_c['year']).sum()\n",
    "counts = df_c['date_incident'].groupby(df_c['year']).count()\n",
    "pd.DataFrame([counts, notnans], index=['Total no. reports', 'OIS no. found']).T"
   ]
  },
  {
   "cell_type": "markdown",
   "id": "84147c00-d7e8-40a0-bdf2-8e31d3c28785",
   "metadata": {},
   "source": [
    "### Officer data"
   ]
  },
  {
   "cell_type": "code",
   "execution_count": 7,
   "id": "492dcd24-dfbf-4f3e-ad3d-1273151db1cd",
   "metadata": {},
   "outputs": [
    {
     "data": {
      "text/html": [
       "<div>\n",
       "<style scoped>\n",
       "    .dataframe tbody tr th:only-of-type {\n",
       "        vertical-align: middle;\n",
       "    }\n",
       "\n",
       "    .dataframe tbody tr th {\n",
       "        vertical-align: top;\n",
       "    }\n",
       "\n",
       "    .dataframe thead th {\n",
       "        text-align: right;\n",
       "    }\n",
       "</style>\n",
       "<table border=\"1\" class=\"dataframe\">\n",
       "  <thead>\n",
       "    <tr style=\"text-align: right;\">\n",
       "      <th></th>\n",
       "      <th>Total no. reports</th>\n",
       "      <th>OIS no. found</th>\n",
       "    </tr>\n",
       "    <tr>\n",
       "      <th>year</th>\n",
       "      <th></th>\n",
       "      <th></th>\n",
       "    </tr>\n",
       "  </thead>\n",
       "  <tbody>\n",
       "    <tr>\n",
       "      <th>2015</th>\n",
       "      <td>5</td>\n",
       "      <td>0</td>\n",
       "    </tr>\n",
       "    <tr>\n",
       "      <th>2016</th>\n",
       "      <td>37</td>\n",
       "      <td>0</td>\n",
       "    </tr>\n",
       "    <tr>\n",
       "      <th>2017</th>\n",
       "      <td>26</td>\n",
       "      <td>0</td>\n",
       "    </tr>\n",
       "    <tr>\n",
       "      <th>2018</th>\n",
       "      <td>26</td>\n",
       "      <td>0</td>\n",
       "    </tr>\n",
       "    <tr>\n",
       "      <th>2019</th>\n",
       "      <td>43</td>\n",
       "      <td>2</td>\n",
       "    </tr>\n",
       "    <tr>\n",
       "      <th>2020</th>\n",
       "      <td>35</td>\n",
       "      <td>33</td>\n",
       "    </tr>\n",
       "    <tr>\n",
       "      <th>2021</th>\n",
       "      <td>11</td>\n",
       "      <td>11</td>\n",
       "    </tr>\n",
       "  </tbody>\n",
       "</table>\n",
       "</div>"
      ],
      "text/plain": [
       "      Total no. reports  OIS no. found\n",
       "year                                  \n",
       "2015                  5              0\n",
       "2016                 37              0\n",
       "2017                 26              0\n",
       "2018                 26              0\n",
       "2019                 43              2\n",
       "2020                 35             33\n",
       "2021                 11             11"
      ]
     },
     "execution_count": 7,
     "metadata": {},
     "output_type": "execute_result"
    }
   ],
   "source": [
    "notnans = df_o['ois_report_no'].notna().groupby(df_o['year']).sum()\n",
    "counts = df_o['date_incident'].groupby(df_o['year']).count()\n",
    "pd.DataFrame([counts, notnans], index=['Total no. reports', 'OIS no. found']).T"
   ]
  },
  {
   "cell_type": "markdown",
   "id": "3b742623-e940-4ce6-a8aa-a338174e0c50",
   "metadata": {},
   "source": [
    "## OAG data"
   ]
  },
  {
   "cell_type": "markdown",
   "id": "82aa529f-9af2-4ec0-b775-62c83633c8ca",
   "metadata": {},
   "source": [
    "OIS report numbers given by OAG: these reports were used to create OAG's annual reports (2019, 2020). These excel sheets have two types of columns; total records and withdrwan reports; **we will exclude the latter from the former.**"
   ]
  },
  {
   "cell_type": "code",
   "execution_count": 8,
   "id": "baebeabb-688e-447e-b4ce-b67e5f22bd1f",
   "metadata": {},
   "outputs": [],
   "source": [
    "OAG_2019 = pd.read_excel('../Data/Raw/GoogleDrive/PIC_No._R008943_-_2019_OIS_Annual_Report.xlsx')\n",
    "OAG_2020 = pd.read_excel('../Data/Raw/GoogleDrive/PIC_NO._R008943_-_2020_Annual_Report.xlsx')"
   ]
  },
  {
   "cell_type": "code",
   "execution_count": 9,
   "id": "ac4f1a70-38a8-47cc-9967-503fb198b55a",
   "metadata": {},
   "outputs": [],
   "source": [
    "def get_ois_no_oag(df_OAG, victim_type='civilian'):\n",
    "    \"\"\"Return the OIS numbers in the OAG annual report by using the OAG excel data\n",
    "    \"\"\"\n",
    "    if victim_type == 'civilian':\n",
    "        col_reports='OIS Reports' \n",
    "        col_withdrawn='Withdrawn OIS Reports'\n",
    "    elif victim_type == 'officer':\n",
    "        col_reports='POI Reports'\n",
    "        col_withdrawn='Withdrawn POI Reports'\n",
    "    result = set(df_OAG[col_reports].dropna()) - set(df_OAG[col_withdrawn].dropna())\n",
    "    print(len(result), 'records found.')\n",
    "    return result"
   ]
  },
  {
   "cell_type": "code",
   "execution_count": 10,
   "id": "87decb99-b2c5-4348-bed8-acce1e25fd61",
   "metadata": {},
   "outputs": [
    {
     "name": "stdout",
     "output_type": "stream",
     "text": [
      "198 records found.\n",
      "40 records found.\n",
      "194 records found.\n",
      "35 records found.\n"
     ]
    }
   ],
   "source": [
    "OAG_2019_c = get_ois_no_oag(OAG_2019, 'civilian')\n",
    "OAG_2019_o = get_ois_no_oag(OAG_2019, 'officer')\n",
    "OAG_2020_c = get_ois_no_oag(OAG_2020, 'civilian')\n",
    "OAG_2020_o = get_ois_no_oag(OAG_2020, 'officer')"
   ]
  },
  {
   "cell_type": "markdown",
   "id": "3454052b-5284-44e1-80f3-d987bc6ace82",
   "metadata": {},
   "source": [
    "## Comparison between the OAG and TJI data"
   ]
  },
  {
   "cell_type": "markdown",
   "id": "e8f5f7fd-60b6-4c29-96ac-0c4adbc08571",
   "metadata": {},
   "source": [
    "There are only 2 OIS numbers in the TJI data in 2019, which means it's not worth making comparison for 2019. Thus, **we will only focus on 2020.**"
   ]
  },
  {
   "cell_type": "code",
   "execution_count": 11,
   "id": "a0255497-60e6-4817-a8c2-713ec14b2ea6",
   "metadata": {},
   "outputs": [],
   "source": [
    "def get_ois_no_tji(df_tji, year):\n",
    "    \"\"\"Return the OIS numbers in the TJI data from a given year\"\"\"\n",
    "    result = set(df_tji[df_tji['year']==year]['ois_report_no'].dropna())\n",
    "    print(len(result), 'records found.')\n",
    "    return set(df_tji[df_tji['year']==year]['ois_report_no'].dropna())"
   ]
  },
  {
   "cell_type": "code",
   "execution_count": 12,
   "id": "662b2e6f-87da-466f-9485-35da10e67bac",
   "metadata": {},
   "outputs": [
    {
     "name": "stdout",
     "output_type": "stream",
     "text": [
      "2 records found.\n",
      "2 records found.\n",
      "155 records found.\n",
      "33 records found.\n"
     ]
    }
   ],
   "source": [
    "TJI_2019_c = get_ois_no_tji(df_c, 2019)\n",
    "TJI_2019_o = get_ois_no_tji(df_o, 2019)\n",
    "TJI_2020_c = get_ois_no_tji(df_c, 2020)\n",
    "TJI_2020_o = get_ois_no_tji(df_o, 2020)"
   ]
  },
  {
   "cell_type": "markdown",
   "id": "c8551da4-3768-474c-9bee-fa097ac0fe4a",
   "metadata": {},
   "source": [
    "### 1. Missing in TJI but existing in OAG"
   ]
  },
  {
   "cell_type": "code",
   "execution_count": 13,
   "id": "2c8865cd-c86a-4db1-abf5-929a00d427c3",
   "metadata": {},
   "outputs": [
    {
     "name": "stdout",
     "output_type": "stream",
     "text": [
      "2020, civilian: 39 records\n",
      "2020, officer: 2 records\n"
     ]
    }
   ],
   "source": [
    "print('2020, civilian: {} records'.format(len(OAG_2020_c - TJI_2020_c)))\n",
    "print('2020, officer: {} records'.format(len(OAG_2020_o - TJI_2020_o)))"
   ]
  },
  {
   "cell_type": "markdown",
   "id": "1a69ba53-0f78-46f7-800f-289b32262bfe",
   "metadata": {},
   "source": [
    "**This is incompatiable with what we found from the OAG report.** In the OAG report (2020), they found 194 reports and in the TJI data (as of May 2021), we have 178 reports. So there are only 16 reports missing. However, when we compared the OIS numbers, we found 39 records missing in the TJI data compared to OAG. This means there are errors in either \n",
    "1. the OIS number that OAG sent us\n",
    "2. the OIS number that TJI implemented in our dataset"
   ]
  },
  {
   "cell_type": "markdown",
   "id": "3e9ead50-3dc1-407b-80d0-b503361a94b2",
   "metadata": {},
   "source": [
    "### 2. Missing in OAG but existing in TJI"
   ]
  },
  {
   "cell_type": "code",
   "execution_count": 14,
   "id": "7ad4c534-f745-4478-aa1f-ca25d8c722c0",
   "metadata": {},
   "outputs": [
    {
     "name": "stdout",
     "output_type": "stream",
     "text": [
      "2020, civilian: 0 records\n",
      "2020, officer: 0 records\n"
     ]
    }
   ],
   "source": [
    "print('2020, civilian: {} records'.format(len(TJI_2020_c - OAG_2020_c)))\n",
    "print('2020, officer: {} records'.format(len(TJI_2020_o - OAG_2020_o)))"
   ]
  },
  {
   "cell_type": "markdown",
   "id": "92844807-a1ae-4250-a189-8dd399a6e57e",
   "metadata": {},
   "source": [
    "In 2020, all the records reported in the TJI data also exist in OAG."
   ]
  },
  {
   "cell_type": "markdown",
   "id": "a274e289-0abb-4aeb-905f-7d785294dcc2",
   "metadata": {},
   "source": [
    "## Conclusions\n",
    "- OIS numbers are still very sparse and we can't make comparison for 2019 data.\n",
    "- For the 2020 data, we found 39 records missing in civlian and 2 in officer in the TJI data compared to OAG data. \n",
    "- This 2020 comparison is problematic. Based on the OIS number comparison (this notebook), we should have fewer reports in our 2020 data (39 less) but when we compared the total number of reports based on the OAG annual report 2020 and our data (simply counting the number of reports) we only have (16 less). This requires further investigation."
   ]
  }
 ],
 "metadata": {
  "kernelspec": {
   "display_name": "Python 3",
   "language": "python",
   "name": "python3"
  },
  "language_info": {
   "codemirror_mode": {
    "name": "ipython",
    "version": 3
   },
   "file_extension": ".py",
   "mimetype": "text/x-python",
   "name": "python",
   "nbconvert_exporter": "python",
   "pygments_lexer": "ipython3",
   "version": "3.7.10"
  }
 },
 "nbformat": 4,
 "nbformat_minor": 5
}
