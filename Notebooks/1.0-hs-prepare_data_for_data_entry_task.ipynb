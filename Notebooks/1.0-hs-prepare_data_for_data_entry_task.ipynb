{
 "cells": [
  {
   "cell_type": "code",
   "execution_count": 1,
   "id": "common-ground",
   "metadata": {},
   "outputs": [
    {
     "name": "stdout",
     "output_type": "stream",
     "text": [
      "Author: Hongsup Shin\n",
      "\n",
      "Last updated: 2021-03-03 20:04:28\n",
      "\n",
      "Python implementation: CPython\n",
      "Python version       : 3.7.9\n",
      "IPython version      : 7.20.0\n",
      "\n",
      "Git hash: 56b35164edef17a573db537387e7c2bb5cae037c\n",
      "\n",
      "Git repo: https://github.com/texas-justice-initiative/officer_involved_shooting_report_2020.git\n",
      "\n",
      "Git branch: master\n",
      "\n",
      "pandas: 1.2.2\n",
      "numpy : 1.20.1\n",
      "\n"
     ]
    }
   ],
   "source": [
    "import pandas as pd\n",
    "pd.set_option('precision', 2)\n",
    "import numpy as np\n",
    "\n",
    "# custom module\n",
    "import preprocess\n",
    "\n",
    "%load_ext watermark\n",
    "%load_ext autoreload\n",
    "%autoreload 2\n",
    "%matplotlib inline\n",
    "\n",
    "%watermark -d -t -u -v -g -r -b -iv -a \"Hongsup Shin\" "
   ]
  },
  {
   "cell_type": "markdown",
   "id": "corrected-immunology",
   "metadata": {},
   "source": [
    "# Prepare the data for the data entry task\n",
    "## Motivation\n",
    "We are planning to extract data manually from news articles about OIS incidents. To do so, we will have to look up news articles manually by using information about every incident in the TJI OIS data. Thus, we need to populate the entry spreadsheet Magarita created with existing information.\n",
    "\n",
    "## Challenge\n",
    "The level of details in the TJI dataset about the OIS incidents is high. We could add the entire information but this will easily overwhelm human volunteers and also it's going to be more difficult to make manual inputs in the spreadsheet if we have too many columns (you have to scroll left and right a lot).\n",
    "\n",
    "## Approach\n",
    "Thus, I'd like to curate the information so that we can transfer useful information for human volunteers and leave granular information out. Of course this does not mean that we are ignoring the information that we are leaving out. The spreadsheet that the volunteers work on can be easily merged with the original TJI dataset."
   ]
  },
  {
   "cell_type": "markdown",
   "id": "liable-album",
   "metadata": {},
   "source": [
    "## Background\n",
    "There are two TJI officer-involved shooting (OIS) dataset\"\n",
    "- The civlians who are shot by police officers\n",
    "- The police officers injured or killed in the incidents\n",
    "\n",
    "For this analysis, the data was downloaded from the TJI website on March 3, 2021 by Hongsup Shin."
   ]
  },
  {
   "cell_type": "code",
   "execution_count": 2,
   "id": "removed-variance",
   "metadata": {},
   "outputs": [
    {
     "name": "stdout",
     "output_type": "stream",
     "text": [
      "(877, 143)\n",
      "(167, 47)\n"
     ]
    }
   ],
   "source": [
    "# Quick data preprocessing\n",
    "# loading data\n",
    "df_cd = pd.read_csv('../Data/Raw/Website/Mar2021/tji_civilians-shot.csv')\n",
    "df_os = pd.read_csv('../Data/Raw/Website/Mar2021/tji_officers-shot.csv')\n",
    "\n",
    "# Convert all date columns into the right format\n",
    "df_cd = preprocess.convert_date_cols(df_cd, 'date')\n",
    "df_os = preprocess.convert_date_cols(df_os, 'date')\n",
    "\n",
    "# Select data from 2016 to 2020\n",
    "years = np.arange(2016, 2021) # this is 2016 to 2020 not 2021\n",
    "df_cd = df_cd.loc[df_cd['date_incident'].dt.year.isin(years)]; print(df_cd.shape)\n",
    "df_os = df_os.loc[df_os['date_incident'].dt.year.isin(years)]; print(df_os.shape)"
   ]
  },
  {
   "cell_type": "markdown",
   "id": "heard-criticism",
   "metadata": {},
   "source": [
    "## 1. Civilian data"
   ]
  },
  {
   "cell_type": "markdown",
   "id": "every-packing",
   "metadata": {},
   "source": [
    "As you can see below, the original data has a lot of columns. If we add all of them, it will be overwhelming."
   ]
  },
  {
   "cell_type": "code",
   "execution_count": 3,
   "id": "extended-shock",
   "metadata": {},
   "outputs": [
    {
     "name": "stdout",
     "output_type": "stream",
     "text": [
      "['agency_city_1' 'agency_city_10' 'agency_city_11' 'agency_city_2'\n",
      " 'agency_city_3' 'agency_city_4' 'agency_city_5' 'agency_city_6'\n",
      " 'agency_city_7' 'agency_city_8' 'agency_city_9' 'agency_county_1'\n",
      " 'agency_county_10' 'agency_county_2' 'agency_county_3' 'agency_county_4'\n",
      " 'agency_county_5' 'agency_county_6' 'agency_county_7' 'agency_county_8'\n",
      " 'agency_county_9' 'agency_email_person_filling_out_1'\n",
      " 'agency_email_person_filling_out_10' 'agency_email_person_filling_out_11'\n",
      " 'agency_email_person_filling_out_2' 'agency_email_person_filling_out_3'\n",
      " 'agency_email_person_filling_out_4' 'agency_email_person_filling_out_5'\n",
      " 'agency_email_person_filling_out_6' 'agency_email_person_filling_out_7'\n",
      " 'agency_email_person_filling_out_8' 'agency_email_person_filling_out_9'\n",
      " 'agency_name_1' 'agency_name_10' 'agency_name_11' 'agency_name_2'\n",
      " 'agency_name_3' 'agency_name_4' 'agency_name_5' 'agency_name_6'\n",
      " 'agency_name_7' 'agency_name_8' 'agency_name_9'\n",
      " 'agency_name_person_filling_out_1' 'agency_name_person_filling_out_10'\n",
      " 'agency_name_person_filling_out_11' 'agency_name_person_filling_out_2'\n",
      " 'agency_name_person_filling_out_3' 'agency_name_person_filling_out_4'\n",
      " 'agency_name_person_filling_out_5' 'agency_name_person_filling_out_6'\n",
      " 'agency_name_person_filling_out_7' 'agency_name_person_filling_out_8'\n",
      " 'agency_name_person_filling_out_9' 'agency_report_date_1'\n",
      " 'agency_report_date_10' 'agency_report_date_11' 'agency_report_date_2'\n",
      " 'agency_report_date_3' 'agency_report_date_4' 'agency_report_date_5'\n",
      " 'agency_report_date_6' 'agency_report_date_7' 'agency_report_date_8'\n",
      " 'agency_report_date_9' 'agency_zip_1' 'agency_zip_10' 'agency_zip_11'\n",
      " 'agency_zip_2' 'agency_zip_3' 'agency_zip_4' 'agency_zip_5'\n",
      " 'agency_zip_6' 'agency_zip_7' 'agency_zip_8' 'agency_zip_9'\n",
      " 'cdr_narrative' 'civilian_age' 'civilian_died' 'civilian_gender'\n",
      " 'civilian_name_first' 'civilian_name_full' 'civilian_name_last'\n",
      " 'civilian_race' 'custodial_death_report' 'date_ag_received'\n",
      " 'date_incident' 'deadly_weapon' 'incident_address' 'incident_call_other'\n",
      " 'incident_city' 'incident_county' 'incident_result_of' 'incident_zip'\n",
      " 'lea_narrative_published' 'lea_narrative_shorter'\n",
      " 'multiple_officers_involved' 'news_coverage_1' 'news_coverage_2'\n",
      " 'news_coverage_3' 'news_coverage_4' 'num_officers_recorded'\n",
      " 'num_reports_filed' 'num_rows_about_this_incident' 'officer_age_1'\n",
      " 'officer_age_10' 'officer_age_11' 'officer_age_2' 'officer_age_3'\n",
      " 'officer_age_4' 'officer_age_5' 'officer_age_6' 'officer_age_7'\n",
      " 'officer_age_8' 'officer_age_9' 'officer_caused_injury_2'\n",
      " 'officer_caused_injury_3' 'officer_gender_1' 'officer_gender_10'\n",
      " 'officer_gender_11' 'officer_gender_2' 'officer_gender_3'\n",
      " 'officer_gender_4' 'officer_gender_5' 'officer_gender_6'\n",
      " 'officer_gender_7' 'officer_gender_8' 'officer_gender_9'\n",
      " 'officer_on_duty' 'officer_race_1' 'officer_race_10' 'officer_race_11'\n",
      " 'officer_race_2' 'officer_race_3' 'officer_race_4' 'officer_race_5'\n",
      " 'officer_race_6' 'officer_race_7' 'officer_race_8' 'officer_race_9'\n",
      " 'time_incident' 'weapon_reported_by_media'\n",
      " 'weapon_reported_by_media_category']\n"
     ]
    }
   ],
   "source": [
    "print(np.sort(df_cd.columns))"
   ]
  },
  {
   "cell_type": "markdown",
   "id": "proved-plaintiff",
   "metadata": {},
   "source": [
    "## Which information in the civilian dataset is going to be copied to the entry sheet?\n",
    "\n",
    "|Information category| Comprehensive informatin within the category | What will be copied to the spreadsheet|\n",
    "|---|---|--|\n",
    "|**Agency** | name, location (city, county, zip code), email address of the peson who filed the report, report date, date that agency received the report, the number of reports filed| name|\n",
    "| **Civilian** | name, demographics (race (white, black, hispanic, other), gender (male, female), age at the time of incident), whether they were injured or died, date of incident| all |\n",
    "|**Incident**|time and date, location (city, county, zip code, address), whether civilian carried a deadly weapon, the reason of officers' involvement (the 5 categories the OAG reports use and more details in textual form)| time, date, deadly weapon possession, incident cause|\n",
    "|**Report**| date that report was filed, whether the custodial death report was filed| none |\n",
    "|**Media**| names of the news media which covered the incident| all |\n",
    "|**Officer**| demographics (race, gender, age), details of the officer-caused injury (less than 10% of the data is populated), whether the officer was on duty, whether multiple officers were involved, the number of officers reported| on-duty-ness, mutiple-officer, number of officers |\n",
    "\n",
    "*The third column is based on my own judgment. So please let me know if you think more information should be added (among the ones in the second column).*"
   ]
  },
  {
   "cell_type": "code",
   "execution_count": 4,
   "id": "heard-values",
   "metadata": {},
   "outputs": [],
   "source": [
    "def get_cols_by_substr(df, substr):\n",
    "    ### find columns in the dataset if they contain the substr\n",
    "    return df.columns[df.columns.str.contains(substr)]"
   ]
  },
  {
   "cell_type": "markdown",
   "id": "mental-batman",
   "metadata": {},
   "source": [
    "### Agency names "
   ]
  },
  {
   "cell_type": "markdown",
   "id": "furnished-arlington",
   "metadata": {},
   "source": [
    "Multiple agencies can be involved. There are 11 columns that show agency names. If we add all of them, we will have a lot of redundant information. So below, I am going to merge all 11 columns and only use the unique values of them. \n",
    "\n",
    "Example 1\n",
    "- Before: ['Houston PD', 'Houston PD', 'Houston PD', 'Houston PD']\n",
    "- After: ['Houston PD']\n",
    "\n",
    "Example 2:\n",
    "- Before: ['Houston PD', 'Houston PD', 'Houston PD', 'Austin PD']\n",
    "- After: ['Houston PD', 'Austin PD']"
   ]
  },
  {
   "cell_type": "code",
   "execution_count": 5,
   "id": "billion-luther",
   "metadata": {},
   "outputs": [
    {
     "name": "stdout",
     "output_type": "stream",
     "text": [
      "Index(['agency_name_1', 'agency_name_10', 'agency_name_11', 'agency_name_2',\n",
      "       'agency_name_3', 'agency_name_4', 'agency_name_5', 'agency_name_6',\n",
      "       'agency_name_7', 'agency_name_8', 'agency_name_9'],\n",
      "      dtype='object')\n"
     ]
    }
   ],
   "source": [
    "cols_agency_names = get_cols_by_substr(df_cd, 'agency_name').difference(\n",
    "    get_cols_by_substr(df_cd, 'agency_name_person_filling_out'))\n",
    "print(cols_agency_names)"
   ]
  },
  {
   "cell_type": "code",
   "execution_count": 6,
   "id": "distinct-corruption",
   "metadata": {},
   "outputs": [],
   "source": [
    "df_cd_agency_names_merged = df_cd[cols_agency_names].apply(lambda x: list(set(','.join(x.dropna()).split(','))), axis=1)\n",
    "df_cd_agency_names_merged = df_cd_agency_names_merged.to_frame()\n",
    "df_cd_agency_names_merged.columns = ['agency_names']"
   ]
  },
  {
   "cell_type": "code",
   "execution_count": 7,
   "id": "smooth-server",
   "metadata": {},
   "outputs": [
    {
     "data": {
      "text/html": [
       "<div>\n",
       "<style scoped>\n",
       "    .dataframe tbody tr th:only-of-type {\n",
       "        vertical-align: middle;\n",
       "    }\n",
       "\n",
       "    .dataframe tbody tr th {\n",
       "        vertical-align: top;\n",
       "    }\n",
       "\n",
       "    .dataframe thead th {\n",
       "        text-align: right;\n",
       "    }\n",
       "</style>\n",
       "<table border=\"1\" class=\"dataframe\">\n",
       "  <thead>\n",
       "    <tr style=\"text-align: right;\">\n",
       "      <th></th>\n",
       "      <th>agency_names</th>\n",
       "    </tr>\n",
       "  </thead>\n",
       "  <tbody>\n",
       "    <tr>\n",
       "      <th>66</th>\n",
       "      <td>[SWEETWATER POLICE DEPT]</td>\n",
       "    </tr>\n",
       "    <tr>\n",
       "      <th>67</th>\n",
       "      <td>[FORNEY POLICE DEPT]</td>\n",
       "    </tr>\n",
       "    <tr>\n",
       "      <th>68</th>\n",
       "      <td>[ABILENE POLICE DEPT]</td>\n",
       "    </tr>\n",
       "    <tr>\n",
       "      <th>69</th>\n",
       "      <td>[SAN ANTONIO POLICE DEPT]</td>\n",
       "    </tr>\n",
       "    <tr>\n",
       "      <th>70</th>\n",
       "      <td>[MESQUITE POLICE DEPT, FORNEY POLICE DEPT]</td>\n",
       "    </tr>\n",
       "  </tbody>\n",
       "</table>\n",
       "</div>"
      ],
      "text/plain": [
       "                                  agency_names\n",
       "66                    [SWEETWATER POLICE DEPT]\n",
       "67                        [FORNEY POLICE DEPT]\n",
       "68                       [ABILENE POLICE DEPT]\n",
       "69                   [SAN ANTONIO POLICE DEPT]\n",
       "70  [MESQUITE POLICE DEPT, FORNEY POLICE DEPT]"
      ]
     },
     "execution_count": 7,
     "metadata": {},
     "output_type": "execute_result"
    }
   ],
   "source": [
    "df_cd_agency_names_merged.head()"
   ]
  },
  {
   "cell_type": "markdown",
   "id": "private-spirituality",
   "metadata": {},
   "source": [
    "### Civilian names"
   ]
  },
  {
   "cell_type": "markdown",
   "id": "registered-dryer",
   "metadata": {},
   "source": [
    "There are 3 columns that represent civilian names; first, last and full. We can just use first and last name and drop the full name column because when we merge the first and last names, they are identical to the full name."
   ]
  },
  {
   "cell_type": "code",
   "execution_count": 8,
   "id": "velvet-proxy",
   "metadata": {},
   "outputs": [
    {
     "data": {
      "text/plain": [
       "(210, 3)"
      ]
     },
     "execution_count": 8,
     "metadata": {},
     "output_type": "execute_result"
    }
   ],
   "source": [
    "civilian_name_merged = df_cd[['civilian_name_first', 'civilian_name_last']].apply(lambda x: ' '.join(x.dropna()), axis=1) \n",
    "df_cd.loc[df_cd['civilian_name_full'] != civilian_name_merged, ['civilian_name_first', 'civilian_name_last', 'civilian_name_full']].shape"
   ]
  },
  {
   "cell_type": "markdown",
   "id": "unnecessary-supervision",
   "metadata": {},
   "source": [
    "**Warning: I found that there are 210 incidents where we don't have victim's names.**"
   ]
  },
  {
   "cell_type": "code",
   "execution_count": 9,
   "id": "known-mining",
   "metadata": {},
   "outputs": [
    {
     "data": {
      "text/plain": [
       "civilian_name_first    211\n",
       "civilian_name_last     210\n",
       "civilian_name_full     210\n",
       "dtype: int64"
      ]
     },
     "execution_count": 9,
     "metadata": {},
     "output_type": "execute_result"
    }
   ],
   "source": [
    "df_cd[['civilian_name_first', 'civilian_name_last', 'civilian_name_full']].isnull().sum()"
   ]
  },
  {
   "cell_type": "markdown",
   "id": "attempted-round",
   "metadata": {},
   "source": [
    "### Reordering columns manually for convenience\n",
    "To minimize the burden of human data collectors, I have reordered the column names so that they can easily look up the incidents on the web."
   ]
  },
  {
   "cell_type": "code",
   "execution_count": 10,
   "id": "tough-heath",
   "metadata": {},
   "outputs": [
    {
     "data": {
      "text/plain": [
       "array(['agency_city_1', 'agency_city_10', 'agency_city_11',\n",
       "       'agency_city_2', 'agency_city_3', 'agency_city_4', 'agency_city_5',\n",
       "       'agency_city_6', 'agency_city_7', 'agency_city_8', 'agency_city_9',\n",
       "       'agency_county_1', 'agency_county_10', 'agency_county_2',\n",
       "       'agency_county_3', 'agency_county_4', 'agency_county_5',\n",
       "       'agency_county_6', 'agency_county_7', 'agency_county_8',\n",
       "       'agency_county_9', 'agency_email_person_filling_out_1',\n",
       "       'agency_email_person_filling_out_10',\n",
       "       'agency_email_person_filling_out_11',\n",
       "       'agency_email_person_filling_out_2',\n",
       "       'agency_email_person_filling_out_3',\n",
       "       'agency_email_person_filling_out_4',\n",
       "       'agency_email_person_filling_out_5',\n",
       "       'agency_email_person_filling_out_6',\n",
       "       'agency_email_person_filling_out_7',\n",
       "       'agency_email_person_filling_out_8',\n",
       "       'agency_email_person_filling_out_9', 'agency_name_1',\n",
       "       'agency_name_10', 'agency_name_11', 'agency_name_2',\n",
       "       'agency_name_3', 'agency_name_4', 'agency_name_5', 'agency_name_6',\n",
       "       'agency_name_7', 'agency_name_8', 'agency_name_9',\n",
       "       'agency_name_person_filling_out_1',\n",
       "       'agency_name_person_filling_out_10',\n",
       "       'agency_name_person_filling_out_11',\n",
       "       'agency_name_person_filling_out_2',\n",
       "       'agency_name_person_filling_out_3',\n",
       "       'agency_name_person_filling_out_4',\n",
       "       'agency_name_person_filling_out_5',\n",
       "       'agency_name_person_filling_out_6',\n",
       "       'agency_name_person_filling_out_7',\n",
       "       'agency_name_person_filling_out_8',\n",
       "       'agency_name_person_filling_out_9', 'agency_report_date_1',\n",
       "       'agency_report_date_10', 'agency_report_date_11',\n",
       "       'agency_report_date_2', 'agency_report_date_3',\n",
       "       'agency_report_date_4', 'agency_report_date_5',\n",
       "       'agency_report_date_6', 'agency_report_date_7',\n",
       "       'agency_report_date_8', 'agency_report_date_9', 'agency_zip_1',\n",
       "       'agency_zip_10', 'agency_zip_11', 'agency_zip_2', 'agency_zip_3',\n",
       "       'agency_zip_4', 'agency_zip_5', 'agency_zip_6', 'agency_zip_7',\n",
       "       'agency_zip_8', 'agency_zip_9', 'cdr_narrative', 'civilian_age',\n",
       "       'civilian_died', 'civilian_gender', 'civilian_name_first',\n",
       "       'civilian_name_full', 'civilian_name_last', 'civilian_race',\n",
       "       'custodial_death_report', 'date_ag_received', 'date_incident',\n",
       "       'deadly_weapon', 'incident_address', 'incident_call_other',\n",
       "       'incident_city', 'incident_county', 'incident_result_of',\n",
       "       'incident_zip', 'lea_narrative_published', 'lea_narrative_shorter',\n",
       "       'multiple_officers_involved', 'news_coverage_1', 'news_coverage_2',\n",
       "       'news_coverage_3', 'news_coverage_4', 'num_officers_recorded',\n",
       "       'num_reports_filed', 'num_rows_about_this_incident',\n",
       "       'officer_age_1', 'officer_age_10', 'officer_age_11',\n",
       "       'officer_age_2', 'officer_age_3', 'officer_age_4', 'officer_age_5',\n",
       "       'officer_age_6', 'officer_age_7', 'officer_age_8', 'officer_age_9',\n",
       "       'officer_caused_injury_2', 'officer_caused_injury_3',\n",
       "       'officer_gender_1', 'officer_gender_10', 'officer_gender_11',\n",
       "       'officer_gender_2', 'officer_gender_3', 'officer_gender_4',\n",
       "       'officer_gender_5', 'officer_gender_6', 'officer_gender_7',\n",
       "       'officer_gender_8', 'officer_gender_9', 'officer_on_duty',\n",
       "       'officer_race_1', 'officer_race_10', 'officer_race_11',\n",
       "       'officer_race_2', 'officer_race_3', 'officer_race_4',\n",
       "       'officer_race_5', 'officer_race_6', 'officer_race_7',\n",
       "       'officer_race_8', 'officer_race_9', 'time_incident',\n",
       "       'weapon_reported_by_media', 'weapon_reported_by_media_category'],\n",
       "      dtype=object)"
      ]
     },
     "execution_count": 10,
     "metadata": {},
     "output_type": "execute_result"
    }
   ],
   "source": [
    "np.sort(df_cd.columns)"
   ]
  },
  {
   "cell_type": "code",
   "execution_count": 11,
   "id": "particular-skirt",
   "metadata": {},
   "outputs": [],
   "source": [
    "cols_civilian = ['date_incident',\n",
    "                 'time_incident',\n",
    "                 'incident_address',\n",
    "                 'incident_city',\n",
    "                 'incident_county',\n",
    "                 'incident_zip',\n",
    "                 'civilian_name_first', \n",
    "                 'civilian_name_last',\n",
    "                 'civilian_race',\n",
    "                 'civilian_gender',\n",
    "                 'civilian_age',\n",
    "                 'civilian_died',\n",
    "                 'deadly_weapon',\n",
    "                 'incident_result_of',\n",
    "                 'multiple_officers_involved',\n",
    "                 'num_officers_recorded',\n",
    "                 'officer_on_duty',\n",
    "                 'news_coverage_1',\n",
    "                 'news_coverage_2',\n",
    "                 'news_coverage_3',\n",
    "                 'news_coverage_4',\n",
    "                 'num_rows_about_this_incident']"
   ]
  },
  {
   "cell_type": "code",
   "execution_count": 12,
   "id": "lesser-helena",
   "metadata": {},
   "outputs": [],
   "source": [
    "df_cd_ready = pd.concat([df_cd[cols_civilian], df_cd_agency_names_merged], axis=1)"
   ]
  },
  {
   "cell_type": "markdown",
   "id": "trying-patent",
   "metadata": {},
   "source": [
    "First 5 example:"
   ]
  },
  {
   "cell_type": "code",
   "execution_count": 13,
   "id": "muslim-cisco",
   "metadata": {},
   "outputs": [
    {
     "data": {
      "text/html": [
       "<div>\n",
       "<style scoped>\n",
       "    .dataframe tbody tr th:only-of-type {\n",
       "        vertical-align: middle;\n",
       "    }\n",
       "\n",
       "    .dataframe tbody tr th {\n",
       "        vertical-align: top;\n",
       "    }\n",
       "\n",
       "    .dataframe thead th {\n",
       "        text-align: right;\n",
       "    }\n",
       "</style>\n",
       "<table border=\"1\" class=\"dataframe\">\n",
       "  <thead>\n",
       "    <tr style=\"text-align: right;\">\n",
       "      <th></th>\n",
       "      <th>date_incident</th>\n",
       "      <th>time_incident</th>\n",
       "      <th>incident_address</th>\n",
       "      <th>incident_city</th>\n",
       "      <th>incident_county</th>\n",
       "      <th>incident_zip</th>\n",
       "      <th>civilian_name_first</th>\n",
       "      <th>civilian_name_last</th>\n",
       "      <th>civilian_race</th>\n",
       "      <th>civilian_gender</th>\n",
       "      <th>...</th>\n",
       "      <th>incident_result_of</th>\n",
       "      <th>multiple_officers_involved</th>\n",
       "      <th>num_officers_recorded</th>\n",
       "      <th>officer_on_duty</th>\n",
       "      <th>news_coverage_1</th>\n",
       "      <th>news_coverage_2</th>\n",
       "      <th>news_coverage_3</th>\n",
       "      <th>news_coverage_4</th>\n",
       "      <th>num_rows_about_this_incident</th>\n",
       "      <th>agency_names</th>\n",
       "    </tr>\n",
       "  </thead>\n",
       "  <tbody>\n",
       "    <tr>\n",
       "      <th>66</th>\n",
       "      <td>2016-01-02</td>\n",
       "      <td>NaN</td>\n",
       "      <td>2000 LAMAR STREET</td>\n",
       "      <td>SWEETWATER</td>\n",
       "      <td>NOLAN</td>\n",
       "      <td>79556.0</td>\n",
       "      <td>LANCE</td>\n",
       "      <td>LIGHT</td>\n",
       "      <td>WHITE</td>\n",
       "      <td>MALE</td>\n",
       "      <td>...</td>\n",
       "      <td>EMERGENCY CALL OR REQUEST FOR ASSISTANCE</td>\n",
       "      <td>True</td>\n",
       "      <td>1</td>\n",
       "      <td>True</td>\n",
       "      <td>KTXS</td>\n",
       "      <td>ABILENE REPORTER NEWS</td>\n",
       "      <td>KTXS</td>\n",
       "      <td>BIG COUNTRY HOMEPAGE</td>\n",
       "      <td>1</td>\n",
       "      <td>[SWEETWATER POLICE DEPT]</td>\n",
       "    </tr>\n",
       "    <tr>\n",
       "      <th>67</th>\n",
       "      <td>2016-01-03</td>\n",
       "      <td>NaN</td>\n",
       "      <td>FM 2932 &amp; FM 741</td>\n",
       "      <td>UNINCORPORATED</td>\n",
       "      <td>KAUFMAN</td>\n",
       "      <td>75126.0</td>\n",
       "      <td>CODY</td>\n",
       "      <td>WESBERRY</td>\n",
       "      <td>WHITE</td>\n",
       "      <td>MALE</td>\n",
       "      <td>...</td>\n",
       "      <td>OTHER - SPECIFY TYPE OF CALL</td>\n",
       "      <td>False</td>\n",
       "      <td>1</td>\n",
       "      <td>False</td>\n",
       "      <td>DALLAS MORNING NEWS</td>\n",
       "      <td>NBC DFW</td>\n",
       "      <td>IN FORNEY</td>\n",
       "      <td>FOX 4 NEWS</td>\n",
       "      <td>1</td>\n",
       "      <td>[FORNEY POLICE DEPT]</td>\n",
       "    </tr>\n",
       "    <tr>\n",
       "      <th>68</th>\n",
       "      <td>2016-01-04</td>\n",
       "      <td>NaN</td>\n",
       "      <td>1142 BURGER STREET</td>\n",
       "      <td>ABILENE</td>\n",
       "      <td>TAYLOR</td>\n",
       "      <td>79603.0</td>\n",
       "      <td>DEREK LEE</td>\n",
       "      <td>CASEY</td>\n",
       "      <td>BLACK</td>\n",
       "      <td>MALE</td>\n",
       "      <td>...</td>\n",
       "      <td>EMERGENCY CALL OR REQUEST FOR ASSISTANCE</td>\n",
       "      <td>True</td>\n",
       "      <td>2</td>\n",
       "      <td>True</td>\n",
       "      <td>KTXS</td>\n",
       "      <td>ABILENE REPORTER NEWS</td>\n",
       "      <td>BIG COUNTRY HOMEPAGE</td>\n",
       "      <td>LUBBOCK AVALANCHE JOURNAL</td>\n",
       "      <td>1</td>\n",
       "      <td>[ABILENE POLICE DEPT]</td>\n",
       "    </tr>\n",
       "    <tr>\n",
       "      <th>69</th>\n",
       "      <td>2016-01-17</td>\n",
       "      <td>NaN</td>\n",
       "      <td>5639 OLD HWY 90 W</td>\n",
       "      <td>SAN ANTONIO</td>\n",
       "      <td>BEXAR</td>\n",
       "      <td>78227.0</td>\n",
       "      <td>ASHTON LANE</td>\n",
       "      <td>MORRIS</td>\n",
       "      <td>WHITE</td>\n",
       "      <td>MALE</td>\n",
       "      <td>...</td>\n",
       "      <td>EMERGENCY CALL OR REQUEST FOR ASSISTANCE</td>\n",
       "      <td>True</td>\n",
       "      <td>1</td>\n",
       "      <td>True</td>\n",
       "      <td>KENS 5</td>\n",
       "      <td>MY SAN ANTONIO</td>\n",
       "      <td>KSAT</td>\n",
       "      <td>NaN</td>\n",
       "      <td>1</td>\n",
       "      <td>[SAN ANTONIO POLICE DEPT]</td>\n",
       "    </tr>\n",
       "    <tr>\n",
       "      <th>70</th>\n",
       "      <td>2016-01-19</td>\n",
       "      <td>NaN</td>\n",
       "      <td>1100 RIVERWOOD</td>\n",
       "      <td>DALLAS</td>\n",
       "      <td>DALLAS</td>\n",
       "      <td>75217.0</td>\n",
       "      <td>GARY WAYNE</td>\n",
       "      <td>JONES</td>\n",
       "      <td>WHITE</td>\n",
       "      <td>MALE</td>\n",
       "      <td>...</td>\n",
       "      <td>OTHER - SPECIFY TYPE OF CALL</td>\n",
       "      <td>True</td>\n",
       "      <td>3</td>\n",
       "      <td>True</td>\n",
       "      <td>DFW CBS LOCAL</td>\n",
       "      <td>DALLAS MORNING NEWS</td>\n",
       "      <td>NBC DFW</td>\n",
       "      <td>FOX 4 NEWS</td>\n",
       "      <td>1</td>\n",
       "      <td>[MESQUITE POLICE DEPT, FORNEY POLICE DEPT]</td>\n",
       "    </tr>\n",
       "  </tbody>\n",
       "</table>\n",
       "<p>5 rows × 23 columns</p>\n",
       "</div>"
      ],
      "text/plain": [
       "   date_incident time_incident    incident_address   incident_city  \\\n",
       "66    2016-01-02           NaN   2000 LAMAR STREET      SWEETWATER   \n",
       "67    2016-01-03           NaN    FM 2932 & FM 741  UNINCORPORATED   \n",
       "68    2016-01-04           NaN  1142 BURGER STREET         ABILENE   \n",
       "69    2016-01-17           NaN   5639 OLD HWY 90 W     SAN ANTONIO   \n",
       "70    2016-01-19           NaN      1100 RIVERWOOD          DALLAS   \n",
       "\n",
       "   incident_county  incident_zip civilian_name_first civilian_name_last  \\\n",
       "66           NOLAN       79556.0               LANCE              LIGHT   \n",
       "67         KAUFMAN       75126.0                CODY           WESBERRY   \n",
       "68          TAYLOR       79603.0           DEREK LEE              CASEY   \n",
       "69           BEXAR       78227.0         ASHTON LANE             MORRIS   \n",
       "70          DALLAS       75217.0          GARY WAYNE              JONES   \n",
       "\n",
       "   civilian_race civilian_gender  ...  \\\n",
       "66         WHITE            MALE  ...   \n",
       "67         WHITE            MALE  ...   \n",
       "68         BLACK            MALE  ...   \n",
       "69         WHITE            MALE  ...   \n",
       "70         WHITE            MALE  ...   \n",
       "\n",
       "                          incident_result_of multiple_officers_involved  \\\n",
       "66  EMERGENCY CALL OR REQUEST FOR ASSISTANCE                       True   \n",
       "67              OTHER - SPECIFY TYPE OF CALL                      False   \n",
       "68  EMERGENCY CALL OR REQUEST FOR ASSISTANCE                       True   \n",
       "69  EMERGENCY CALL OR REQUEST FOR ASSISTANCE                       True   \n",
       "70              OTHER - SPECIFY TYPE OF CALL                       True   \n",
       "\n",
       "    num_officers_recorded officer_on_duty      news_coverage_1  \\\n",
       "66                      1            True                 KTXS   \n",
       "67                      1           False  DALLAS MORNING NEWS   \n",
       "68                      2            True                 KTXS   \n",
       "69                      1            True               KENS 5   \n",
       "70                      3            True        DFW CBS LOCAL   \n",
       "\n",
       "          news_coverage_2       news_coverage_3            news_coverage_4  \\\n",
       "66  ABILENE REPORTER NEWS                  KTXS       BIG COUNTRY HOMEPAGE   \n",
       "67                NBC DFW             IN FORNEY                 FOX 4 NEWS   \n",
       "68  ABILENE REPORTER NEWS  BIG COUNTRY HOMEPAGE  LUBBOCK AVALANCHE JOURNAL   \n",
       "69         MY SAN ANTONIO                  KSAT                        NaN   \n",
       "70    DALLAS MORNING NEWS               NBC DFW                 FOX 4 NEWS   \n",
       "\n",
       "   num_rows_about_this_incident                                agency_names  \n",
       "66                            1                    [SWEETWATER POLICE DEPT]  \n",
       "67                            1                        [FORNEY POLICE DEPT]  \n",
       "68                            1                       [ABILENE POLICE DEPT]  \n",
       "69                            1                   [SAN ANTONIO POLICE DEPT]  \n",
       "70                            1  [MESQUITE POLICE DEPT, FORNEY POLICE DEPT]  \n",
       "\n",
       "[5 rows x 23 columns]"
      ]
     },
     "execution_count": 13,
     "metadata": {},
     "output_type": "execute_result"
    }
   ],
   "source": [
    "df_cd_ready.head()"
   ]
  },
  {
   "cell_type": "code",
   "execution_count": 14,
   "id": "labeled-infection",
   "metadata": {},
   "outputs": [
    {
     "data": {
      "text/plain": [
       "(877, 23)"
      ]
     },
     "execution_count": 14,
     "metadata": {},
     "output_type": "execute_result"
    }
   ],
   "source": [
    "df_cd_ready.shape"
   ]
  },
  {
   "cell_type": "markdown",
   "id": "compatible-identity",
   "metadata": {},
   "source": [
    "## 2. Officer data"
   ]
  },
  {
   "cell_type": "markdown",
   "id": "involved-thanks",
   "metadata": {},
   "source": [
    "The officer data also has a lot of columns. We will need to clean them up a bit."
   ]
  },
  {
   "cell_type": "code",
   "execution_count": 15,
   "id": "stainless-maryland",
   "metadata": {},
   "outputs": [
    {
     "name": "stdout",
     "output_type": "stream",
     "text": [
      "['agency_city_1' 'agency_city_2' 'agency_county_1' 'agency_county_2'\n",
      " 'agency_email_person_filling_out_1' 'agency_email_person_filling_out_2'\n",
      " 'agency_name_1' 'agency_name_2' 'agency_name_person_filling_out_1'\n",
      " 'agency_name_person_filling_out_2' 'agency_report_date_1'\n",
      " 'agency_report_date_2' 'agency_zip_1' 'agency_zip_2' 'civilian_age_1'\n",
      " 'civilian_age_2' 'civilian_age_3' 'civilian_gender_1' 'civilian_gender_2'\n",
      " 'civilian_gender_3' 'civilian_harm' 'civilian_name_first_1'\n",
      " 'civilian_name_first_2' 'civilian_name_first_3' 'civilian_name_last_1'\n",
      " 'civilian_name_last_2' 'civilian_name_last_3' 'civilian_race_1'\n",
      " 'civilian_race_2' 'civilian_race_3' 'civilian_suicide' 'date_ag_received'\n",
      " 'date_incident' 'incident_address' 'incident_city' 'incident_county'\n",
      " 'incident_zip' 'media_link_1' 'media_link_2' 'media_link_3'\n",
      " 'num_civilians_recorded' 'officer_age' 'officer_gender' 'officer_harm'\n",
      " 'officer_name_first' 'officer_name_last' 'officer_race']\n"
     ]
    }
   ],
   "source": [
    "print(np.sort(df_os.columns))"
   ]
  },
  {
   "cell_type": "markdown",
   "id": "minimal-dietary",
   "metadata": {},
   "source": [
    "### Which information in the officer dataset is going to be copied to the entry sheet?\n",
    "\n",
    "|Information category| Comprehensive informatin within the category | What will be copied to the spreadsheet|\n",
    "|---|---|--|\n",
    "|**Agency**|name, location, name of the person who filed the report, report date| name |\n",
    "|**Officer**|name, demographics (race, gender, age), whether the officer died or got injured| all|\n",
    "|**Civilian**|name, demographics (race, gender, age), whether the civilian died, got injured, or nothing happened to them, whether the civilian committed suicide| civilian harm, suicide, num of civilians|\n",
    "|**Incident**| date, location | all|\n",
    "|**Media**|links to media reports|all|\n",
    "\n",
    "*The third column is based on my own judgment. So please let me know if you think more information should be added (among the ones in the second column).*"
   ]
  },
  {
   "cell_type": "markdown",
   "id": "civilian-kidney",
   "metadata": {},
   "source": [
    "### Agency names\n",
    "Applying the same logic as the civilian data"
   ]
  },
  {
   "cell_type": "code",
   "execution_count": 16,
   "id": "following-chicken",
   "metadata": {},
   "outputs": [],
   "source": [
    "cols_agency_names = get_cols_by_substr(df_os, 'agency_name').difference(\n",
    "    get_cols_by_substr(df_os, 'agency_name_person_filling_out'))\n",
    "df_os_agency_names_merged = df_os[cols_agency_names].apply(lambda x: list(set(','.join(x.dropna()).split(','))), axis=1)\n",
    "df_os_agency_names_merged = df_os_agency_names_merged.to_frame()\n",
    "df_os_agency_names_merged.columns = ['agency_names']"
   ]
  },
  {
   "cell_type": "code",
   "execution_count": 17,
   "id": "mediterranean-sweden",
   "metadata": {},
   "outputs": [
    {
     "data": {
      "text/html": [
       "<div>\n",
       "<style scoped>\n",
       "    .dataframe tbody tr th:only-of-type {\n",
       "        vertical-align: middle;\n",
       "    }\n",
       "\n",
       "    .dataframe tbody tr th {\n",
       "        vertical-align: top;\n",
       "    }\n",
       "\n",
       "    .dataframe thead th {\n",
       "        text-align: right;\n",
       "    }\n",
       "</style>\n",
       "<table border=\"1\" class=\"dataframe\">\n",
       "  <thead>\n",
       "    <tr style=\"text-align: right;\">\n",
       "      <th></th>\n",
       "      <th>agency_names</th>\n",
       "    </tr>\n",
       "  </thead>\n",
       "  <tbody>\n",
       "    <tr>\n",
       "      <th>5</th>\n",
       "      <td>[HOUSTON POLICE DEPT]</td>\n",
       "    </tr>\n",
       "    <tr>\n",
       "      <th>6</th>\n",
       "      <td>[HOUSTON POLICE DEPT]</td>\n",
       "    </tr>\n",
       "    <tr>\n",
       "      <th>7</th>\n",
       "      <td>[MONTGOMERY CO CONST PCT 3]</td>\n",
       "    </tr>\n",
       "    <tr>\n",
       "      <th>8</th>\n",
       "      <td>[HOUSTON POLICE DEPT]</td>\n",
       "    </tr>\n",
       "    <tr>\n",
       "      <th>9</th>\n",
       "      <td>[EULESS POLICE DEPT]</td>\n",
       "    </tr>\n",
       "  </tbody>\n",
       "</table>\n",
       "</div>"
      ],
      "text/plain": [
       "                  agency_names\n",
       "5        [HOUSTON POLICE DEPT]\n",
       "6        [HOUSTON POLICE DEPT]\n",
       "7  [MONTGOMERY CO CONST PCT 3]\n",
       "8        [HOUSTON POLICE DEPT]\n",
       "9         [EULESS POLICE DEPT]"
      ]
     },
     "execution_count": 17,
     "metadata": {},
     "output_type": "execute_result"
    }
   ],
   "source": [
    "df_os_agency_names_merged.head()"
   ]
  },
  {
   "cell_type": "markdown",
   "id": "gross-newman",
   "metadata": {},
   "source": [
    "### Reordering columns manually for convenience"
   ]
  },
  {
   "cell_type": "code",
   "execution_count": 18,
   "id": "pointed-century",
   "metadata": {},
   "outputs": [],
   "source": [
    "cols_officer = ['date_incident', # time information is include in the date column but not 100% reliable\n",
    "                'incident_address',\n",
    "                'incident_city',\n",
    "                'incident_county',\n",
    "                'incident_zip',\n",
    "                'officer_name_first',\n",
    "                'officer_name_last',\n",
    "                'officer_race',\n",
    "                'officer_gender',\n",
    "                'officer_age',\n",
    "                'officer_harm',\n",
    "                'civilian_harm',\n",
    "                'civilian_suicide',\n",
    "                'num_civilians_recorded',\n",
    "                'media_link_1', \n",
    "                'media_link_2',\n",
    "                'media_link_3']"
   ]
  },
  {
   "cell_type": "code",
   "execution_count": 19,
   "id": "transparent-topic",
   "metadata": {},
   "outputs": [],
   "source": [
    "df_os_ready = pd.concat([df_os[cols_officer], df_os_agency_names_merged], axis=1)"
   ]
  },
  {
   "cell_type": "code",
   "execution_count": 20,
   "id": "monthly-fiber",
   "metadata": {},
   "outputs": [
    {
     "data": {
      "text/html": [
       "<div>\n",
       "<style scoped>\n",
       "    .dataframe tbody tr th:only-of-type {\n",
       "        vertical-align: middle;\n",
       "    }\n",
       "\n",
       "    .dataframe tbody tr th {\n",
       "        vertical-align: top;\n",
       "    }\n",
       "\n",
       "    .dataframe thead th {\n",
       "        text-align: right;\n",
       "    }\n",
       "</style>\n",
       "<table border=\"1\" class=\"dataframe\">\n",
       "  <thead>\n",
       "    <tr style=\"text-align: right;\">\n",
       "      <th></th>\n",
       "      <th>date_incident</th>\n",
       "      <th>incident_address</th>\n",
       "      <th>incident_city</th>\n",
       "      <th>incident_county</th>\n",
       "      <th>incident_zip</th>\n",
       "      <th>officer_name_first</th>\n",
       "      <th>officer_name_last</th>\n",
       "      <th>officer_race</th>\n",
       "      <th>officer_gender</th>\n",
       "      <th>officer_age</th>\n",
       "      <th>officer_harm</th>\n",
       "      <th>civilian_harm</th>\n",
       "      <th>civilian_suicide</th>\n",
       "      <th>num_civilians_recorded</th>\n",
       "      <th>media_link_1</th>\n",
       "      <th>media_link_2</th>\n",
       "      <th>media_link_3</th>\n",
       "      <th>agency_names</th>\n",
       "    </tr>\n",
       "  </thead>\n",
       "  <tbody>\n",
       "    <tr>\n",
       "      <th>5</th>\n",
       "      <td>2016-01-13</td>\n",
       "      <td>3100 ANITA</td>\n",
       "      <td>HOUSTON</td>\n",
       "      <td>HARRIS</td>\n",
       "      <td>77004</td>\n",
       "      <td>KENNETH</td>\n",
       "      <td>FREGIA</td>\n",
       "      <td>WHITE</td>\n",
       "      <td>MALE</td>\n",
       "      <td>46.0</td>\n",
       "      <td>INJURY</td>\n",
       "      <td>NONE</td>\n",
       "      <td>False</td>\n",
       "      <td>0</td>\n",
       "      <td>CHRONICLE</td>\n",
       "      <td>ABC 13</td>\n",
       "      <td>NaN</td>\n",
       "      <td>[HOUSTON POLICE DEPT]</td>\n",
       "    </tr>\n",
       "    <tr>\n",
       "      <th>6</th>\n",
       "      <td>2016-01-19</td>\n",
       "      <td>6011 VAN ZANDT</td>\n",
       "      <td>HOUSTON</td>\n",
       "      <td>HARRIS</td>\n",
       "      <td>77016</td>\n",
       "      <td>JASON</td>\n",
       "      <td>RHODES</td>\n",
       "      <td>WHITE</td>\n",
       "      <td>MALE</td>\n",
       "      <td>33.0</td>\n",
       "      <td>INJURY</td>\n",
       "      <td>NONE</td>\n",
       "      <td>False</td>\n",
       "      <td>1</td>\n",
       "      <td>CHRONICLE</td>\n",
       "      <td>CLICK2HOUSTON</td>\n",
       "      <td>NaN</td>\n",
       "      <td>[HOUSTON POLICE DEPT]</td>\n",
       "    </tr>\n",
       "    <tr>\n",
       "      <th>7</th>\n",
       "      <td>2016-02-07</td>\n",
       "      <td>1410 ASHLAND DRIVE</td>\n",
       "      <td>CONROE</td>\n",
       "      <td>MONTGOMERY</td>\n",
       "      <td>77385</td>\n",
       "      <td>NaN</td>\n",
       "      <td>NaN</td>\n",
       "      <td>WHITE</td>\n",
       "      <td>MALE</td>\n",
       "      <td>36.0</td>\n",
       "      <td>INJURY</td>\n",
       "      <td>NONE</td>\n",
       "      <td>False</td>\n",
       "      <td>1</td>\n",
       "      <td>NaN</td>\n",
       "      <td>NaN</td>\n",
       "      <td>NaN</td>\n",
       "      <td>[MONTGOMERY CO CONST PCT 3]</td>\n",
       "    </tr>\n",
       "    <tr>\n",
       "      <th>8</th>\n",
       "      <td>2016-02-22</td>\n",
       "      <td>5100 CLOVER</td>\n",
       "      <td>HOUSTON</td>\n",
       "      <td>HARRIS</td>\n",
       "      <td>77021</td>\n",
       "      <td>NaN</td>\n",
       "      <td>NaN</td>\n",
       "      <td>BLACK</td>\n",
       "      <td>MALE</td>\n",
       "      <td>27.0</td>\n",
       "      <td>INJURY</td>\n",
       "      <td>NONE</td>\n",
       "      <td>False</td>\n",
       "      <td>1</td>\n",
       "      <td>CW39</td>\n",
       "      <td>HOUSTONTX.GOV</td>\n",
       "      <td>NaN</td>\n",
       "      <td>[HOUSTON POLICE DEPT]</td>\n",
       "    </tr>\n",
       "    <tr>\n",
       "      <th>9</th>\n",
       "      <td>2016-03-01</td>\n",
       "      <td>508 SIMMONS DR.</td>\n",
       "      <td>EULESS</td>\n",
       "      <td>TARRANT</td>\n",
       "      <td>76040</td>\n",
       "      <td>DAVID STEFAN</td>\n",
       "      <td>HOFER</td>\n",
       "      <td>WHITE</td>\n",
       "      <td>MALE</td>\n",
       "      <td>29.0</td>\n",
       "      <td>DEATH</td>\n",
       "      <td>DEATH</td>\n",
       "      <td>False</td>\n",
       "      <td>1</td>\n",
       "      <td>DALLAS MORNING NEWS</td>\n",
       "      <td>NBC DFW</td>\n",
       "      <td>NaN</td>\n",
       "      <td>[EULESS POLICE DEPT]</td>\n",
       "    </tr>\n",
       "  </tbody>\n",
       "</table>\n",
       "</div>"
      ],
      "text/plain": [
       "  date_incident    incident_address incident_city incident_county  \\\n",
       "5    2016-01-13          3100 ANITA       HOUSTON          HARRIS   \n",
       "6    2016-01-19      6011 VAN ZANDT       HOUSTON          HARRIS   \n",
       "7    2016-02-07  1410 ASHLAND DRIVE        CONROE      MONTGOMERY   \n",
       "8    2016-02-22         5100 CLOVER       HOUSTON          HARRIS   \n",
       "9    2016-03-01     508 SIMMONS DR.        EULESS         TARRANT   \n",
       "\n",
       "   incident_zip officer_name_first officer_name_last officer_race  \\\n",
       "5         77004            KENNETH            FREGIA        WHITE   \n",
       "6         77016              JASON            RHODES        WHITE   \n",
       "7         77385                NaN               NaN        WHITE   \n",
       "8         77021                NaN               NaN        BLACK   \n",
       "9         76040       DAVID STEFAN             HOFER        WHITE   \n",
       "\n",
       "  officer_gender  officer_age officer_harm civilian_harm  civilian_suicide  \\\n",
       "5           MALE         46.0       INJURY          NONE             False   \n",
       "6           MALE         33.0       INJURY          NONE             False   \n",
       "7           MALE         36.0       INJURY          NONE             False   \n",
       "8           MALE         27.0       INJURY          NONE             False   \n",
       "9           MALE         29.0        DEATH         DEATH             False   \n",
       "\n",
       "   num_civilians_recorded         media_link_1   media_link_2 media_link_3  \\\n",
       "5                       0            CHRONICLE         ABC 13          NaN   \n",
       "6                       1            CHRONICLE  CLICK2HOUSTON          NaN   \n",
       "7                       1                  NaN            NaN          NaN   \n",
       "8                       1                 CW39  HOUSTONTX.GOV          NaN   \n",
       "9                       1  DALLAS MORNING NEWS        NBC DFW          NaN   \n",
       "\n",
       "                  agency_names  \n",
       "5        [HOUSTON POLICE DEPT]  \n",
       "6        [HOUSTON POLICE DEPT]  \n",
       "7  [MONTGOMERY CO CONST PCT 3]  \n",
       "8        [HOUSTON POLICE DEPT]  \n",
       "9         [EULESS POLICE DEPT]  "
      ]
     },
     "execution_count": 20,
     "metadata": {},
     "output_type": "execute_result"
    }
   ],
   "source": [
    "df_os_ready.head()"
   ]
  },
  {
   "cell_type": "code",
   "execution_count": 21,
   "id": "twenty-rabbit",
   "metadata": {},
   "outputs": [
    {
     "data": {
      "text/plain": [
       "(167, 18)"
      ]
     },
     "execution_count": 21,
     "metadata": {},
     "output_type": "execute_result"
    }
   ],
   "source": [
    "df_os_ready.shape"
   ]
  },
  {
   "cell_type": "markdown",
   "id": "departmental-onion",
   "metadata": {},
   "source": [
    "## Export both datasets to csv"
   ]
  },
  {
   "cell_type": "code",
   "execution_count": 22,
   "id": "electoral-neighbor",
   "metadata": {},
   "outputs": [],
   "source": [
    "df_cd_ready.to_csv('../Data/Preprocessed/Mar2021/civilian_shooting_preprocessed.csv')\n",
    "df_os_ready.to_csv('../Data/Preprocessed/Mar2021/officer_shooting_preprocessed.csv')"
   ]
  }
 ],
 "metadata": {
  "kernelspec": {
   "display_name": "Python 3",
   "language": "python",
   "name": "python3"
  },
  "language_info": {
   "codemirror_mode": {
    "name": "ipython",
    "version": 3
   },
   "file_extension": ".py",
   "mimetype": "text/x-python",
   "name": "python",
   "nbconvert_exporter": "python",
   "pygments_lexer": "ipython3",
   "version": "3.7.9"
  }
 },
 "nbformat": 4,
 "nbformat_minor": 5
}
