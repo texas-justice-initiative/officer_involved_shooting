{
 "cells": [
  {
   "cell_type": "code",
   "execution_count": 1,
   "metadata": {},
   "outputs": [],
   "source": [
    "import pandas as pd"
   ]
  },
  {
   "cell_type": "markdown",
   "metadata": {},
   "source": [
    "# Preprocessing the census data for the TJI's Officer-involved Shootings (OIS) in Texas Report\n",
    "\n",
    "# [1. Census](https://demographics.texas.gov/Data/TPEPP/Estimates/)\n",
    "Our report makes comparions between the OIS incident datasets and census data. The census data comes from [Texas Demographic Center](https://demographics.texas.gov/). \n",
    "\n",
    ">The Texas Demographic Center functions as a focal point for the production, interpretation, and distribution of demographic information for Texas. The Texas Demographic Center produces and disseminates population estimates and projections for Texas, as well as other demographic information. Special emphasis is placed on data that may be useful to policy makers in dealing with issues regarding the demand for State services.\n",
    "\n",
    "## 1.1 Total Population By County\n",
    "Source: https://demographics.texas.gov/Resources/TPEPP/Estimates/2018/2018_txpopest_county.csv\n",
    "\n",
    "Even though the website has annual estimates based on their own methodology, we decided to use the actual census count from 2010 (the column, `cqr_census_2010_count`)."
   ]
  },
  {
   "cell_type": "code",
   "execution_count": 2,
   "metadata": {},
   "outputs": [],
   "source": [
    "df_census = pd.read_csv('../Data/Raw/Census/2018_txpopest_county.csv')"
   ]
  },
  {
   "cell_type": "code",
   "execution_count": 3,
   "metadata": {},
   "outputs": [
    {
     "data": {
      "text/html": [
       "<div>\n",
       "<style scoped>\n",
       "    .dataframe tbody tr th:only-of-type {\n",
       "        vertical-align: middle;\n",
       "    }\n",
       "\n",
       "    .dataframe tbody tr th {\n",
       "        vertical-align: top;\n",
       "    }\n",
       "\n",
       "    .dataframe thead th {\n",
       "        text-align: right;\n",
       "    }\n",
       "</style>\n",
       "<table border=\"1\" class=\"dataframe\">\n",
       "  <thead>\n",
       "    <tr style=\"text-align: right;\">\n",
       "      <th></th>\n",
       "      <th>FIPS</th>\n",
       "      <th>county</th>\n",
       "      <th>cqr_census_2010_count</th>\n",
       "      <th>july1_2018_pop_est</th>\n",
       "      <th>jan1_2019_pop_est</th>\n",
       "      <th>num_chg_10_18</th>\n",
       "      <th>num_chg_10_19</th>\n",
       "      <th>pct_chg_10_18</th>\n",
       "      <th>pct_chg_10_19</th>\n",
       "    </tr>\n",
       "  </thead>\n",
       "  <tbody>\n",
       "    <tr>\n",
       "      <th>0</th>\n",
       "      <td>1</td>\n",
       "      <td>Anderson</td>\n",
       "      <td>58458</td>\n",
       "      <td>58979</td>\n",
       "      <td>58854</td>\n",
       "      <td>521</td>\n",
       "      <td>396</td>\n",
       "      <td>0.9</td>\n",
       "      <td>0.7</td>\n",
       "    </tr>\n",
       "    <tr>\n",
       "      <th>1</th>\n",
       "      <td>3</td>\n",
       "      <td>Andrews</td>\n",
       "      <td>14786</td>\n",
       "      <td>18678</td>\n",
       "      <td>19232</td>\n",
       "      <td>3892</td>\n",
       "      <td>4446</td>\n",
       "      <td>26.3</td>\n",
       "      <td>30.1</td>\n",
       "    </tr>\n",
       "    <tr>\n",
       "      <th>2</th>\n",
       "      <td>5</td>\n",
       "      <td>Angelina</td>\n",
       "      <td>86771</td>\n",
       "      <td>91687</td>\n",
       "      <td>92353</td>\n",
       "      <td>4916</td>\n",
       "      <td>5582</td>\n",
       "      <td>5.7</td>\n",
       "      <td>6.4</td>\n",
       "    </tr>\n",
       "    <tr>\n",
       "      <th>3</th>\n",
       "      <td>7</td>\n",
       "      <td>Aransas</td>\n",
       "      <td>23158</td>\n",
       "      <td>23724</td>\n",
       "      <td>23031</td>\n",
       "      <td>566</td>\n",
       "      <td>-127</td>\n",
       "      <td>2.4</td>\n",
       "      <td>-0.5</td>\n",
       "    </tr>\n",
       "    <tr>\n",
       "      <th>4</th>\n",
       "      <td>9</td>\n",
       "      <td>Archer</td>\n",
       "      <td>9054</td>\n",
       "      <td>9459</td>\n",
       "      <td>9625</td>\n",
       "      <td>405</td>\n",
       "      <td>571</td>\n",
       "      <td>4.5</td>\n",
       "      <td>6.3</td>\n",
       "    </tr>\n",
       "  </tbody>\n",
       "</table>\n",
       "</div>"
      ],
      "text/plain": [
       "   FIPS    county  cqr_census_2010_count  july1_2018_pop_est  \\\n",
       "0     1  Anderson                  58458               58979   \n",
       "1     3   Andrews                  14786               18678   \n",
       "2     5  Angelina                  86771               91687   \n",
       "3     7   Aransas                  23158               23724   \n",
       "4     9    Archer                   9054                9459   \n",
       "\n",
       "   jan1_2019_pop_est  num_chg_10_18  num_chg_10_19  pct_chg_10_18  \\\n",
       "0              58854            521            396            0.9   \n",
       "1              19232           3892           4446           26.3   \n",
       "2              92353           4916           5582            5.7   \n",
       "3              23031            566           -127            2.4   \n",
       "4               9625            405            571            4.5   \n",
       "\n",
       "   pct_chg_10_19  \n",
       "0            0.7  \n",
       "1           30.1  \n",
       "2            6.4  \n",
       "3           -0.5  \n",
       "4            6.3  "
      ]
     },
     "execution_count": 3,
     "metadata": {},
     "output_type": "execute_result"
    }
   ],
   "source": [
    "df_census.head()"
   ]
  },
  {
   "cell_type": "code",
   "execution_count": 4,
   "metadata": {},
   "outputs": [],
   "source": [
    "df_census.index = df_census['county'].str.upper()\n",
    "df_pop_county = df_census['cqr_census_2010_count']"
   ]
  },
  {
   "cell_type": "code",
   "execution_count": 5,
   "metadata": {},
   "outputs": [
    {
     "data": {
      "text/plain": [
       "255"
      ]
     },
     "execution_count": 5,
     "metadata": {},
     "output_type": "execute_result"
    }
   ],
   "source": [
    "df_pop_county.shape[0]"
   ]
  },
  {
   "cell_type": "code",
   "execution_count": 6,
   "metadata": {},
   "outputs": [
    {
     "data": {
      "text/plain": [
       "county\n",
       "ANDERSON    58458\n",
       "ANDREWS     14786\n",
       "ANGELINA    86771\n",
       "ARANSAS     23158\n",
       "ARCHER       9054\n",
       "Name: cqr_census_2010_count, dtype: int64"
      ]
     },
     "execution_count": 6,
     "metadata": {},
     "output_type": "execute_result"
    }
   ],
   "source": [
    "df_pop_county.head()"
   ]
  },
  {
   "cell_type": "code",
   "execution_count": 7,
   "metadata": {},
   "outputs": [],
   "source": [
    "df_pop_county.to_pickle('../Data/Interim/census_county_2010.pkl')"
   ]
  },
  {
   "cell_type": "markdown",
   "metadata": {},
   "source": [
    "## Age, Sex, and Race/Ethnicity for State and Counties\n",
    "Source: https://demographics.texas.gov/Resources/TPEPP/Estimates/2018/2018_ASRE_Estimate_alldata_csv.zip\n",
    "\n",
    "After unzipping, you will find `alldata.csv`."
   ]
  },
  {
   "cell_type": "code",
   "execution_count": 8,
   "metadata": {},
   "outputs": [],
   "source": [
    "df_census_detail = pd.read_csv('../Data/Raw/Census/alldata.csv')"
   ]
  },
  {
   "cell_type": "code",
   "execution_count": 9,
   "metadata": {},
   "outputs": [
    {
     "data": {
      "text/html": [
       "<div>\n",
       "<style scoped>\n",
       "    .dataframe tbody tr th:only-of-type {\n",
       "        vertical-align: middle;\n",
       "    }\n",
       "\n",
       "    .dataframe tbody tr th {\n",
       "        vertical-align: top;\n",
       "    }\n",
       "\n",
       "    .dataframe thead th {\n",
       "        text-align: right;\n",
       "    }\n",
       "</style>\n",
       "<table border=\"1\" class=\"dataframe\">\n",
       "  <thead>\n",
       "    <tr style=\"text-align: right;\">\n",
       "      <th></th>\n",
       "      <th>County</th>\n",
       "      <th>FIPS</th>\n",
       "      <th>Age</th>\n",
       "      <th>Total</th>\n",
       "      <th>Total_Male</th>\n",
       "      <th>Total_Female</th>\n",
       "      <th>NH_White_Total</th>\n",
       "      <th>NH_White_Male</th>\n",
       "      <th>NH_White_Female</th>\n",
       "      <th>NH_Black_Total</th>\n",
       "      <th>...</th>\n",
       "      <th>NH_Black_Female</th>\n",
       "      <th>NH_Asian_Total</th>\n",
       "      <th>NH_Asian_Male</th>\n",
       "      <th>NH_Asian_Female</th>\n",
       "      <th>NH_Other_Total</th>\n",
       "      <th>NH_Other_Male</th>\n",
       "      <th>NH_Other_Female</th>\n",
       "      <th>Hispanic_Total</th>\n",
       "      <th>Hispanic_Male</th>\n",
       "      <th>Hispanic_Female</th>\n",
       "    </tr>\n",
       "  </thead>\n",
       "  <tbody>\n",
       "    <tr>\n",
       "      <th>0</th>\n",
       "      <td>STATE OF TEXAS</td>\n",
       "      <td>0</td>\n",
       "      <td>All Ages</td>\n",
       "      <td>28702243</td>\n",
       "      <td>14254981</td>\n",
       "      <td>14447262</td>\n",
       "      <td>12008303</td>\n",
       "      <td>5953354</td>\n",
       "      <td>6054949</td>\n",
       "      <td>3394972</td>\n",
       "      <td>...</td>\n",
       "      <td>1752264</td>\n",
       "      <td>1381899</td>\n",
       "      <td>677090</td>\n",
       "      <td>704809</td>\n",
       "      <td>629148</td>\n",
       "      <td>312300</td>\n",
       "      <td>316848</td>\n",
       "      <td>11287921</td>\n",
       "      <td>5669529</td>\n",
       "      <td>5618392</td>\n",
       "    </tr>\n",
       "    <tr>\n",
       "      <th>1</th>\n",
       "      <td>STATE OF TEXAS</td>\n",
       "      <td>0</td>\n",
       "      <td>&lt; 1 Year</td>\n",
       "      <td>389277</td>\n",
       "      <td>198709</td>\n",
       "      <td>190568</td>\n",
       "      <td>114969</td>\n",
       "      <td>58905</td>\n",
       "      <td>56064</td>\n",
       "      <td>46083</td>\n",
       "      <td>...</td>\n",
       "      <td>22639</td>\n",
       "      <td>16580</td>\n",
       "      <td>8469</td>\n",
       "      <td>8111</td>\n",
       "      <td>17102</td>\n",
       "      <td>8778</td>\n",
       "      <td>8324</td>\n",
       "      <td>194543</td>\n",
       "      <td>99113</td>\n",
       "      <td>95430</td>\n",
       "    </tr>\n",
       "    <tr>\n",
       "      <th>2</th>\n",
       "      <td>STATE OF TEXAS</td>\n",
       "      <td>0</td>\n",
       "      <td>1 Years</td>\n",
       "      <td>395402</td>\n",
       "      <td>201725</td>\n",
       "      <td>193677</td>\n",
       "      <td>117408</td>\n",
       "      <td>60141</td>\n",
       "      <td>57267</td>\n",
       "      <td>46604</td>\n",
       "      <td>...</td>\n",
       "      <td>22959</td>\n",
       "      <td>16511</td>\n",
       "      <td>8468</td>\n",
       "      <td>8043</td>\n",
       "      <td>17255</td>\n",
       "      <td>8835</td>\n",
       "      <td>8420</td>\n",
       "      <td>197624</td>\n",
       "      <td>100636</td>\n",
       "      <td>96988</td>\n",
       "    </tr>\n",
       "    <tr>\n",
       "      <th>3</th>\n",
       "      <td>STATE OF TEXAS</td>\n",
       "      <td>0</td>\n",
       "      <td>2 Years</td>\n",
       "      <td>407861</td>\n",
       "      <td>208076</td>\n",
       "      <td>199785</td>\n",
       "      <td>122987</td>\n",
       "      <td>62939</td>\n",
       "      <td>60048</td>\n",
       "      <td>47786</td>\n",
       "      <td>...</td>\n",
       "      <td>23539</td>\n",
       "      <td>17479</td>\n",
       "      <td>8955</td>\n",
       "      <td>8524</td>\n",
       "      <td>17292</td>\n",
       "      <td>8840</td>\n",
       "      <td>8452</td>\n",
       "      <td>202317</td>\n",
       "      <td>103095</td>\n",
       "      <td>99222</td>\n",
       "    </tr>\n",
       "    <tr>\n",
       "      <th>4</th>\n",
       "      <td>STATE OF TEXAS</td>\n",
       "      <td>0</td>\n",
       "      <td>3 Years</td>\n",
       "      <td>417497</td>\n",
       "      <td>213195</td>\n",
       "      <td>204302</td>\n",
       "      <td>127819</td>\n",
       "      <td>65480</td>\n",
       "      <td>62339</td>\n",
       "      <td>48419</td>\n",
       "      <td>...</td>\n",
       "      <td>23920</td>\n",
       "      <td>17931</td>\n",
       "      <td>9220</td>\n",
       "      <td>8711</td>\n",
       "      <td>17230</td>\n",
       "      <td>8795</td>\n",
       "      <td>8435</td>\n",
       "      <td>206098</td>\n",
       "      <td>105201</td>\n",
       "      <td>100897</td>\n",
       "    </tr>\n",
       "  </tbody>\n",
       "</table>\n",
       "<p>5 rows × 21 columns</p>\n",
       "</div>"
      ],
      "text/plain": [
       "           County  FIPS       Age     Total  Total_Male  Total_Female  \\\n",
       "0  STATE OF TEXAS     0  All Ages  28702243    14254981      14447262   \n",
       "1  STATE OF TEXAS     0  < 1 Year    389277      198709        190568   \n",
       "2  STATE OF TEXAS     0   1 Years    395402      201725        193677   \n",
       "3  STATE OF TEXAS     0   2 Years    407861      208076        199785   \n",
       "4  STATE OF TEXAS     0   3 Years    417497      213195        204302   \n",
       "\n",
       "   NH_White_Total  NH_White_Male  NH_White_Female  NH_Black_Total  ...  \\\n",
       "0        12008303        5953354          6054949         3394972  ...   \n",
       "1          114969          58905            56064           46083  ...   \n",
       "2          117408          60141            57267           46604  ...   \n",
       "3          122987          62939            60048           47786  ...   \n",
       "4          127819          65480            62339           48419  ...   \n",
       "\n",
       "   NH_Black_Female  NH_Asian_Total  NH_Asian_Male  NH_Asian_Female  \\\n",
       "0          1752264         1381899         677090           704809   \n",
       "1            22639           16580           8469             8111   \n",
       "2            22959           16511           8468             8043   \n",
       "3            23539           17479           8955             8524   \n",
       "4            23920           17931           9220             8711   \n",
       "\n",
       "   NH_Other_Total  NH_Other_Male  NH_Other_Female  Hispanic_Total  \\\n",
       "0          629148         312300           316848        11287921   \n",
       "1           17102           8778             8324          194543   \n",
       "2           17255           8835             8420          197624   \n",
       "3           17292           8840             8452          202317   \n",
       "4           17230           8795             8435          206098   \n",
       "\n",
       "   Hispanic_Male  Hispanic_Female  \n",
       "0        5669529          5618392  \n",
       "1          99113            95430  \n",
       "2         100636            96988  \n",
       "3         103095            99222  \n",
       "4         105201           100897  \n",
       "\n",
       "[5 rows x 21 columns]"
      ]
     },
     "execution_count": 9,
     "metadata": {},
     "output_type": "execute_result"
    }
   ],
   "source": [
    "df_census_detail.head()"
   ]
  },
  {
   "cell_type": "code",
   "execution_count": 10,
   "metadata": {},
   "outputs": [
    {
     "data": {
      "text/plain": [
       "Index(['County', 'FIPS', 'Age', 'Total', 'Total_Male', 'Total_Female',\n",
       "       'NH_White_Total', 'NH_White_Male', 'NH_White_Female', 'NH_Black_Total',\n",
       "       'NH_Black_Male', 'NH_Black_Female', 'NH_Asian_Total', 'NH_Asian_Male',\n",
       "       'NH_Asian_Female', 'NH_Other_Total', 'NH_Other_Male', 'NH_Other_Female',\n",
       "       'Hispanic_Total', 'Hispanic_Male', 'Hispanic_Female'],\n",
       "      dtype='object')"
      ]
     },
     "execution_count": 10,
     "metadata": {},
     "output_type": "execute_result"
    }
   ],
   "source": [
    "df_census_detail.columns"
   ]
  },
  {
   "cell_type": "code",
   "execution_count": 11,
   "metadata": {},
   "outputs": [
    {
     "name": "stderr",
     "output_type": "stream",
     "text": [
      "/Users/honshi01/anaconda3/envs/dev/lib/python3.6/site-packages/pandas/core/indexing.py:845: SettingWithCopyWarning: \n",
      "A value is trying to be set on a copy of a slice from a DataFrame.\n",
      "Try using .loc[row_indexer,col_indexer] = value instead\n",
      "\n",
      "See the caveats in the documentation: https://pandas.pydata.org/pandas-docs/stable/user_guide/indexing.html#returning-a-view-versus-a-copy\n",
      "  self.obj[key] = _infer_fill_value(value)\n",
      "/Users/honshi01/anaconda3/envs/dev/lib/python3.6/site-packages/pandas/core/indexing.py:966: SettingWithCopyWarning: \n",
      "A value is trying to be set on a copy of a slice from a DataFrame.\n",
      "Try using .loc[row_indexer,col_indexer] = value instead\n",
      "\n",
      "See the caveats in the documentation: https://pandas.pydata.org/pandas-docs/stable/user_guide/indexing.html#returning-a-view-versus-a-copy\n",
      "  self.obj[item] = s\n"
     ]
    }
   ],
   "source": [
    "# remove rows with state of texas\n",
    "df_census_detail_county = df_census_detail.loc[df_census_detail['County'] != 'STATE OF TEXAS', :]\n",
    "\n",
    "# keep the 'All Ages' row only\n",
    "df_census_detail_county = df_census_detail_county.loc[df_census_detail['Age'] == 'All Ages', :]\n",
    "\n",
    "# rename the county column and make it as index\n",
    "df_census_detail_county.loc[:, 'County'] = df_census_detail_county['County'].str.replace(' COUNTY', '').values\n",
    "df_census_detail_county.index = df_census_detail_county['County']\n",
    "df_census_detail_county.drop('County', axis=1, inplace=True)\n",
    "\n",
    "# regroup race as white, black, hispanic and others (dropping gender since female is very small proportion)\n",
    "df_census_race_county = df_census_detail_county[['NH_White_Total', 'NH_Black_Total', 'Hispanic_Total', 'NH_Asian_Total', 'NH_Other_Total']]\n",
    "df_census_race_county.loc[:, 'OTHER'] = df_census_race_county[['NH_Asian_Total', 'NH_Other_Total']].sum(axis=1)"
   ]
  },
  {
   "cell_type": "code",
   "execution_count": 12,
   "metadata": {},
   "outputs": [],
   "source": [
    "df_census_race_county = df_census_race_county.drop(['NH_Asian_Total', 'NH_Other_Total'], axis=1)\n",
    "df_census_race_county.columns = ['WHITE', 'BLACK', 'HISPANIC', 'OTHER']"
   ]
  },
  {
   "cell_type": "code",
   "execution_count": 13,
   "metadata": {},
   "outputs": [
    {
     "data": {
      "text/html": [
       "<div>\n",
       "<style scoped>\n",
       "    .dataframe tbody tr th:only-of-type {\n",
       "        vertical-align: middle;\n",
       "    }\n",
       "\n",
       "    .dataframe tbody tr th {\n",
       "        vertical-align: top;\n",
       "    }\n",
       "\n",
       "    .dataframe thead th {\n",
       "        text-align: right;\n",
       "    }\n",
       "</style>\n",
       "<table border=\"1\" class=\"dataframe\">\n",
       "  <thead>\n",
       "    <tr style=\"text-align: right;\">\n",
       "      <th></th>\n",
       "      <th>WHITE</th>\n",
       "      <th>BLACK</th>\n",
       "      <th>HISPANIC</th>\n",
       "      <th>OTHER</th>\n",
       "    </tr>\n",
       "    <tr>\n",
       "      <th>County</th>\n",
       "      <th></th>\n",
       "      <th></th>\n",
       "      <th></th>\n",
       "      <th></th>\n",
       "    </tr>\n",
       "  </thead>\n",
       "  <tbody>\n",
       "    <tr>\n",
       "      <th>ANDERSON</th>\n",
       "      <td>34383</td>\n",
       "      <td>12472</td>\n",
       "      <td>10550</td>\n",
       "      <td>1574</td>\n",
       "    </tr>\n",
       "    <tr>\n",
       "      <th>ANDREWS</th>\n",
       "      <td>6794</td>\n",
       "      <td>206</td>\n",
       "      <td>11371</td>\n",
       "      <td>307</td>\n",
       "    </tr>\n",
       "    <tr>\n",
       "      <th>ANGELINA</th>\n",
       "      <td>55069</td>\n",
       "      <td>13751</td>\n",
       "      <td>20476</td>\n",
       "      <td>2391</td>\n",
       "    </tr>\n",
       "    <tr>\n",
       "      <th>ARANSAS</th>\n",
       "      <td>15716</td>\n",
       "      <td>244</td>\n",
       "      <td>6896</td>\n",
       "      <td>868</td>\n",
       "    </tr>\n",
       "    <tr>\n",
       "      <th>ARCHER</th>\n",
       "      <td>8238</td>\n",
       "      <td>40</td>\n",
       "      <td>933</td>\n",
       "      <td>248</td>\n",
       "    </tr>\n",
       "  </tbody>\n",
       "</table>\n",
       "</div>"
      ],
      "text/plain": [
       "          WHITE  BLACK  HISPANIC  OTHER\n",
       "County                                 \n",
       "ANDERSON  34383  12472     10550   1574\n",
       "ANDREWS    6794    206     11371    307\n",
       "ANGELINA  55069  13751     20476   2391\n",
       "ARANSAS   15716    244      6896    868\n",
       "ARCHER     8238     40       933    248"
      ]
     },
     "execution_count": 13,
     "metadata": {},
     "output_type": "execute_result"
    }
   ],
   "source": [
    "df_census_race_county.head()"
   ]
  },
  {
   "cell_type": "code",
   "execution_count": 14,
   "metadata": {},
   "outputs": [],
   "source": [
    "df_census_race_county.to_pickle('../Data/Interim/census_county_race_2010.pkl')"
   ]
  },
  {
   "cell_type": "markdown",
   "metadata": {},
   "source": [
    "## Age"
   ]
  },
  {
   "cell_type": "code",
   "execution_count": 15,
   "metadata": {},
   "outputs": [
    {
     "name": "stderr",
     "output_type": "stream",
     "text": [
      "/Users/honshi01/anaconda3/envs/dev/lib/python3.6/site-packages/pandas/core/indexing.py:966: SettingWithCopyWarning: \n",
      "A value is trying to be set on a copy of a slice from a DataFrame.\n",
      "Try using .loc[row_indexer,col_indexer] = value instead\n",
      "\n",
      "See the caveats in the documentation: https://pandas.pydata.org/pandas-docs/stable/user_guide/indexing.html#returning-a-view-versus-a-copy\n",
      "  self.obj[item] = s\n",
      "/Users/honshi01/anaconda3/envs/dev/lib/python3.6/site-packages/pandas/core/frame.py:3997: SettingWithCopyWarning: \n",
      "A value is trying to be set on a copy of a slice from a DataFrame\n",
      "\n",
      "See the caveats in the documentation: https://pandas.pydata.org/pandas-docs/stable/user_guide/indexing.html#returning-a-view-versus-a-copy\n",
      "  errors=errors,\n"
     ]
    }
   ],
   "source": [
    "df_census_detail_age = df_census_detail.loc[df_census_detail['County'] != 'STATE OF TEXAS', :]\n",
    "df_census_detail_age.loc[:, 'County'] = df_census_detail_age['County'].str.replace(' COUNTY', '').values\n",
    "df_census_detail_age.index = df_census_detail_age['County']\n",
    "df_census_detail_age.drop('County', axis=1, inplace=True)"
   ]
  },
  {
   "cell_type": "code",
   "execution_count": 16,
   "metadata": {},
   "outputs": [],
   "source": [
    "df_census_detail_age = df_census_detail_age.loc[df_census_detail_age['Age'] != 'All Ages', :]\n",
    "df_census_detail_age['Age'] = df_census_detail_age['Age'].str.replace('< 1 Year', '0 Years').str.replace('+','').str.replace('Years','').str.strip().astype(int)"
   ]
  },
  {
   "cell_type": "code",
   "execution_count": 17,
   "metadata": {},
   "outputs": [],
   "source": [
    "df_census_detail_age = df_census_detail_age[['Age', 'NH_White_Total', 'NH_Black_Total', 'Hispanic_Total', 'NH_Asian_Total', 'NH_Other_Total']]\n",
    "df_census_detail_age.loc[:, 'OTHER'] = df_census_detail_age[['NH_Asian_Total', 'NH_Other_Total']].sum(axis=1)"
   ]
  },
  {
   "cell_type": "code",
   "execution_count": 18,
   "metadata": {},
   "outputs": [],
   "source": [
    "df_census_detail_age = df_census_detail_age.drop(['NH_Asian_Total', 'NH_Other_Total'], axis=1)\n",
    "df_census_detail_age.columns = ['AGE', 'WHITE', 'BLACK', 'HISPANIC', 'OTHER']"
   ]
  },
  {
   "cell_type": "code",
   "execution_count": 19,
   "metadata": {},
   "outputs": [
    {
     "data": {
      "text/html": [
       "<div>\n",
       "<style scoped>\n",
       "    .dataframe tbody tr th:only-of-type {\n",
       "        vertical-align: middle;\n",
       "    }\n",
       "\n",
       "    .dataframe tbody tr th {\n",
       "        vertical-align: top;\n",
       "    }\n",
       "\n",
       "    .dataframe thead th {\n",
       "        text-align: right;\n",
       "    }\n",
       "</style>\n",
       "<table border=\"1\" class=\"dataframe\">\n",
       "  <thead>\n",
       "    <tr style=\"text-align: right;\">\n",
       "      <th></th>\n",
       "      <th>AGE</th>\n",
       "      <th>WHITE</th>\n",
       "      <th>BLACK</th>\n",
       "      <th>HISPANIC</th>\n",
       "      <th>OTHER</th>\n",
       "    </tr>\n",
       "    <tr>\n",
       "      <th>County</th>\n",
       "      <th></th>\n",
       "      <th></th>\n",
       "      <th></th>\n",
       "      <th></th>\n",
       "      <th></th>\n",
       "    </tr>\n",
       "  </thead>\n",
       "  <tbody>\n",
       "    <tr>\n",
       "      <th>ANDERSON</th>\n",
       "      <td>0</td>\n",
       "      <td>279</td>\n",
       "      <td>120</td>\n",
       "      <td>144</td>\n",
       "      <td>62</td>\n",
       "    </tr>\n",
       "    <tr>\n",
       "      <th>ANDERSON</th>\n",
       "      <td>1</td>\n",
       "      <td>280</td>\n",
       "      <td>117</td>\n",
       "      <td>137</td>\n",
       "      <td>70</td>\n",
       "    </tr>\n",
       "    <tr>\n",
       "      <th>ANDERSON</th>\n",
       "      <td>2</td>\n",
       "      <td>281</td>\n",
       "      <td>117</td>\n",
       "      <td>137</td>\n",
       "      <td>54</td>\n",
       "    </tr>\n",
       "    <tr>\n",
       "      <th>ANDERSON</th>\n",
       "      <td>3</td>\n",
       "      <td>284</td>\n",
       "      <td>113</td>\n",
       "      <td>133</td>\n",
       "      <td>56</td>\n",
       "    </tr>\n",
       "    <tr>\n",
       "      <th>ANDERSON</th>\n",
       "      <td>4</td>\n",
       "      <td>285</td>\n",
       "      <td>110</td>\n",
       "      <td>143</td>\n",
       "      <td>46</td>\n",
       "    </tr>\n",
       "  </tbody>\n",
       "</table>\n",
       "</div>"
      ],
      "text/plain": [
       "          AGE  WHITE  BLACK  HISPANIC  OTHER\n",
       "County                                      \n",
       "ANDERSON    0    279    120       144     62\n",
       "ANDERSON    1    280    117       137     70\n",
       "ANDERSON    2    281    117       137     54\n",
       "ANDERSON    3    284    113       133     56\n",
       "ANDERSON    4    285    110       143     46"
      ]
     },
     "execution_count": 19,
     "metadata": {},
     "output_type": "execute_result"
    }
   ],
   "source": [
    "df_census_detail_age.head()"
   ]
  },
  {
   "cell_type": "code",
   "execution_count": 20,
   "metadata": {},
   "outputs": [],
   "source": [
    "df_census_detail_age.to_pickle('../Data/Interim/census_county_race_age_2010.pkl')"
   ]
  }
 ],
 "metadata": {
  "kernelspec": {
   "display_name": "Python 3",
   "language": "python",
   "name": "python3"
  },
  "language_info": {
   "codemirror_mode": {
    "name": "ipython",
    "version": 3
   },
   "file_extension": ".py",
   "mimetype": "text/x-python",
   "name": "python",
   "nbconvert_exporter": "python",
   "pygments_lexer": "ipython3",
   "version": "3.6.10"
  }
 },
 "nbformat": 4,
 "nbformat_minor": 4
}
