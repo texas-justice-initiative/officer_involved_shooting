{
 "cells": [
  {
   "cell_type": "code",
   "execution_count": 1,
   "metadata": {},
   "outputs": [
    {
     "name": "stdout",
     "output_type": "stream",
     "text": [
      "Author: Hongsup Shin\n",
      "\n",
      "Last updated: 2021-01-09 15:27:26\n",
      "\n",
      "Python implementation: CPython\n",
      "Python version       : 3.7.9\n",
      "IPython version      : 7.19.0\n",
      "\n",
      "Git hash: 05a3e6fd11d55d0af7102b2715158de7a68f0497\n",
      "\n",
      "Git repo: https://github.com/texas-justice-initiative/officer_involved_shooting_report_2020.git\n",
      "\n",
      "Git branch: master\n",
      "\n",
      "pandas    : 1.2.0\n",
      "matplotlib: 3.3.3\n",
      "numpy     : 1.19.5\n",
      "seaborn   : 0.11.1\n",
      "\n"
     ]
    }
   ],
   "source": [
    "import pandas as pd\n",
    "pd.set_option('precision', 2)\n",
    "import numpy as np\n",
    "import matplotlib\n",
    "import matplotlib.pyplot as plt\n",
    "import seaborn as sns\n",
    "\n",
    "plt.style.use('ggplot')\n",
    "%config InlineBackend.figure_format = 'retina'\n",
    "colors = plt.rcParams['axes.prop_cycle'].by_key()['color']\n",
    "colors_ = plt.get_cmap('Set2')(np.linspace(0, 1, 8))\n",
    "colors_year = plt.get_cmap('magma')(np.linspace(0.5, 1, 5)[::-1][1:])\n",
    "\n",
    "from IPython.core.pylabtools import figsize\n",
    "from IPython.display import display\n",
    "figsize(8, 5)\n",
    "\n",
    "%load_ext watermark\n",
    "%load_ext autoreload\n",
    "%autoreload 2\n",
    "%matplotlib inline\n",
    "\n",
    "%watermark -d -t -u -v -g -r -b -iv -a \"Hongsup Shin\" "
   ]
  },
  {
   "cell_type": "markdown",
   "metadata": {},
   "source": [
    "# Assessing missing data to identify shooters"
   ]
  },
  {
   "cell_type": "markdown",
   "metadata": {},
   "source": [
    "**Goals (Jan 2021)**\n",
    "- We are interested in identifying opportunities to conduct a meaningful investigation on the relationship between shooters and victims in OIS incidents.\n",
    "- The analysis should be done from both civilian and officer perspectives. In the civilian data, shooters are officers. In the officer data, shooters are civilians.\n",
    "- Before we make further decisions, we are interested in the quality of the data, especially in terms of whether we have enough information (i.e., not much missing data)."
   ]
  },
  {
   "cell_type": "markdown",
   "metadata": {},
   "source": [
    "Loading the preprocessed data (2016-2019)"
   ]
  },
  {
   "cell_type": "code",
   "execution_count": 2,
   "metadata": {},
   "outputs": [
    {
     "name": "stdout",
     "output_type": "stream",
     "text": [
      "(697, 154)\n",
      "(130, 50)\n"
     ]
    }
   ],
   "source": [
    "df_cd = pd.read_pickle('../Data/Preprocessed/civilian_shooting_preprocessed.pkl'); print(df_cd.shape)\n",
    "df_os = pd.read_pickle('../Data/Preprocessed/officer_shooting_preprocessed.pkl'); print(df_os.shape)"
   ]
  },
  {
   "cell_type": "markdown",
   "metadata": {},
   "source": [
    "## 1. Officer information in the civilian data\n",
    "Officer columns have string `officer_` in their names."
   ]
  },
  {
   "cell_type": "code",
   "execution_count": 3,
   "metadata": {},
   "outputs": [
    {
     "name": "stdout",
     "output_type": "stream",
     "text": [
      "['officer_age_1', 'officer_race_1', 'officer_gender_1', 'officer_age_2', 'officer_race_2', 'officer_gender_2', 'officer_caused_injury_2', 'officer_age_3', 'officer_race_3', 'officer_gender_3']\n"
     ]
    }
   ],
   "source": [
    "cols_officer = [col for col in df_cd.columns if 'officer_' in col]\n",
    "print(cols_officer[:10]) # first 10 examples"
   ]
  },
  {
   "cell_type": "markdown",
   "metadata": {},
   "source": [
    "Officer demographics is recorded in three types: age, race, and gender."
   ]
  },
  {
   "cell_type": "markdown",
   "metadata": {},
   "source": [
    "### Missing data"
   ]
  },
  {
   "cell_type": "markdown",
   "metadata": {},
   "source": [
    "Number of rows that have missing data per column:"
   ]
  },
  {
   "cell_type": "code",
   "execution_count": 4,
   "metadata": {},
   "outputs": [
    {
     "data": {
      "text/plain": [
       "officer_age_1                0\n",
       "officer_race_1               0\n",
       "officer_gender_1             0\n",
       "officer_age_2              447\n",
       "officer_race_2             447\n",
       "officer_gender_2           447\n",
       "officer_caused_injury_2    645\n",
       "officer_age_3              574\n",
       "officer_race_3             574\n",
       "officer_gender_3           573\n",
       "officer_caused_injury_3    687\n",
       "officer_age_4              621\n",
       "officer_race_4             621\n",
       "officer_gender_4           621\n",
       "officer_age_5              656\n",
       "officer_race_5             656\n",
       "officer_gender_5           656\n",
       "officer_age_6              676\n",
       "officer_race_6             676\n",
       "officer_gender_6           676\n",
       "officer_age_7              683\n",
       "officer_race_7             683\n",
       "officer_gender_7           683\n",
       "officer_age_8              690\n",
       "officer_race_8             690\n",
       "officer_gender_8           690\n",
       "officer_age_9              692\n",
       "officer_race_9             692\n",
       "officer_gender_9           692\n",
       "officer_age_10             694\n",
       "officer_race_10            694\n",
       "officer_gender_10          694\n",
       "officer_age_11             696\n",
       "officer_gender_11          696\n",
       "officer_on_duty              1\n",
       "officer_race_11            696\n",
       "dtype: int64"
      ]
     },
     "execution_count": 4,
     "metadata": {},
     "output_type": "execute_result"
    }
   ],
   "source": [
    "df_cd[cols_officer].isnull().sum()"
   ]
  },
  {
   "cell_type": "markdown",
   "metadata": {},
   "source": [
    "- It seems like the OIS report form allows agencies to fill out up to 11 officers. For instance, it starts from `officer_age_1` and goes all the way up to `officer_age_11`.\n",
    "- Luckily the first officer information doesn't have any missing data."
   ]
  },
  {
   "cell_type": "code",
   "execution_count": 5,
   "metadata": {},
   "outputs": [
    {
     "name": "stdout",
     "output_type": "stream",
     "text": [
      "['officer_age_1', 'officer_age_2', 'officer_age_3', 'officer_age_4', 'officer_age_5', 'officer_age_6', 'officer_age_7', 'officer_age_8', 'officer_age_9', 'officer_age_10', 'officer_age_11']\n"
     ]
    }
   ],
   "source": [
    "cols_officer_age = [col for col in df_cd.columns if 'officer_age_' in col]\n",
    "print(cols_officer_age)"
   ]
  },
  {
   "cell_type": "code",
   "execution_count": 6,
   "metadata": {},
   "outputs": [
    {
     "data": {
      "image/png": "[encoded data removed]",
      "text/plain": [
       "<Figure size 432x288 with 1 Axes>"
      ]
     },
     "metadata": {
      "image/png": {
       "height": 281,
       "width": 388
      },
      "needs_background": "light"
     },
     "output_type": "display_data"
    }
   ],
   "source": [
    "fig, ax = plt.subplots(1, 1)\n",
    "df_cd[cols_officer_age].isnull().mean().plot(kind='bar', ax=ax, rot=0, color='black')\n",
    "xticklabels = [s.split('_')[-1] for s in cols_officer_age]\n",
    "ax.set(ylabel='% of Missing Data', xlabel='Officer Index', xticklabels=xticklabels, \n",
    "       title='Civilian Data ($N={}$)'.format(df_cd.shape[0]));"
   ]
  },
  {
   "cell_type": "markdown",
   "metadata": {},
   "source": [
    "## 2. Civilian information in the officer data"
   ]
  },
  {
   "cell_type": "markdown",
   "metadata": {},
   "source": [
    "Civilian columns have string `civilian_` in their names."
   ]
  },
  {
   "cell_type": "code",
   "execution_count": 7,
   "metadata": {},
   "outputs": [
    {
     "data": {
      "text/plain": [
       "(130, 50)"
      ]
     },
     "execution_count": 7,
     "metadata": {},
     "output_type": "execute_result"
    }
   ],
   "source": [
    "df_os.shape"
   ]
  },
  {
   "cell_type": "code",
   "execution_count": 8,
   "metadata": {},
   "outputs": [
    {
     "name": "stdout",
     "output_type": "stream",
     "text": [
      "['civilian_age_1' 'civilian_age_2' 'civilian_age_3' 'civilian_gender_1'\n",
      " 'civilian_gender_2' 'civilian_gender_3' 'civilian_harm'\n",
      " 'civilian_name_first_1' 'civilian_name_first_2' 'civilian_name_first_3'\n",
      " 'civilian_name_last_1' 'civilian_name_last_2' 'civilian_name_last_3'\n",
      " 'civilian_race_1' 'civilian_race_2' 'civilian_race_3' 'civilian_suicide']\n"
     ]
    }
   ],
   "source": [
    "cols_civilian = [col for col in df_os.columns if 'civilian_' in col]\n",
    "print(np.sort(cols_civilian))"
   ]
  },
  {
   "cell_type": "code",
   "execution_count": 9,
   "metadata": {},
   "outputs": [
    {
     "data": {
      "text/plain": [
       "civilian_harm              0\n",
       "civilian_suicide           0\n",
       "civilian_name_first_1     26\n",
       "civilian_name_last_1      25\n",
       "civilian_age_1            10\n",
       "civilian_race_1            5\n",
       "civilian_gender_1          3\n",
       "civilian_name_first_2    123\n",
       "civilian_name_last_2     123\n",
       "civilian_age_2           121\n",
       "civilian_race_2          121\n",
       "civilian_gender_2        121\n",
       "civilian_name_first_3    130\n",
       "civilian_name_last_3     130\n",
       "civilian_age_3           129\n",
       "civilian_race_3          129\n",
       "civilian_gender_3        129\n",
       "dtype: int64"
      ]
     },
     "execution_count": 9,
     "metadata": {},
     "output_type": "execute_result"
    }
   ],
   "source": [
    "df_os[cols_civilian].isnull().sum()"
   ]
  },
  {
   "cell_type": "markdown",
   "metadata": {},
   "source": [
    "- Comparison with civilian data\n",
    "    - The number of civilian shooters can go up to only 3. The number of officer shooters can go up to 11.\n",
    "    - Here, we have identifiable information (names). The officer shooters don't have names.\n",
    "    - Same demographic information: age, race, gender\n",
    "    - At least for the first shooter (`_1`), there are not many missing rows although gender seems to be most populated."
   ]
  },
  {
   "cell_type": "code",
   "execution_count": 10,
   "metadata": {},
   "outputs": [
    {
     "name": "stdout",
     "output_type": "stream",
     "text": [
      "['civilian_gender_1', 'civilian_gender_2', 'civilian_gender_3']\n"
     ]
    }
   ],
   "source": [
    "cols_civilian_gender = [col for col in df_os.columns if 'civilian_gender_' in col]\n",
    "print(cols_civilian_gender)"
   ]
  },
  {
   "cell_type": "code",
   "execution_count": 11,
   "metadata": {},
   "outputs": [
    {
     "data": {
      "image/png": "[encoded data removed]",
      "text/plain": [
       "<Figure size 432x288 with 1 Axes>"
      ]
     },
     "metadata": {
      "image/png": {
       "height": 281,
       "width": 388
      },
      "needs_background": "light"
     },
     "output_type": "display_data"
    }
   ],
   "source": [
    "fig, ax = plt.subplots(1, 1)\n",
    "df_os[cols_civilian_gender].isnull().mean().plot(kind='bar', ax=ax, rot=0, color='black')\n",
    "xticklabels = [s.split('_')[-1] for s in cols_civilian_gender]\n",
    "ax.set(ylabel='% of Missing Data', xlabel='Civilian Index', xticklabels=xticklabels, \n",
    "       title='Officer Data ($N={}$)'.format(df_os.shape[0]));"
   ]
  },
  {
   "cell_type": "markdown",
   "metadata": {},
   "source": [
    "## Summary\n",
    "- The shooter information of both officers and civilians are well documented for the first shooter.\n",
    "- For both datasets, there are 3 pieces of demographic information of shooters: **age, race, and gender**."
   ]
  },
  {
   "cell_type": "markdown",
   "metadata": {},
   "source": [
    "## To do (for now)\n",
    "- Need to assess the data quality of multi-shooter incidents.\n",
    "- Check whether the difference in the number of shooters in the form originates from OIS report format or somewhere else.\n",
    "- Assess the risk of just analyzing the first shooter but ingoring the rest.\n",
    "- Check whether there is any ordinal nature of the numerical suffix (i.e., does shooter_**1** play a more important role than shooter_**2**?): this may matter if we decide to just use the first shooter information.\n",
    "- Decide whether to expand our scope to weapon information."
   ]
  }
 ],
 "metadata": {
  "kernelspec": {
   "display_name": "Python 3",
   "language": "python",
   "name": "python3"
  },
  "language_info": {
   "codemirror_mode": {
    "name": "ipython",
    "version": 3
   },
   "file_extension": ".py",
   "mimetype": "text/x-python",
   "name": "python",
   "nbconvert_exporter": "python",
   "pygments_lexer": "ipython3",
   "version": "3.7.9"
  }
 },
 "nbformat": 4,
 "nbformat_minor": 4
}
