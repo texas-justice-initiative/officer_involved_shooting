{
 "cells": [
  {
   "cell_type": "code",
   "execution_count": 1,
   "id": "prerequisite-niger",
   "metadata": {},
   "outputs": [
    {
     "name": "stdout",
     "output_type": "stream",
     "text": [
      "Author: Hongsup Shin\n",
      "\n",
      "Last updated: 2021-04-09 23:53:17\n",
      "\n",
      "Python implementation: CPython\n",
      "Python version       : 3.7.10\n",
      "IPython version      : 7.20.0\n",
      "\n",
      "Git hash: 54d4c1c8c0b377662add0b8bc25aeb66852598af\n",
      "\n",
      "Git repo: https://github.com/texas-justice-initiative/officer_involved_shooting.git\n",
      "\n",
      "Git branch: create_annual_report\n",
      "\n",
      "matplotlib: 3.4.1\n",
      "numpy     : 1.20.2\n",
      "seaborn   : 0.11.1\n",
      "pandas    : 1.2.3\n",
      "\n"
     ]
    }
   ],
   "source": [
    "import pandas as pd\n",
    "pd.set_option('precision', 2)\n",
    "import numpy as np\n",
    "import matplotlib\n",
    "import matplotlib.pyplot as plt\n",
    "import seaborn as sns\n",
    "\n",
    "plt.style.use('ggplot')\n",
    "%config InlineBackend.figure_format = 'retina'\n",
    "colors = plt.rcParams['axes.prop_cycle'].by_key()['color']\n",
    "colors_ = plt.get_cmap('Set2')(np.linspace(0, 1, 8))\n",
    "colors_year = plt.get_cmap('magma')(np.linspace(0.5, 1, 5)[::-1][1:])\n",
    "\n",
    "from IPython.core.pylabtools import figsize\n",
    "from IPython.display import display\n",
    "figsize(8, 5)\n",
    "\n",
    "%load_ext watermark\n",
    "%load_ext autoreload\n",
    "%autoreload 2\n",
    "%matplotlib inline\n",
    "\n",
    "%watermark -d -t -u -v -g -r -b -iv -a \"Hongsup Shin\" "
   ]
  },
  {
   "cell_type": "code",
   "execution_count": 2,
   "id": "terminal-regular",
   "metadata": {},
   "outputs": [],
   "source": [
    "# loading custom modules\n",
    "import preprocess\n",
    "import plot\n",
    "from preprocess import Preprocess"
   ]
  },
  {
   "cell_type": "code",
   "execution_count": 3,
   "id": "utility-prince",
   "metadata": {},
   "outputs": [],
   "source": [
    "df_census = pd.read_pickle('../Data/Interim/census_county_race_2010.pkl')\n",
    "correct_county_names = df_census.index"
   ]
  },
  {
   "cell_type": "code",
   "execution_count": 4,
   "id": "transsexual-glucose",
   "metadata": {},
   "outputs": [
    {
     "name": "stdout",
     "output_type": "stream",
     "text": [
      "Index(['ANDERSON', 'ANDREWS', 'ANGELINA', 'ARANSAS', 'ARCHER', 'ARMSTRONG',\n",
      "       'ATASCOSA', 'AUSTIN', 'BAILEY', 'BANDERA',\n",
      "       ...\n",
      "       'WILLACY', 'WILLIAMSON', 'WILSON', 'WINKLER', 'WISE', 'WOOD', 'YOAKUM',\n",
      "       'YOUNG', 'ZAPATA', 'ZAVALA'],\n",
      "      dtype='object', name='County', length=254)\n"
     ]
    }
   ],
   "source": [
    "print(correct_county_names)"
   ]
  },
  {
   "cell_type": "markdown",
   "id": "cutting-apartment",
   "metadata": {},
   "source": [
    "# Preprocessing OIS data with `preprocess.Preprocess`\n",
    "## Civilian data"
   ]
  },
  {
   "cell_type": "markdown",
   "id": "other-mumbai",
   "metadata": {},
   "source": [
    "Loading the raw data"
   ]
  },
  {
   "cell_type": "code",
   "execution_count": 5,
   "id": "hollywood-think",
   "metadata": {},
   "outputs": [],
   "source": [
    "df_cd = pd.read_csv('../Data/Raw/Website/tji_civilians-shot_Apr2021.csv')"
   ]
  },
  {
   "cell_type": "code",
   "execution_count": 6,
   "id": "periodic-jersey",
   "metadata": {},
   "outputs": [],
   "source": [
    "preprocessor = Preprocess(df_cd, correct_county_names)"
   ]
  },
  {
   "cell_type": "code",
   "execution_count": 7,
   "id": "mysterious-climb",
   "metadata": {},
   "outputs": [
    {
     "ename": "ValueError",
     "evalue": "Incorrect county names exist: {'COLIN', 'QUAY (NM)'}",
     "output_type": "error",
     "traceback": [
      "\u001b[0;31m---------------------------------------------------------------------------\u001b[0m",
      "\u001b[0;31mValueError\u001b[0m                                Traceback (most recent call last)",
      "\u001b[0;32m<ipython-input-7-8c8b5f28aca1>\u001b[0m in \u001b[0;36m<module>\u001b[0;34m\u001b[0m\n\u001b[0;32m----> 1\u001b[0;31m \u001b[0mpreprocessor\u001b[0m\u001b[0;34m.\u001b[0m\u001b[0mget_civilian_data\u001b[0m\u001b[0;34m(\u001b[0m\u001b[0;34m)\u001b[0m\u001b[0;34m\u001b[0m\u001b[0;34m\u001b[0m\u001b[0m\n\u001b[0m",
      "\u001b[0;32m~/Dropbox/Projects/TJI/officer_involved_shooting/Notebooks/preprocess.py\u001b[0m in \u001b[0;36mget_civilian_data\u001b[0;34m(self)\u001b[0m\n\u001b[1;32m    251\u001b[0m \u001b[0;34m\u001b[0m\u001b[0m\n\u001b[1;32m    252\u001b[0m     \u001b[0;32mdef\u001b[0m \u001b[0mget_civilian_data\u001b[0m\u001b[0;34m(\u001b[0m\u001b[0mself\u001b[0m\u001b[0;34m)\u001b[0m\u001b[0;34m:\u001b[0m\u001b[0;34m\u001b[0m\u001b[0;34m\u001b[0m\u001b[0m\n\u001b[0;32m--> 253\u001b[0;31m         \u001b[0mself\u001b[0m\u001b[0;34m.\u001b[0m\u001b[0mcheck_county_names\u001b[0m\u001b[0;34m(\u001b[0m\u001b[0;34m)\u001b[0m\u001b[0;34m\u001b[0m\u001b[0;34m\u001b[0m\u001b[0m\n\u001b[0m\u001b[1;32m    254\u001b[0m         \u001b[0mself\u001b[0m\u001b[0;34m.\u001b[0m\u001b[0madd_date_cols\u001b[0m\u001b[0;34m(\u001b[0m\u001b[0;34m)\u001b[0m\u001b[0;34m\u001b[0m\u001b[0;34m\u001b[0m\u001b[0m\n\u001b[1;32m    255\u001b[0m         \u001b[0mself\u001b[0m\u001b[0;34m.\u001b[0m\u001b[0mselect_rows_by_year\u001b[0m\u001b[0;34m(\u001b[0m\u001b[0;34m)\u001b[0m\u001b[0;34m\u001b[0m\u001b[0;34m\u001b[0m\u001b[0m\n",
      "\u001b[0;32m~/Dropbox/Projects/TJI/officer_involved_shooting/Notebooks/preprocess.py\u001b[0m in \u001b[0;36mcheck_county_names\u001b[0;34m(self)\u001b[0m\n\u001b[1;32m    209\u001b[0m         \u001b[0mnon_existent_counties\u001b[0m \u001b[0;34m=\u001b[0m \u001b[0mset\u001b[0m\u001b[0;34m(\u001b[0m\u001b[0mself\u001b[0m\u001b[0;34m.\u001b[0m\u001b[0mdf\u001b[0m\u001b[0;34m[\u001b[0m\u001b[0;34m'incident_county'\u001b[0m\u001b[0;34m]\u001b[0m\u001b[0;34m)\u001b[0m \u001b[0;34m-\u001b[0m \u001b[0mset\u001b[0m\u001b[0;34m(\u001b[0m\u001b[0mself\u001b[0m\u001b[0;34m.\u001b[0m\u001b[0mcorrect_county_names\u001b[0m\u001b[0;34m)\u001b[0m\u001b[0;34m\u001b[0m\u001b[0;34m\u001b[0m\u001b[0m\n\u001b[1;32m    210\u001b[0m         \u001b[0;32mif\u001b[0m \u001b[0mlen\u001b[0m\u001b[0;34m(\u001b[0m\u001b[0mnon_existent_counties\u001b[0m\u001b[0;34m)\u001b[0m \u001b[0;34m>\u001b[0m \u001b[0;36m0\u001b[0m\u001b[0;34m:\u001b[0m\u001b[0;34m\u001b[0m\u001b[0;34m\u001b[0m\u001b[0m\n\u001b[0;32m--> 211\u001b[0;31m             \u001b[0;32mraise\u001b[0m \u001b[0mValueError\u001b[0m\u001b[0;34m(\u001b[0m\u001b[0;34m\"Incorrect county names exist: {}\"\u001b[0m\u001b[0;34m.\u001b[0m\u001b[0mformat\u001b[0m\u001b[0;34m(\u001b[0m\u001b[0mnon_existent_counties\u001b[0m\u001b[0;34m)\u001b[0m\u001b[0;34m)\u001b[0m\u001b[0;34m\u001b[0m\u001b[0;34m\u001b[0m\u001b[0m\n\u001b[0m\u001b[1;32m    212\u001b[0m \u001b[0;34m\u001b[0m\u001b[0m\n\u001b[1;32m    213\u001b[0m     \u001b[0;32mdef\u001b[0m \u001b[0mremove_duplicates\u001b[0m\u001b[0;34m(\u001b[0m\u001b[0mself\u001b[0m\u001b[0;34m)\u001b[0m\u001b[0;34m:\u001b[0m\u001b[0;34m\u001b[0m\u001b[0;34m\u001b[0m\u001b[0m\n",
      "\u001b[0;31mValueError\u001b[0m: Incorrect county names exist: {'COLIN', 'QUAY (NM)'}"
     ]
    }
   ],
   "source": [
    "preprocessor.get_civilian_data()"
   ]
  },
  {
   "cell_type": "markdown",
   "id": "linear-baghdad",
   "metadata": {},
   "source": [
    "The module has a county name check. Since `ValueError` was raised, we need to fix this."
   ]
  },
  {
   "cell_type": "code",
   "execution_count": 8,
   "id": "romantic-programming",
   "metadata": {},
   "outputs": [
    {
     "data": {
      "text/plain": [
       "1"
      ]
     },
     "execution_count": 8,
     "metadata": {},
     "output_type": "execute_result"
    }
   ],
   "source": [
    "(df_cd['incident_county'] == 'QUAY (NM)').sum()"
   ]
  },
  {
   "cell_type": "markdown",
   "id": "pacific-aquatic",
   "metadata": {},
   "source": [
    "For \"QUAY\", which exists in New Mexico, we will remove it from the data (one incident)."
   ]
  },
  {
   "cell_type": "code",
   "execution_count": 9,
   "id": "stone-problem",
   "metadata": {},
   "outputs": [],
   "source": [
    "df_cd = df_cd.loc[df_cd['incident_county'] != 'QUAY (NM)', :]"
   ]
  },
  {
   "cell_type": "markdown",
   "id": "herbal-specific",
   "metadata": {},
   "source": [
    "For \"COLIN\", the correct spelling is \"COLLIN\". Let's fix this."
   ]
  },
  {
   "cell_type": "code",
   "execution_count": 10,
   "id": "latin-mason",
   "metadata": {},
   "outputs": [
    {
     "name": "stderr",
     "output_type": "stream",
     "text": [
      "/opt/anaconda3/envs/dev/lib/python3.7/site-packages/pandas/core/indexing.py:1676: SettingWithCopyWarning: \n",
      "A value is trying to be set on a copy of a slice from a DataFrame.\n",
      "Try using .loc[row_indexer,col_indexer] = value instead\n",
      "\n",
      "See the caveats in the documentation: https://pandas.pydata.org/pandas-docs/stable/user_guide/indexing.html#returning-a-view-versus-a-copy\n",
      "  self._setitem_single_column(ilocs[0], value, pi)\n"
     ]
    }
   ],
   "source": [
    "df_cd.loc[:, 'incident_county'] = df_cd['incident_county'].str.replace('COLIN','COLLIN').values"
   ]
  },
  {
   "cell_type": "code",
   "execution_count": 11,
   "id": "humanitarian-franklin",
   "metadata": {},
   "outputs": [
    {
     "name": "stderr",
     "output_type": "stream",
     "text": [
      "/Users/hongsupshin/Dropbox/Projects/TJI/officer_involved_shooting/Notebooks/preprocess.py:22: SettingWithCopyWarning: \n",
      "A value is trying to be set on a copy of a slice from a DataFrame.\n",
      "Try using .loc[row_indexer,col_indexer] = value instead\n",
      "\n",
      "See the caveats in the documentation: https://pandas.pydata.org/pandas-docs/stable/user_guide/indexing.html#returning-a-view-versus-a-copy\n",
      "  df[col] = pd.to_datetime(df[col])\n",
      "/opt/anaconda3/envs/dev/lib/python3.7/site-packages/pandas/core/indexing.py:1597: SettingWithCopyWarning: \n",
      "A value is trying to be set on a copy of a slice from a DataFrame.\n",
      "Try using .loc[row_indexer,col_indexer] = value instead\n",
      "\n",
      "See the caveats in the documentation: https://pandas.pydata.org/pandas-docs/stable/user_guide/indexing.html#returning-a-view-versus-a-copy\n",
      "  self.obj[key] = value\n"
     ]
    }
   ],
   "source": [
    "preprocessor = Preprocess(df_cd, correct_county_names)\n",
    "df_civilian_preprocessed = preprocessor.get_civilian_data()"
   ]
  },
  {
   "cell_type": "code",
   "execution_count": 12,
   "id": "reverse-sterling",
   "metadata": {},
   "outputs": [
    {
     "data": {
      "text/html": [
       "<div>\n",
       "<style scoped>\n",
       "    .dataframe tbody tr th:only-of-type {\n",
       "        vertical-align: middle;\n",
       "    }\n",
       "\n",
       "    .dataframe tbody tr th {\n",
       "        vertical-align: top;\n",
       "    }\n",
       "\n",
       "    .dataframe thead th {\n",
       "        text-align: right;\n",
       "    }\n",
       "</style>\n",
       "<table border=\"1\" class=\"dataframe\">\n",
       "  <thead>\n",
       "    <tr style=\"text-align: right;\">\n",
       "      <th></th>\n",
       "      <th>date_ag_received</th>\n",
       "      <th>date_incident</th>\n",
       "      <th>incident_address</th>\n",
       "      <th>incident_city</th>\n",
       "      <th>incident_county</th>\n",
       "      <th>incident_zip</th>\n",
       "      <th>incident_result_of</th>\n",
       "      <th>incident_call_other</th>\n",
       "      <th>civilian_name_first</th>\n",
       "      <th>civilian_name_last</th>\n",
       "      <th>...</th>\n",
       "      <th>month</th>\n",
       "      <th>died</th>\n",
       "      <th>Traffic Stop</th>\n",
       "      <th>Emergency/Request for Assistance</th>\n",
       "      <th>Execution of a Warrant</th>\n",
       "      <th>Hostage/Barricade/Other Emergency</th>\n",
       "      <th>Other</th>\n",
       "      <th>civilian_age_binned</th>\n",
       "      <th>delay_days</th>\n",
       "      <th>delay_bin_label</th>\n",
       "    </tr>\n",
       "  </thead>\n",
       "  <tbody>\n",
       "    <tr>\n",
       "      <th>66</th>\n",
       "      <td>NaT</td>\n",
       "      <td>2016-01-02</td>\n",
       "      <td>2000 LAMAR STREET</td>\n",
       "      <td>SWEETWATER</td>\n",
       "      <td>NOLAN</td>\n",
       "      <td>79556.0</td>\n",
       "      <td>EMERGENCY CALL OR REQUEST FOR ASSISTANCE</td>\n",
       "      <td>SUSPECT INVOLVED IN HOMICIDE IN NOLAN COUNTY, ...</td>\n",
       "      <td>LANCE</td>\n",
       "      <td>LIGHT</td>\n",
       "      <td>...</td>\n",
       "      <td>1</td>\n",
       "      <td>True</td>\n",
       "      <td>0</td>\n",
       "      <td>1</td>\n",
       "      <td>0</td>\n",
       "      <td>0</td>\n",
       "      <td>0</td>\n",
       "      <td>5</td>\n",
       "      <td>NaN</td>\n",
       "      <td>-1</td>\n",
       "    </tr>\n",
       "    <tr>\n",
       "      <th>67</th>\n",
       "      <td>NaT</td>\n",
       "      <td>2016-01-03</td>\n",
       "      <td>FM 2932 &amp; FM 741</td>\n",
       "      <td>UNINCORPORATED</td>\n",
       "      <td>KAUFMAN</td>\n",
       "      <td>75126.0</td>\n",
       "      <td>OTHER - SPECIFY TYPE OF CALL</td>\n",
       "      <td>OFF DUTY - ATTEMPTED TO ASSIST MOTORIST</td>\n",
       "      <td>CODY</td>\n",
       "      <td>WESBERRY</td>\n",
       "      <td>...</td>\n",
       "      <td>1</td>\n",
       "      <td>False</td>\n",
       "      <td>0</td>\n",
       "      <td>0</td>\n",
       "      <td>0</td>\n",
       "      <td>0</td>\n",
       "      <td>1</td>\n",
       "      <td>2</td>\n",
       "      <td>NaN</td>\n",
       "      <td>-1</td>\n",
       "    </tr>\n",
       "    <tr>\n",
       "      <th>68</th>\n",
       "      <td>NaT</td>\n",
       "      <td>2016-01-04</td>\n",
       "      <td>1142 BURGER STREET</td>\n",
       "      <td>ABILENE</td>\n",
       "      <td>TAYLOR</td>\n",
       "      <td>79603.0</td>\n",
       "      <td>EMERGENCY CALL OR REQUEST FOR ASSISTANCE</td>\n",
       "      <td>NaN</td>\n",
       "      <td>DEREK LEE</td>\n",
       "      <td>CASEY</td>\n",
       "      <td>...</td>\n",
       "      <td>1</td>\n",
       "      <td>False</td>\n",
       "      <td>0</td>\n",
       "      <td>1</td>\n",
       "      <td>0</td>\n",
       "      <td>0</td>\n",
       "      <td>0</td>\n",
       "      <td>3</td>\n",
       "      <td>NaN</td>\n",
       "      <td>-1</td>\n",
       "    </tr>\n",
       "    <tr>\n",
       "      <th>69</th>\n",
       "      <td>NaT</td>\n",
       "      <td>2016-01-17</td>\n",
       "      <td>5639 OLD HWY 90 W</td>\n",
       "      <td>SAN ANTONIO</td>\n",
       "      <td>BEXAR</td>\n",
       "      <td>78227.0</td>\n",
       "      <td>EMERGENCY CALL OR REQUEST FOR ASSISTANCE</td>\n",
       "      <td>NaN</td>\n",
       "      <td>ASHTON LANE</td>\n",
       "      <td>MORRIS</td>\n",
       "      <td>...</td>\n",
       "      <td>1</td>\n",
       "      <td>True</td>\n",
       "      <td>0</td>\n",
       "      <td>1</td>\n",
       "      <td>0</td>\n",
       "      <td>0</td>\n",
       "      <td>0</td>\n",
       "      <td>3</td>\n",
       "      <td>NaN</td>\n",
       "      <td>-1</td>\n",
       "    </tr>\n",
       "    <tr>\n",
       "      <th>70</th>\n",
       "      <td>NaT</td>\n",
       "      <td>2016-01-19</td>\n",
       "      <td>1100 RIVERWOOD</td>\n",
       "      <td>DALLAS</td>\n",
       "      <td>DALLAS</td>\n",
       "      <td>75217.0</td>\n",
       "      <td>OTHER - SPECIFY TYPE OF CALL</td>\n",
       "      <td>SUSPICIOUS PERSON</td>\n",
       "      <td>GARY WAYNE</td>\n",
       "      <td>JONES</td>\n",
       "      <td>...</td>\n",
       "      <td>1</td>\n",
       "      <td>True</td>\n",
       "      <td>0</td>\n",
       "      <td>0</td>\n",
       "      <td>0</td>\n",
       "      <td>0</td>\n",
       "      <td>1</td>\n",
       "      <td>4</td>\n",
       "      <td>NaN</td>\n",
       "      <td>-1</td>\n",
       "    </tr>\n",
       "  </tbody>\n",
       "</table>\n",
       "<p>5 rows × 154 columns</p>\n",
       "</div>"
      ],
      "text/plain": [
       "   date_ag_received date_incident    incident_address   incident_city  \\\n",
       "66              NaT    2016-01-02   2000 LAMAR STREET      SWEETWATER   \n",
       "67              NaT    2016-01-03    FM 2932 & FM 741  UNINCORPORATED   \n",
       "68              NaT    2016-01-04  1142 BURGER STREET         ABILENE   \n",
       "69              NaT    2016-01-17   5639 OLD HWY 90 W     SAN ANTONIO   \n",
       "70              NaT    2016-01-19      1100 RIVERWOOD          DALLAS   \n",
       "\n",
       "   incident_county  incident_zip                        incident_result_of  \\\n",
       "66           NOLAN       79556.0  EMERGENCY CALL OR REQUEST FOR ASSISTANCE   \n",
       "67         KAUFMAN       75126.0              OTHER - SPECIFY TYPE OF CALL   \n",
       "68          TAYLOR       79603.0  EMERGENCY CALL OR REQUEST FOR ASSISTANCE   \n",
       "69           BEXAR       78227.0  EMERGENCY CALL OR REQUEST FOR ASSISTANCE   \n",
       "70          DALLAS       75217.0              OTHER - SPECIFY TYPE OF CALL   \n",
       "\n",
       "                                  incident_call_other civilian_name_first  \\\n",
       "66  SUSPECT INVOLVED IN HOMICIDE IN NOLAN COUNTY, ...               LANCE   \n",
       "67            OFF DUTY - ATTEMPTED TO ASSIST MOTORIST                CODY   \n",
       "68                                                NaN           DEREK LEE   \n",
       "69                                                NaN         ASHTON LANE   \n",
       "70                                  SUSPICIOUS PERSON          GARY WAYNE   \n",
       "\n",
       "   civilian_name_last  ... month   died  Traffic Stop  \\\n",
       "66              LIGHT  ...     1   True             0   \n",
       "67           WESBERRY  ...     1  False             0   \n",
       "68              CASEY  ...     1  False             0   \n",
       "69             MORRIS  ...     1   True             0   \n",
       "70              JONES  ...     1   True             0   \n",
       "\n",
       "   Emergency/Request for Assistance Execution of a Warrant  \\\n",
       "66                                1                      0   \n",
       "67                                0                      0   \n",
       "68                                1                      0   \n",
       "69                                1                      0   \n",
       "70                                0                      0   \n",
       "\n",
       "    Hostage/Barricade/Other Emergency Other civilian_age_binned delay_days  \\\n",
       "66                                  0     0                   5        NaN   \n",
       "67                                  0     1                   2        NaN   \n",
       "68                                  0     0                   3        NaN   \n",
       "69                                  0     0                   3        NaN   \n",
       "70                                  0     1                   4        NaN   \n",
       "\n",
       "   delay_bin_label  \n",
       "66              -1  \n",
       "67              -1  \n",
       "68              -1  \n",
       "69              -1  \n",
       "70              -1  \n",
       "\n",
       "[5 rows x 154 columns]"
      ]
     },
     "execution_count": 12,
     "metadata": {},
     "output_type": "execute_result"
    }
   ],
   "source": [
    "df_civilian_preprocessed.head()"
   ]
  },
  {
   "cell_type": "code",
   "execution_count": 13,
   "id": "domestic-biodiversity",
   "metadata": {},
   "outputs": [
    {
     "data": {
      "text/plain": [
       "(873, 154)"
      ]
     },
     "execution_count": 13,
     "metadata": {},
     "output_type": "execute_result"
    }
   ],
   "source": [
    "df_civilian_preprocessed.shape"
   ]
  },
  {
   "cell_type": "code",
   "execution_count": 14,
   "id": "positive-shell",
   "metadata": {},
   "outputs": [
    {
     "name": "stdout",
     "output_type": "stream",
     "text": [
      "['Emergency/Request for Assistance' 'Execution of a Warrant'\n",
      " 'Hostage/Barricade/Other Emergency' 'Other' 'Traffic Stop'\n",
      " 'agency_city_1' 'agency_city_10' 'agency_city_11' 'agency_city_2'\n",
      " 'agency_city_3' 'agency_city_4' 'agency_city_5' 'agency_city_6'\n",
      " 'agency_city_7' 'agency_city_8' 'agency_city_9' 'agency_county_1'\n",
      " 'agency_county_10' 'agency_county_2' 'agency_county_3' 'agency_county_4'\n",
      " 'agency_county_5' 'agency_county_6' 'agency_county_7' 'agency_county_8'\n",
      " 'agency_county_9' 'agency_email_person_filling_out_1'\n",
      " 'agency_email_person_filling_out_10' 'agency_email_person_filling_out_11'\n",
      " 'agency_email_person_filling_out_2' 'agency_email_person_filling_out_3'\n",
      " 'agency_email_person_filling_out_4' 'agency_email_person_filling_out_5'\n",
      " 'agency_email_person_filling_out_6' 'agency_email_person_filling_out_7'\n",
      " 'agency_email_person_filling_out_8' 'agency_email_person_filling_out_9'\n",
      " 'agency_name_1' 'agency_name_10' 'agency_name_11' 'agency_name_2'\n",
      " 'agency_name_3' 'agency_name_4' 'agency_name_5' 'agency_name_6'\n",
      " 'agency_name_7' 'agency_name_8' 'agency_name_9'\n",
      " 'agency_name_person_filling_out_1' 'agency_name_person_filling_out_10'\n",
      " 'agency_name_person_filling_out_11' 'agency_name_person_filling_out_2'\n",
      " 'agency_name_person_filling_out_3' 'agency_name_person_filling_out_4'\n",
      " 'agency_name_person_filling_out_5' 'agency_name_person_filling_out_6'\n",
      " 'agency_name_person_filling_out_7' 'agency_name_person_filling_out_8'\n",
      " 'agency_name_person_filling_out_9' 'agency_report_date_1'\n",
      " 'agency_report_date_10' 'agency_report_date_11' 'agency_report_date_2'\n",
      " 'agency_report_date_3' 'agency_report_date_4' 'agency_report_date_5'\n",
      " 'agency_report_date_6' 'agency_report_date_7' 'agency_report_date_8'\n",
      " 'agency_report_date_9' 'agency_zip_1' 'agency_zip_10' 'agency_zip_11'\n",
      " 'agency_zip_2' 'agency_zip_3' 'agency_zip_4' 'agency_zip_5'\n",
      " 'agency_zip_6' 'agency_zip_7' 'agency_zip_8' 'agency_zip_9'\n",
      " 'cdr_narrative' 'civilian_age' 'civilian_age_binned' 'civilian_died'\n",
      " 'civilian_gender' 'civilian_name_first' 'civilian_name_full'\n",
      " 'civilian_name_last' 'civilian_race' 'custodial_death_report'\n",
      " 'date_ag_received' 'date_incident' 'deadly_weapon' 'delay_bin_label'\n",
      " 'delay_days' 'died' 'incident_address' 'incident_call_other'\n",
      " 'incident_city' 'incident_county' 'incident_result_of' 'incident_zip'\n",
      " 'lea_narrative_published' 'lea_narrative_shorter' 'month'\n",
      " 'multiple_officers_involved' 'news_coverage_1' 'news_coverage_2'\n",
      " 'news_coverage_3' 'news_coverage_4' 'num_officers_recorded'\n",
      " 'num_reports_filed' 'num_rows_about_this_incident' 'officer_age_1'\n",
      " 'officer_age_10' 'officer_age_11' 'officer_age_2' 'officer_age_3'\n",
      " 'officer_age_4' 'officer_age_5' 'officer_age_6' 'officer_age_7'\n",
      " 'officer_age_8' 'officer_age_9' 'officer_caused_injury_2'\n",
      " 'officer_caused_injury_3' 'officer_gender_1' 'officer_gender_10'\n",
      " 'officer_gender_11' 'officer_gender_2' 'officer_gender_3'\n",
      " 'officer_gender_4' 'officer_gender_5' 'officer_gender_6'\n",
      " 'officer_gender_7' 'officer_gender_8' 'officer_gender_9'\n",
      " 'officer_on_duty' 'officer_race_1' 'officer_race_10' 'officer_race_11'\n",
      " 'officer_race_2' 'officer_race_3' 'officer_race_4' 'officer_race_5'\n",
      " 'officer_race_6' 'officer_race_7' 'officer_race_8' 'officer_race_9'\n",
      " 'time_incident' 'weapon_reported_by_media'\n",
      " 'weapon_reported_by_media_category' 'year']\n"
     ]
    }
   ],
   "source": [
    "print(np.sort(df_civilian_preprocessed.columns))"
   ]
  },
  {
   "cell_type": "markdown",
   "id": "underlying-visitor",
   "metadata": {},
   "source": [
    "## Officer data"
   ]
  },
  {
   "cell_type": "markdown",
   "id": "absent-thursday",
   "metadata": {},
   "source": [
    "Loading the raw data"
   ]
  },
  {
   "cell_type": "code",
   "execution_count": 16,
   "id": "rising-future",
   "metadata": {},
   "outputs": [],
   "source": [
    "df_os = pd.read_csv('../Data/Raw/Website/tji_officers-Shot_Apr2021.csv')"
   ]
  },
  {
   "cell_type": "code",
   "execution_count": 17,
   "id": "developed-finance",
   "metadata": {},
   "outputs": [],
   "source": [
    "preprocessor = Preprocess(df_os, correct_county_names)"
   ]
  },
  {
   "cell_type": "code",
   "execution_count": 18,
   "id": "hearing-certification",
   "metadata": {},
   "outputs": [
    {
     "name": "stderr",
     "output_type": "stream",
     "text": [
      "/Users/hongsupshin/Dropbox/Projects/TJI/officer_involved_shooting/Notebooks/preprocess.py:222: SettingWithCopyWarning: \n",
      "A value is trying to be set on a copy of a slice from a DataFrame.\n",
      "Try using .loc[row_indexer,col_indexer] = value instead\n",
      "\n",
      "See the caveats in the documentation: https://pandas.pydata.org/pandas-docs/stable/user_guide/indexing.html#returning-a-view-versus-a-copy\n",
      "  self.df['died'] = self.df[death_injury_col_name]=='DEATH'\n",
      "/opt/anaconda3/envs/dev/lib/python3.7/site-packages/pandas/core/indexing.py:1597: SettingWithCopyWarning: \n",
      "A value is trying to be set on a copy of a slice from a DataFrame.\n",
      "Try using .loc[row_indexer,col_indexer] = value instead\n",
      "\n",
      "See the caveats in the documentation: https://pandas.pydata.org/pandas-docs/stable/user_guide/indexing.html#returning-a-view-versus-a-copy\n",
      "  self.obj[key] = value\n",
      "/opt/anaconda3/envs/dev/lib/python3.7/site-packages/pandas/core/indexing.py:1676: SettingWithCopyWarning: \n",
      "A value is trying to be set on a copy of a slice from a DataFrame.\n",
      "Try using .loc[row_indexer,col_indexer] = value instead\n",
      "\n",
      "See the caveats in the documentation: https://pandas.pydata.org/pandas-docs/stable/user_guide/indexing.html#returning-a-view-versus-a-copy\n",
      "  self._setitem_single_column(ilocs[0], value, pi)\n",
      "/opt/anaconda3/envs/dev/lib/python3.7/site-packages/pandas/core/indexing.py:1720: SettingWithCopyWarning: \n",
      "A value is trying to be set on a copy of a slice from a DataFrame.\n",
      "Try using .loc[row_indexer,col_indexer] = value instead\n",
      "\n",
      "See the caveats in the documentation: https://pandas.pydata.org/pandas-docs/stable/user_guide/indexing.html#returning-a-view-versus-a-copy\n",
      "  self._setitem_single_column(loc, value, pi)\n",
      "/opt/anaconda3/envs/dev/lib/python3.7/site-packages/pandas/core/indexing.py:1597: SettingWithCopyWarning: \n",
      "A value is trying to be set on a copy of a slice from a DataFrame.\n",
      "Try using .loc[row_indexer,col_indexer] = value instead\n",
      "\n",
      "See the caveats in the documentation: https://pandas.pydata.org/pandas-docs/stable/user_guide/indexing.html#returning-a-view-versus-a-copy\n",
      "  self.obj[key] = value\n",
      "/opt/anaconda3/envs/dev/lib/python3.7/site-packages/pandas/core/indexing.py:1676: SettingWithCopyWarning: \n",
      "A value is trying to be set on a copy of a slice from a DataFrame.\n",
      "Try using .loc[row_indexer,col_indexer] = value instead\n",
      "\n",
      "See the caveats in the documentation: https://pandas.pydata.org/pandas-docs/stable/user_guide/indexing.html#returning-a-view-versus-a-copy\n",
      "  self._setitem_single_column(ilocs[0], value, pi)\n"
     ]
    }
   ],
   "source": [
    "df_officer_preprocessed = preprocessor.get_officer_data()"
   ]
  },
  {
   "cell_type": "code",
   "execution_count": 19,
   "id": "seven-warren",
   "metadata": {},
   "outputs": [
    {
     "data": {
      "text/plain": [
       "(167, 52)"
      ]
     },
     "execution_count": 19,
     "metadata": {},
     "output_type": "execute_result"
    }
   ],
   "source": [
    "df_officer_preprocessed.shape"
   ]
  },
  {
   "cell_type": "code",
   "execution_count": 20,
   "id": "fuzzy-degree",
   "metadata": {},
   "outputs": [
    {
     "name": "stdout",
     "output_type": "stream",
     "text": [
      "['agency_city_1' 'agency_city_2' 'agency_county_1' 'agency_county_2'\n",
      " 'agency_email_person_filling_out_1' 'agency_email_person_filling_out_2'\n",
      " 'agency_name_1' 'agency_name_2' 'agency_name_person_filling_out_1'\n",
      " 'agency_name_person_filling_out_2' 'agency_report_date_1'\n",
      " 'agency_report_date_2' 'agency_zip_1' 'agency_zip_2' 'civilian_age_1'\n",
      " 'civilian_age_2' 'civilian_age_3' 'civilian_gender_1' 'civilian_gender_2'\n",
      " 'civilian_gender_3' 'civilian_harm' 'civilian_name_first_1'\n",
      " 'civilian_name_first_2' 'civilian_name_first_3' 'civilian_name_last_1'\n",
      " 'civilian_name_last_2' 'civilian_name_last_3' 'civilian_race_1'\n",
      " 'civilian_race_2' 'civilian_race_3' 'civilian_suicide' 'date_ag_received'\n",
      " 'date_incident' 'delay_bin_label' 'delay_days' 'died' 'incident_address'\n",
      " 'incident_city' 'incident_county' 'incident_zip' 'media_link_1'\n",
      " 'media_link_2' 'media_link_3' 'month' 'num_civilians_recorded'\n",
      " 'officer_age' 'officer_gender' 'officer_harm' 'officer_name_first'\n",
      " 'officer_name_last' 'officer_race' 'year']\n"
     ]
    }
   ],
   "source": [
    "print(np.sort(df_officer_preprocessed.columns))"
   ]
  },
  {
   "cell_type": "markdown",
   "id": "d49aaf5a-da9e-44c7-a0f5-d1c92efa0305",
   "metadata": {},
   "source": [
    "Save the preprocessed datasets"
   ]
  },
  {
   "cell_type": "code",
   "execution_count": 21,
   "id": "8312b661-ae95-498a-946c-566328a4fa41",
   "metadata": {},
   "outputs": [],
   "source": [
    "df_civilian_preprocessed.to_pickle('../Data/Preprocessed/civilian_preprocessed_20162020.pkl')\n",
    "df_officer_preprocessed.to_pickle('../Data/Preprocessed/officer_preprocessed_20162020.pkl')"
   ]
  }
 ],
 "metadata": {
  "kernelspec": {
   "display_name": "Python 3",
   "language": "python",
   "name": "python3"
  },
  "language_info": {
   "codemirror_mode": {
    "name": "ipython",
    "version": 3
   },
   "file_extension": ".py",
   "mimetype": "text/x-python",
   "name": "python",
   "nbconvert_exporter": "python",
   "pygments_lexer": "ipython3",
   "version": "3.7.10"
  }
 },
 "nbformat": 4,
 "nbformat_minor": 5
}
