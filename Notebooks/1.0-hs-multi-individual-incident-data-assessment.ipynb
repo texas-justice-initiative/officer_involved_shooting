{
 "cells": [
  {
   "cell_type": "code",
   "execution_count": 1,
   "metadata": {},
   "outputs": [
    {
     "name": "stdout",
     "output_type": "stream",
     "text": [
      "Author: Hongsup Shin\n",
      "\n",
      "Last updated: 2021-01-23 23:02:47\n",
      "\n",
      "Python implementation: CPython\n",
      "Python version       : 3.7.9\n",
      "IPython version      : 7.19.0\n",
      "\n",
      "Git hash: 7e011f383cbb32927b6c80787dc775f230502ce7\n",
      "\n",
      "Git repo: https://github.com/texas-justice-initiative/officer_involved_shooting_report_2020.git\n",
      "\n",
      "Git branch: data-qa\n",
      "\n",
      "pandas    : 1.2.0\n",
      "numpy     : 1.19.5\n",
      "seaborn   : 0.11.1\n",
      "matplotlib: 3.3.3\n",
      "\n"
     ]
    }
   ],
   "source": [
    "import pandas as pd\n",
    "pd.set_option('precision', 2)\n",
    "import numpy as np\n",
    "import matplotlib\n",
    "import matplotlib.pyplot as plt\n",
    "import seaborn as sns\n",
    "\n",
    "plt.style.use('ggplot')\n",
    "%config InlineBackend.figure_format = 'retina'\n",
    "colors = plt.rcParams['axes.prop_cycle'].by_key()['color']\n",
    "colors_ = plt.get_cmap('Set2')(np.linspace(0, 1, 8))\n",
    "colors_year = plt.get_cmap('magma')(np.linspace(0.5, 1, 5)[::-1][1:])\n",
    "\n",
    "from IPython.core.pylabtools import figsize\n",
    "from IPython.display import display\n",
    "figsize(8, 5)\n",
    "\n",
    "from plot import annotate\n",
    "\n",
    "%load_ext watermark\n",
    "%load_ext autoreload\n",
    "%autoreload 2\n",
    "%matplotlib inline\n",
    "\n",
    "%watermark -d -t -u -v -g -r -b -iv -a \"Hongsup Shin\" "
   ]
  },
  {
   "cell_type": "markdown",
   "metadata": {},
   "source": [
    "# Assess the data quality of multi-individual incidents"
   ]
  },
  {
   "cell_type": "markdown",
   "metadata": {},
   "source": [
    "## 1. Motivation \n",
    "\n",
    "There are **multiple columns** that show the information about **the number of the involved party** in both civilian and officer datasets. We need to know\n",
    "\n",
    "1. **which columns provide more reliable information than others**\n",
    "2. **whether there exist discrepancies between these columns**"
   ]
  },
  {
   "cell_type": "markdown",
   "metadata": {},
   "source": [
    "## 2. Columns that show the number of the involved party"
   ]
  },
  {
   "cell_type": "markdown",
   "metadata": {},
   "source": [
    "### 2.1. Civilian data (the involved party = officers)\n",
    "\n",
    "1. `multiple_officers_involved` (Boolean): `True` if yes, `False` otherwise.\n",
    "2. `num_officers_recorded` (integer): the number of officers\n",
    "3. Demographic information\n",
    "    - `officer_race_*` (string)\n",
    "    - `officer_age_*` (integer)\n",
    "    - `officer_gender_*` (string)\n",
    "\n",
    "- **Assumption 1. We assume that these demographic columns with different suffixes (e.g., `officer_race_1`, `officer_race_2`, etc.) represent different individuals.** This means given a report (a single row), we can count the number of the race columns that are populated, which will be the number of officers involved.\n",
    "- **Warning. Granularity of demographic information might be inconsistent.** For instance, a report might have information about an officer's gender but not age, or their race but not gender, and so on. To check the consistency between `num_officers_recorded` and the demographic columns, we will have to do *union* (i.e., one of the demographic columns (age, race, or gender) is not null, we count it)."
   ]
  },
  {
   "cell_type": "markdown",
   "metadata": {},
   "source": [
    "### 2.2 Officer data (the involved party = civilians)\n",
    "1. `num_civilians_recorded` (integer): the number of civilians\n",
    "2. Demographic information\n",
    "    - `civilian_race_*`\n",
    "    - `civilian_age_*`\n",
    "    - `civilian_gender_*`\n",
    "    - **`civilian_name_first_*`**\n",
    "    - **`civilian_name_last_*`**\n",
    "- The above-mentioned assumption and warning are applied to the officer data too."
   ]
  },
  {
   "cell_type": "markdown",
   "metadata": {},
   "source": [
    "## 3. Officers in the civilian data "
   ]
  },
  {
   "cell_type": "code",
   "execution_count": 2,
   "metadata": {},
   "outputs": [
    {
     "name": "stdout",
     "output_type": "stream",
     "text": [
      "(697, 154)\n"
     ]
    }
   ],
   "source": [
    "df_cd = pd.read_pickle('../Data/Preprocessed/civilian_shooting_preprocessed.pkl'); print(df_cd.shape)"
   ]
  },
  {
   "cell_type": "markdown",
   "metadata": {},
   "source": [
    "### 3.1 Size of the involved party (`num_officers_recorded` vs. officer demographic data)\n",
    "\n",
    "Method\n",
    "\n",
    "1. Starting from the first individual (suffix `1`), check all three demographic columns (race, age, gender) for each individual\n",
    "2. If at least one of the three columns have some information (union), we count this as one of the officers."
   ]
  },
  {
   "cell_type": "markdown",
   "metadata": {},
   "source": [
    "|officer_race_1|officer_age_1|officer_gender|**<font color='red'>Count this as an officer?</font>**|\n",
    "|--------------|-------------|--------------|-----------------------------|\n",
    "|White|26|Male|Yes|\n",
    "|Black|||**Yes**|"
   ]
  },
  {
   "cell_type": "code",
   "execution_count": 3,
   "metadata": {},
   "outputs": [],
   "source": [
    "dem_keys = ['race', 'age', 'gender']\n",
    "n_officers_max = 11\n",
    "\n",
    "# checking\n",
    "officer_inds = np.arange(1, n_officers_max + 1)\n",
    "inferred_officer_existence = {}\n",
    "for ind in officer_inds:\n",
    "    \n",
    "    # select all three demographic columns for each individual\n",
    "    cols = ['officer_{}_{}'.format(dem_key, ind) for dem_key in dem_keys]\n",
    "    \n",
    "    # if at least one of the three dem_keys are not na then count\n",
    "    inferred_officer_existence[ind] = df_cd[cols].notna().sum(axis=1) > 0    \n",
    "df_inferred_officer_existence = pd.DataFrame(inferred_officer_existence)\n",
    "inferred_num_officers_recorded = df_inferred_officer_existence.sum(axis=1)"
   ]
  },
  {
   "cell_type": "code",
   "execution_count": 4,
   "metadata": {},
   "outputs": [],
   "source": [
    "df_compared_officers = pd.concat([df_cd['num_officers_recorded'].value_counts().sort_index(),\n",
    "                                  inferred_num_officers_recorded.value_counts().sort_index()], axis=1)\n",
    "df_compared_officers.columns = ['num_officers_recorded', 'INFERRED_num_officers_recorded']\n",
    "df_compared_officers['diff'] = df_compared_officers['INFERRED_num_officers_recorded'] - df_compared_officers['num_officers_recorded']"
   ]
  },
  {
   "cell_type": "code",
   "execution_count": 5,
   "metadata": {},
   "outputs": [
    {
     "data": {
      "text/html": [
       "<div>\n",
       "<style scoped>\n",
       "    .dataframe tbody tr th:only-of-type {\n",
       "        vertical-align: middle;\n",
       "    }\n",
       "\n",
       "    .dataframe tbody tr th {\n",
       "        vertical-align: top;\n",
       "    }\n",
       "\n",
       "    .dataframe thead th {\n",
       "        text-align: right;\n",
       "    }\n",
       "</style>\n",
       "<table border=\"1\" class=\"dataframe\">\n",
       "  <thead>\n",
       "    <tr style=\"text-align: right;\">\n",
       "      <th></th>\n",
       "      <th>num_officers_recorded</th>\n",
       "      <th>INFERRED_num_officers_recorded</th>\n",
       "      <th>diff</th>\n",
       "    </tr>\n",
       "  </thead>\n",
       "  <tbody>\n",
       "    <tr>\n",
       "      <th>1</th>\n",
       "      <td>447.0</td>\n",
       "      <td>447</td>\n",
       "      <td>0.0</td>\n",
       "    </tr>\n",
       "    <tr>\n",
       "      <th>2</th>\n",
       "      <td>126.0</td>\n",
       "      <td>126</td>\n",
       "      <td>0.0</td>\n",
       "    </tr>\n",
       "    <tr>\n",
       "      <th>3</th>\n",
       "      <td>48.0</td>\n",
       "      <td>48</td>\n",
       "      <td>0.0</td>\n",
       "    </tr>\n",
       "    <tr>\n",
       "      <th>4</th>\n",
       "      <td>35.0</td>\n",
       "      <td>35</td>\n",
       "      <td>0.0</td>\n",
       "    </tr>\n",
       "    <tr>\n",
       "      <th>5</th>\n",
       "      <td>20.0</td>\n",
       "      <td>20</td>\n",
       "      <td>0.0</td>\n",
       "    </tr>\n",
       "    <tr>\n",
       "      <th>6</th>\n",
       "      <td>7.0</td>\n",
       "      <td>7</td>\n",
       "      <td>0.0</td>\n",
       "    </tr>\n",
       "    <tr>\n",
       "      <th>7</th>\n",
       "      <td>7.0</td>\n",
       "      <td>7</td>\n",
       "      <td>0.0</td>\n",
       "    </tr>\n",
       "    <tr>\n",
       "      <th>8</th>\n",
       "      <td>2.0</td>\n",
       "      <td>2</td>\n",
       "      <td>0.0</td>\n",
       "    </tr>\n",
       "    <tr>\n",
       "      <th>9</th>\n",
       "      <td>2.0</td>\n",
       "      <td>2</td>\n",
       "      <td>0.0</td>\n",
       "    </tr>\n",
       "    <tr>\n",
       "      <th>10</th>\n",
       "      <td>3.0</td>\n",
       "      <td>2</td>\n",
       "      <td>-1.0</td>\n",
       "    </tr>\n",
       "    <tr>\n",
       "      <th>11</th>\n",
       "      <td>NaN</td>\n",
       "      <td>1</td>\n",
       "      <td>NaN</td>\n",
       "    </tr>\n",
       "  </tbody>\n",
       "</table>\n",
       "</div>"
      ],
      "text/plain": [
       "    num_officers_recorded  INFERRED_num_officers_recorded  diff\n",
       "1                   447.0                             447   0.0\n",
       "2                   126.0                             126   0.0\n",
       "3                    48.0                              48   0.0\n",
       "4                    35.0                              35   0.0\n",
       "5                    20.0                              20   0.0\n",
       "6                     7.0                               7   0.0\n",
       "7                     7.0                               7   0.0\n",
       "8                     2.0                               2   0.0\n",
       "9                     2.0                               2   0.0\n",
       "10                    3.0                               2  -1.0\n",
       "11                    NaN                               1   NaN"
      ]
     },
     "execution_count": 5,
     "metadata": {},
     "output_type": "execute_result"
    }
   ],
   "source": [
    "df_compared_officers"
   ]
  },
  {
   "cell_type": "markdown",
   "metadata": {},
   "source": [
    "**There is only one mismatch.**"
   ]
  },
  {
   "cell_type": "code",
   "execution_count": 6,
   "metadata": {},
   "outputs": [
    {
     "data": {
      "text/html": [
       "<div>\n",
       "<style scoped>\n",
       "    .dataframe tbody tr th:only-of-type {\n",
       "        vertical-align: middle;\n",
       "    }\n",
       "\n",
       "    .dataframe tbody tr th {\n",
       "        vertical-align: top;\n",
       "    }\n",
       "\n",
       "    .dataframe thead th {\n",
       "        text-align: right;\n",
       "    }\n",
       "</style>\n",
       "<table border=\"1\" class=\"dataframe\">\n",
       "  <thead>\n",
       "    <tr style=\"text-align: right;\">\n",
       "      <th></th>\n",
       "      <th>date_ag_received</th>\n",
       "      <th>date_incident</th>\n",
       "      <th>incident_address</th>\n",
       "      <th>incident_city</th>\n",
       "      <th>incident_county</th>\n",
       "      <th>incident_zip</th>\n",
       "      <th>incident_result_of</th>\n",
       "      <th>incident_call_other</th>\n",
       "      <th>civilian_name_first</th>\n",
       "      <th>civilian_name_last</th>\n",
       "      <th>...</th>\n",
       "      <th>month</th>\n",
       "      <th>died</th>\n",
       "      <th>Traffic Stop</th>\n",
       "      <th>Emergency/Request for Assistance</th>\n",
       "      <th>Execution of a Warrant</th>\n",
       "      <th>Hostage/Barricade/Other Emergency</th>\n",
       "      <th>Other</th>\n",
       "      <th>civilian_age_binned</th>\n",
       "      <th>delay_days</th>\n",
       "      <th>delay_bin_label</th>\n",
       "    </tr>\n",
       "  </thead>\n",
       "  <tbody>\n",
       "    <tr>\n",
       "      <th>462</th>\n",
       "      <td>2018-05-23</td>\n",
       "      <td>2018-04-23</td>\n",
       "      <td>1000 IKEA WAY</td>\n",
       "      <td>GRAND PRAIRIE</td>\n",
       "      <td>DALLAS</td>\n",
       "      <td>75052.0</td>\n",
       "      <td>OTHER - SPECIFY TYPE OF CALL</td>\n",
       "      <td>WELFARE CHECK</td>\n",
       "      <td>CARLOS DEONE</td>\n",
       "      <td>HIGH</td>\n",
       "      <td>...</td>\n",
       "      <td>4</td>\n",
       "      <td>True</td>\n",
       "      <td>0</td>\n",
       "      <td>0</td>\n",
       "      <td>0</td>\n",
       "      <td>0</td>\n",
       "      <td>1</td>\n",
       "      <td>4</td>\n",
       "      <td>30.0</td>\n",
       "      <td>3</td>\n",
       "    </tr>\n",
       "  </tbody>\n",
       "</table>\n",
       "<p>1 rows × 154 columns</p>\n",
       "</div>"
      ],
      "text/plain": [
       "    date_ag_received date_incident incident_address  incident_city  \\\n",
       "462       2018-05-23    2018-04-23    1000 IKEA WAY  GRAND PRAIRIE   \n",
       "\n",
       "    incident_county  incident_zip            incident_result_of  \\\n",
       "462          DALLAS       75052.0  OTHER - SPECIFY TYPE OF CALL   \n",
       "\n",
       "    incident_call_other civilian_name_first civilian_name_last  ... month  \\\n",
       "462       WELFARE CHECK        CARLOS DEONE               HIGH  ...     4   \n",
       "\n",
       "     died  Traffic Stop Emergency/Request for Assistance  \\\n",
       "462  True             0                                0   \n",
       "\n",
       "    Execution of a Warrant  Hostage/Barricade/Other Emergency Other  \\\n",
       "462                      0                                  0     1   \n",
       "\n",
       "    civilian_age_binned delay_days delay_bin_label  \n",
       "462                   4       30.0               3  \n",
       "\n",
       "[1 rows x 154 columns]"
      ]
     },
     "execution_count": 6,
     "metadata": {},
     "output_type": "execute_result"
    }
   ],
   "source": [
    "df_cd.loc[df_cd['num_officers_recorded'] != inferred_num_officers_recorded]"
   ]
  },
  {
   "cell_type": "code",
   "execution_count": 7,
   "metadata": {},
   "outputs": [
    {
     "data": {
      "image/png": "[encoded data removed]",
      "text/plain": [
       "<Figure size 576x504 with 1 Axes>"
      ]
     },
     "metadata": {
      "image/png": {
       "height": 495,
       "width": 567
      },
      "needs_background": "light"
     },
     "output_type": "display_data"
    }
   ],
   "source": [
    "fig, ax = plt.subplots(1, 1, figsize=(8, 7))\n",
    "df_compared_officers['INFERRED_num_officers_recorded'].plot(kind='barh', rot=0, ax=ax)\n",
    "ax.set(ylabel='Number of Officers Involved', xlabel='Number of Incidents')\n",
    "annotate(ax, 'h', fontsize=12)\n",
    "fig.tight_layout()"
   ]
  },
  {
   "cell_type": "markdown",
   "metadata": {},
   "source": [
    "### 3.1 Quality of each demographic data\n",
    "We will want to use the demographic inforation separately for futher analyses. Thus, we need to assess the quality of each demographic data separatey."
   ]
  },
  {
   "cell_type": "code",
   "execution_count": 8,
   "metadata": {},
   "outputs": [],
   "source": [
    "dem_keys = ['race', 'age', 'gender']\n",
    "inferred_officer_existence_by_dem_keys = {}\n",
    "df_compared_officers_by_dem_keys = {}\n",
    "for dem_key in dem_keys:\n",
    "    \n",
    "    cols = df_cd.columns[df_cd.columns.str.contains('officer_{}'.format(dem_key))]\n",
    "    inferred_officer_existence_by_dem_keys[dem_key] = df_cd[cols].notna().sum(axis=1)\n",
    "    df_compared_officers_by_dem_keys[dem_key] = df_cd[cols].notna().sum(axis=1).value_counts().sort_index()\n",
    "df_inferred_officer_existence_by_dem_keys = pd.DataFrame(inferred_officer_existence_by_dem_keys)\n",
    "df_compared_officers_by_dem_keys = pd.DataFrame(df_compared_officers_by_dem_keys)"
   ]
  },
  {
   "cell_type": "code",
   "execution_count": 9,
   "metadata": {},
   "outputs": [
    {
     "data": {
      "text/html": [
       "<div>\n",
       "<style scoped>\n",
       "    .dataframe tbody tr th:only-of-type {\n",
       "        vertical-align: middle;\n",
       "    }\n",
       "\n",
       "    .dataframe tbody tr th {\n",
       "        vertical-align: top;\n",
       "    }\n",
       "\n",
       "    .dataframe thead th {\n",
       "        text-align: right;\n",
       "    }\n",
       "</style>\n",
       "<table border=\"1\" class=\"dataframe\">\n",
       "  <thead>\n",
       "    <tr style=\"text-align: right;\">\n",
       "      <th></th>\n",
       "      <th>race</th>\n",
       "      <th>age</th>\n",
       "      <th>gender</th>\n",
       "    </tr>\n",
       "  </thead>\n",
       "  <tbody>\n",
       "    <tr>\n",
       "      <th>1</th>\n",
       "      <td>447</td>\n",
       "      <td>447</td>\n",
       "      <td>447</td>\n",
       "    </tr>\n",
       "    <tr>\n",
       "      <th>2</th>\n",
       "      <td>127</td>\n",
       "      <td>127</td>\n",
       "      <td>126</td>\n",
       "    </tr>\n",
       "    <tr>\n",
       "      <th>3</th>\n",
       "      <td>47</td>\n",
       "      <td>47</td>\n",
       "      <td>48</td>\n",
       "    </tr>\n",
       "    <tr>\n",
       "      <th>4</th>\n",
       "      <td>35</td>\n",
       "      <td>35</td>\n",
       "      <td>35</td>\n",
       "    </tr>\n",
       "    <tr>\n",
       "      <th>5</th>\n",
       "      <td>20</td>\n",
       "      <td>20</td>\n",
       "      <td>20</td>\n",
       "    </tr>\n",
       "    <tr>\n",
       "      <th>6</th>\n",
       "      <td>7</td>\n",
       "      <td>7</td>\n",
       "      <td>7</td>\n",
       "    </tr>\n",
       "    <tr>\n",
       "      <th>7</th>\n",
       "      <td>7</td>\n",
       "      <td>7</td>\n",
       "      <td>7</td>\n",
       "    </tr>\n",
       "    <tr>\n",
       "      <th>8</th>\n",
       "      <td>2</td>\n",
       "      <td>2</td>\n",
       "      <td>2</td>\n",
       "    </tr>\n",
       "    <tr>\n",
       "      <th>9</th>\n",
       "      <td>2</td>\n",
       "      <td>2</td>\n",
       "      <td>2</td>\n",
       "    </tr>\n",
       "    <tr>\n",
       "      <th>10</th>\n",
       "      <td>2</td>\n",
       "      <td>2</td>\n",
       "      <td>2</td>\n",
       "    </tr>\n",
       "    <tr>\n",
       "      <th>11</th>\n",
       "      <td>1</td>\n",
       "      <td>1</td>\n",
       "      <td>1</td>\n",
       "    </tr>\n",
       "  </tbody>\n",
       "</table>\n",
       "</div>"
      ],
      "text/plain": [
       "    race  age  gender\n",
       "1    447  447     447\n",
       "2    127  127     126\n",
       "3     47   47      48\n",
       "4     35   35      35\n",
       "5     20   20      20\n",
       "6      7    7       7\n",
       "7      7    7       7\n",
       "8      2    2       2\n",
       "9      2    2       2\n",
       "10     2    2       2\n",
       "11     1    1       1"
      ]
     },
     "execution_count": 9,
     "metadata": {},
     "output_type": "execute_result"
    }
   ],
   "source": [
    "df_compared_officers_by_dem_keys"
   ]
  },
  {
   "cell_type": "markdown",
   "metadata": {},
   "source": [
    "There are only a couple of mismatched cases. "
   ]
  },
  {
   "cell_type": "markdown",
   "metadata": {},
   "source": [
    "Note: the index above means the number of missing data (not the number of officers involved)."
   ]
  },
  {
   "cell_type": "markdown",
   "metadata": {},
   "source": [
    "## 4. Civilians in the officer data\n",
    "Applying the same approach as the above"
   ]
  },
  {
   "cell_type": "code",
   "execution_count": 10,
   "metadata": {},
   "outputs": [
    {
     "name": "stdout",
     "output_type": "stream",
     "text": [
      "(130, 50)\n"
     ]
    }
   ],
   "source": [
    "df_os = pd.read_pickle('../Data/Preprocessed/officer_shooting_preprocessed.pkl'); print(df_os.shape)"
   ]
  },
  {
   "cell_type": "markdown",
   "metadata": {},
   "source": [
    "### 4.1 Size of the involved party (`num_civilians_recorded` vs. civilian demographic data)\n",
    "Compared to the officer's, civilian demographic data also has first and last names."
   ]
  },
  {
   "cell_type": "code",
   "execution_count": 11,
   "metadata": {},
   "outputs": [],
   "source": [
    "dem_keys = ['race', 'age', 'gender', 'name_first', 'name_last']\n",
    "n_civilians_max = 3\n",
    "\n",
    "# checking\n",
    "civilian_inds = np.arange(1, n_civilians_max + 1)\n",
    "inferred_civilian_existence = {}\n",
    "for ind in civilian_inds:\n",
    "    \n",
    "    # select all three demographic columns for each individual\n",
    "    cols = ['civilian_{}_{}'.format(dem_key, ind) for dem_key in dem_keys]\n",
    "    \n",
    "    # if at least one of the three dem_keys are not na then count\n",
    "    inferred_civilian_existence[ind] = df_os[cols].notna().sum(axis=1) > 0  \n",
    "    \n",
    "df_inferred_civilian_existence = pd.DataFrame(inferred_civilian_existence)\n",
    "inferred_num_civilians_recorded = df_inferred_civilian_existence.sum(axis=1)"
   ]
  },
  {
   "cell_type": "code",
   "execution_count": 12,
   "metadata": {},
   "outputs": [],
   "source": [
    "df_compared_civilians = pd.concat([df_os['num_civilians_recorded'].value_counts().sort_index(),\n",
    "                                  inferred_num_civilians_recorded.value_counts().sort_index()], axis=1)\n",
    "df_compared_civilians.columns = ['num_civilians_recorded', 'INFERRED_num_civilians_recorded']\n",
    "df_compared_civilians['diff'] = df_compared_civilians['INFERRED_num_civilians_recorded'] - df_compared_civilians['num_civilians_recorded']"
   ]
  },
  {
   "cell_type": "code",
   "execution_count": 13,
   "metadata": {},
   "outputs": [
    {
     "data": {
      "text/html": [
       "<div>\n",
       "<style scoped>\n",
       "    .dataframe tbody tr th:only-of-type {\n",
       "        vertical-align: middle;\n",
       "    }\n",
       "\n",
       "    .dataframe tbody tr th {\n",
       "        vertical-align: top;\n",
       "    }\n",
       "\n",
       "    .dataframe thead th {\n",
       "        text-align: right;\n",
       "    }\n",
       "</style>\n",
       "<table border=\"1\" class=\"dataframe\">\n",
       "  <thead>\n",
       "    <tr style=\"text-align: right;\">\n",
       "      <th></th>\n",
       "      <th>num_civilians_recorded</th>\n",
       "      <th>INFERRED_num_civilians_recorded</th>\n",
       "      <th>diff</th>\n",
       "    </tr>\n",
       "  </thead>\n",
       "  <tbody>\n",
       "    <tr>\n",
       "      <th>0</th>\n",
       "      <td>1</td>\n",
       "      <td>1</td>\n",
       "      <td>0</td>\n",
       "    </tr>\n",
       "    <tr>\n",
       "      <th>1</th>\n",
       "      <td>120</td>\n",
       "      <td>120</td>\n",
       "      <td>0</td>\n",
       "    </tr>\n",
       "    <tr>\n",
       "      <th>2</th>\n",
       "      <td>8</td>\n",
       "      <td>8</td>\n",
       "      <td>0</td>\n",
       "    </tr>\n",
       "    <tr>\n",
       "      <th>3</th>\n",
       "      <td>1</td>\n",
       "      <td>1</td>\n",
       "      <td>0</td>\n",
       "    </tr>\n",
       "  </tbody>\n",
       "</table>\n",
       "</div>"
      ],
      "text/plain": [
       "   num_civilians_recorded  INFERRED_num_civilians_recorded  diff\n",
       "0                       1                                1     0\n",
       "1                     120                              120     0\n",
       "2                       8                                8     0\n",
       "3                       1                                1     0"
      ]
     },
     "execution_count": 13,
     "metadata": {},
     "output_type": "execute_result"
    }
   ],
   "source": [
    "df_compared_civilians"
   ]
  },
  {
   "cell_type": "markdown",
   "metadata": {},
   "source": [
    "**There is no mismatch.**"
   ]
  },
  {
   "cell_type": "code",
   "execution_count": 14,
   "metadata": {},
   "outputs": [
    {
     "data": {
      "image/png": "[encoded data removed]",
      "text/plain": [
       "<Figure size 576x288 with 1 Axes>"
      ]
     },
     "metadata": {
      "image/png": {
       "height": 279,
       "width": 567
      },
      "needs_background": "light"
     },
     "output_type": "display_data"
    }
   ],
   "source": [
    "fig, ax = plt.subplots(1, 1, figsize=(8, 4))\n",
    "df_compared_civilians['INFERRED_num_civilians_recorded'].plot(kind='barh', rot=0, ax=ax)\n",
    "ax.set(ylabel='Number of civilians Involved', xlabel='Number of Incidents')\n",
    "annotate(ax, 'h', fontsize=12)\n",
    "fig.tight_layout()"
   ]
  },
  {
   "cell_type": "markdown",
   "metadata": {},
   "source": [
    "### Odd case: `num_civilians_recorded` = 0\n",
    "https://www.click2houston.com/news/2016/01/14/officer-released-from-hospital-after-shot-in-the-leg-in-third-ward/\n",
    ">\"HPD is currently looking for the shooter.\""
   ]
  },
  {
   "cell_type": "code",
   "execution_count": 15,
   "metadata": {},
   "outputs": [
    {
     "data": {
      "text/html": [
       "<div>\n",
       "<style scoped>\n",
       "    .dataframe tbody tr th:only-of-type {\n",
       "        vertical-align: middle;\n",
       "    }\n",
       "\n",
       "    .dataframe tbody tr th {\n",
       "        vertical-align: top;\n",
       "    }\n",
       "\n",
       "    .dataframe thead th {\n",
       "        text-align: right;\n",
       "    }\n",
       "</style>\n",
       "<table border=\"1\" class=\"dataframe\">\n",
       "  <thead>\n",
       "    <tr style=\"text-align: right;\">\n",
       "      <th></th>\n",
       "      <th>date_ag_received</th>\n",
       "      <th>date_incident</th>\n",
       "      <th>incident_address</th>\n",
       "      <th>incident_city</th>\n",
       "      <th>incident_county</th>\n",
       "      <th>incident_zip</th>\n",
       "      <th>officer_harm</th>\n",
       "      <th>officer_name_first</th>\n",
       "      <th>officer_name_last</th>\n",
       "      <th>officer_age</th>\n",
       "      <th>...</th>\n",
       "      <th>civilian_name_last_3</th>\n",
       "      <th>civilian_age_3</th>\n",
       "      <th>civilian_race_3</th>\n",
       "      <th>civilian_gender_3</th>\n",
       "      <th>media_link_1</th>\n",
       "      <th>media_link_2</th>\n",
       "      <th>media_link_3</th>\n",
       "      <th>year</th>\n",
       "      <th>month</th>\n",
       "      <th>delay_days</th>\n",
       "    </tr>\n",
       "  </thead>\n",
       "  <tbody>\n",
       "    <tr>\n",
       "      <th>5</th>\n",
       "      <td>NaT</td>\n",
       "      <td>2016-01-13</td>\n",
       "      <td>3100 ANITA</td>\n",
       "      <td>HOUSTON</td>\n",
       "      <td>HARRIS</td>\n",
       "      <td>77004</td>\n",
       "      <td>INJURY</td>\n",
       "      <td>KENNETH</td>\n",
       "      <td>FREGIA</td>\n",
       "      <td>46.0</td>\n",
       "      <td>...</td>\n",
       "      <td>NaN</td>\n",
       "      <td>NaN</td>\n",
       "      <td>NaN</td>\n",
       "      <td>NaN</td>\n",
       "      <td>CHRONICLE</td>\n",
       "      <td>ABC 13</td>\n",
       "      <td>NaN</td>\n",
       "      <td>2016</td>\n",
       "      <td>1</td>\n",
       "      <td>NaN</td>\n",
       "    </tr>\n",
       "  </tbody>\n",
       "</table>\n",
       "<p>1 rows × 50 columns</p>\n",
       "</div>"
      ],
      "text/plain": [
       "  date_ag_received date_incident incident_address incident_city  \\\n",
       "5              NaT    2016-01-13       3100 ANITA       HOUSTON   \n",
       "\n",
       "  incident_county  incident_zip officer_harm officer_name_first  \\\n",
       "5          HARRIS         77004       INJURY            KENNETH   \n",
       "\n",
       "  officer_name_last  officer_age  ... civilian_name_last_3 civilian_age_3  \\\n",
       "5            FREGIA         46.0  ...                  NaN            NaN   \n",
       "\n",
       "  civilian_race_3 civilian_gender_3 media_link_1 media_link_2 media_link_3  \\\n",
       "5             NaN               NaN    CHRONICLE       ABC 13          NaN   \n",
       "\n",
       "   year month delay_days  \n",
       "5  2016     1        NaN  \n",
       "\n",
       "[1 rows x 50 columns]"
      ]
     },
     "execution_count": 15,
     "metadata": {},
     "output_type": "execute_result"
    }
   ],
   "source": [
    "df_os[df_os['num_civilians_recorded']==0]"
   ]
  },
  {
   "cell_type": "markdown",
   "metadata": {},
   "source": [
    "### 4.1 Quality of each demographic data"
   ]
  },
  {
   "cell_type": "code",
   "execution_count": 16,
   "metadata": {},
   "outputs": [],
   "source": [
    "dem_keys = ['race', 'age', 'gender', 'name_first', 'name_last']\n",
    "inferred_civilian_existence_by_dem_keys = {}\n",
    "df_compared_civilians_by_dem_keys = {}\n",
    "for dem_key in dem_keys:\n",
    "    \n",
    "    cols = df_os.columns[df_os.columns.str.contains('civilian_{}'.format(dem_key))]\n",
    "    inferred_civilian_existence_by_dem_keys[dem_key] = df_os[cols].notna().sum(axis=1)\n",
    "    df_compared_civilians_by_dem_keys[dem_key] = df_os[cols].notna().sum(axis=1).value_counts().sort_index()\n",
    "df_inferred_civilian_existence_by_dem_keys = pd.DataFrame(inferred_civilian_existence_by_dem_keys)\n",
    "df_compared_civilians_by_dem_keys = pd.DataFrame(df_compared_civilians_by_dem_keys)"
   ]
  },
  {
   "cell_type": "code",
   "execution_count": 17,
   "metadata": {},
   "outputs": [
    {
     "data": {
      "text/html": [
       "<div>\n",
       "<style scoped>\n",
       "    .dataframe tbody tr th:only-of-type {\n",
       "        vertical-align: middle;\n",
       "    }\n",
       "\n",
       "    .dataframe tbody tr th {\n",
       "        vertical-align: top;\n",
       "    }\n",
       "\n",
       "    .dataframe thead th {\n",
       "        text-align: right;\n",
       "    }\n",
       "</style>\n",
       "<table border=\"1\" class=\"dataframe\">\n",
       "  <thead>\n",
       "    <tr style=\"text-align: right;\">\n",
       "      <th></th>\n",
       "      <th>race</th>\n",
       "      <th>age</th>\n",
       "      <th>gender</th>\n",
       "      <th>name_first</th>\n",
       "      <th>name_last</th>\n",
       "    </tr>\n",
       "  </thead>\n",
       "  <tbody>\n",
       "    <tr>\n",
       "      <th>0</th>\n",
       "      <td>5</td>\n",
       "      <td>9</td>\n",
       "      <td>3</td>\n",
       "      <td>25.0</td>\n",
       "      <td>24.0</td>\n",
       "    </tr>\n",
       "    <tr>\n",
       "      <th>1</th>\n",
       "      <td>116</td>\n",
       "      <td>113</td>\n",
       "      <td>118</td>\n",
       "      <td>99.0</td>\n",
       "      <td>100.0</td>\n",
       "    </tr>\n",
       "    <tr>\n",
       "      <th>2</th>\n",
       "      <td>8</td>\n",
       "      <td>7</td>\n",
       "      <td>8</td>\n",
       "      <td>6.0</td>\n",
       "      <td>6.0</td>\n",
       "    </tr>\n",
       "    <tr>\n",
       "      <th>3</th>\n",
       "      <td>1</td>\n",
       "      <td>1</td>\n",
       "      <td>1</td>\n",
       "      <td>NaN</td>\n",
       "      <td>NaN</td>\n",
       "    </tr>\n",
       "  </tbody>\n",
       "</table>\n",
       "</div>"
      ],
      "text/plain": [
       "   race  age  gender  name_first  name_last\n",
       "0     5    9       3        25.0       24.0\n",
       "1   116  113     118        99.0      100.0\n",
       "2     8    7       8         6.0        6.0\n",
       "3     1    1       1         NaN        NaN"
      ]
     },
     "execution_count": 17,
     "metadata": {},
     "output_type": "execute_result"
    }
   ],
   "source": [
    "df_compared_civilians_by_dem_keys"
   ]
  },
  {
   "cell_type": "markdown",
   "metadata": {},
   "source": [
    "**Compared to officer data, the civiliand data is less well-populated; more missing data exist (first row of index 0).**"
   ]
  },
  {
   "cell_type": "markdown",
   "metadata": {},
   "source": [
    "Note: the index above means the number of missing data (not the number of civilians involved)."
   ]
  },
  {
   "cell_type": "markdown",
   "metadata": {},
   "source": [
    "## To do\n",
    "- Check `officer_caused_injury_*` columns. Strangely, the suffix (`*`) starts with 2 not 1. In other words, where's `officer_caused_injury_1`? (It doesn't exist in the raw data either.)\n",
    "- Brainstorm as a group to think about potential factors that can affect police shooting\n",
    "- Check the quality of identification of demographic data of **civilians**"
   ]
  },
  {
   "cell_type": "markdown",
   "metadata": {},
   "source": [
    "## !!!Questions!!!\n",
    "\n",
    "1. Is the number of the individials in the involved party identical to the number of shooters?\n",
    "2. If not, how do we identify who among the involved party are the shooters?\n",
    "3. If the victim died during the incident, does it matter to identify who made the fatal shot?"
   ]
  }
 ],
 "metadata": {
  "kernelspec": {
   "display_name": "Python 3",
   "language": "python",
   "name": "python3"
  },
  "language_info": {
   "codemirror_mode": {
    "name": "ipython",
    "version": 3
   },
   "file_extension": ".py",
   "mimetype": "text/x-python",
   "name": "python",
   "nbconvert_exporter": "python",
   "pygments_lexer": "ipython3",
   "version": "3.7.9"
  }
 },
 "nbformat": 4,
 "nbformat_minor": 4
}
