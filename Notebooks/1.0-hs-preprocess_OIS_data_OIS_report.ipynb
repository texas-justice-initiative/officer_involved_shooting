{
 "cells": [
  {
   "cell_type": "code",
   "execution_count": 1,
   "metadata": {},
   "outputs": [
    {
     "name": "stdout",
     "output_type": "stream",
     "text": [
      "numpy  1.18.1\n",
      "pandas 1.0.3\n",
      "Hongsup Shin \n",
      "last updated: 2020-08-23 09:45:54 \n",
      "\n",
      "CPython 3.6.10\n",
      "IPython 7.13.0\n",
      "Git hash: 5b49c05d03a0c78bc736f8bfce42aeff65c6ee50\n",
      "Git repo: https://github.com/texas-justice-initiative/officer_involved_shooting_report_2020.git\n",
      "Git branch: master\n"
     ]
    }
   ],
   "source": [
    "import pandas as pd\n",
    "import numpy as np\n",
    "import preprocess # preprocessing module\n",
    "pd.set_option('precision', 2)\n",
    "\n",
    "%load_ext watermark\n",
    "%load_ext autoreload\n",
    "%autoreload 2\n",
    "\n",
    "%watermark -d -t -u -v -g -r -b -iv -a \"Hongsup Shin\" "
   ]
  },
  {
   "cell_type": "markdown",
   "metadata": {},
   "source": [
    "# Preprocessing the Officer-Involved Shooting Data"
   ]
  },
  {
   "cell_type": "markdown",
   "metadata": {},
   "source": [
    "This notebook describes the details of data preprocessing of the officer-involved shooting for civilian (`tji_civiliansShot.csv`) and officer datasets (`tji_officersShot`) in the TJI website. Both datasets were downloaded from the website in June 2020. \n",
    "\n",
    "This notebook provides the information of the data preprocessing for TJI's **\"Officer-involved Shootings in Texas Report\"** published in Aug, 2020. The preprocessed data (the end product of this notebook) is used to create the Data Summary and the Data Insight sections of the report. For the Data Summary section, please check `1.0-hs-data_summary_shooting.ipynb`. For the Data Insight section, check `1.0-hs-analyze_shooting_data_final_v0.1.ipynb`."
   ]
  },
  {
   "cell_type": "code",
   "execution_count": 2,
   "metadata": {},
   "outputs": [
    {
     "name": "stdout",
     "output_type": "stream",
     "text": [
      "(791, 143)\n",
      "(137, 47)\n"
     ]
    }
   ],
   "source": [
    "df_cd = pd.read_csv('../Data/Raw/Website/tji_civiliansShot.csv'); print(df_cd.shape)\n",
    "df_os = pd.read_csv('../Data/Raw/Website/tji_officersShot.csv'); print(df_os.shape)"
   ]
  },
  {
   "cell_type": "markdown",
   "metadata": {},
   "source": [
    "# Civilian dataset"
   ]
  },
  {
   "cell_type": "markdown",
   "metadata": {},
   "source": [
    "# 1. Convert the date column formats"
   ]
  },
  {
   "cell_type": "markdown",
   "metadata": {},
   "source": [
    "Date of year information in both datasets exist as object. We need to change it to numpy datetime format for convenience."
   ]
  },
  {
   "cell_type": "code",
   "execution_count": 3,
   "metadata": {},
   "outputs": [
    {
     "name": "stdout",
     "output_type": "stream",
     "text": [
      "0    2015-09-02\n",
      "1    2015-09-03\n",
      "2    2015-09-04\n",
      "3    2015-09-05\n",
      "4    2015-09-08\n",
      "Name: date_incident, dtype: object\n",
      "object\n"
     ]
    }
   ],
   "source": [
    "print(df_cd['date_incident'][:5])\n",
    "print(df_cd['date_incident'].dtypes)"
   ]
  },
  {
   "cell_type": "code",
   "execution_count": 4,
   "metadata": {},
   "outputs": [],
   "source": [
    "df_cd = preprocess.convert_date_cols(df_cd, 'date')\n",
    "df_os = preprocess.convert_date_cols(df_os, 'date')"
   ]
  },
  {
   "cell_type": "code",
   "execution_count": 5,
   "metadata": {},
   "outputs": [
    {
     "name": "stdout",
     "output_type": "stream",
     "text": [
      "['date_ag_received', 'date_incident', 'agency_report_date_1', 'agency_report_date_2', 'agency_report_date_3', 'agency_report_date_4', 'agency_report_date_5', 'agency_report_date_6', 'agency_report_date_7', 'agency_report_date_8', 'agency_report_date_9', 'agency_report_date_10', 'agency_report_date_11']\n",
      "['date_ag_received', 'date_incident', 'agency_report_date_1', 'agency_report_date_2']\n"
     ]
    }
   ],
   "source": [
    "cols_date_cd = [col for col in df_cd.columns if 'date' in col]\n",
    "cols_date_os = [col for col in df_os.columns if 'date' in col]\n",
    "print(cols_date_cd)\n",
    "print(cols_date_os)"
   ]
  },
  {
   "cell_type": "code",
   "execution_count": 6,
   "metadata": {},
   "outputs": [
    {
     "name": "stdout",
     "output_type": "stream",
     "text": [
      "date_ag_received         datetime64[ns]\n",
      "date_incident            datetime64[ns]\n",
      "agency_report_date_1     datetime64[ns]\n",
      "agency_report_date_2     datetime64[ns]\n",
      "agency_report_date_3     datetime64[ns]\n",
      "agency_report_date_4     datetime64[ns]\n",
      "agency_report_date_5     datetime64[ns]\n",
      "agency_report_date_6     datetime64[ns]\n",
      "agency_report_date_7     datetime64[ns]\n",
      "agency_report_date_8     datetime64[ns]\n",
      "agency_report_date_9     datetime64[ns]\n",
      "agency_report_date_10    datetime64[ns]\n",
      "agency_report_date_11    datetime64[ns]\n",
      "dtype: object\n",
      "date_ag_received        datetime64[ns]\n",
      "date_incident           datetime64[ns]\n",
      "agency_report_date_1    datetime64[ns]\n",
      "agency_report_date_2    datetime64[ns]\n",
      "dtype: object\n"
     ]
    }
   ],
   "source": [
    "print(df_cd[cols_date_cd].dtypes)\n",
    "print(df_os[cols_date_os].dtypes)"
   ]
  },
  {
   "cell_type": "markdown",
   "metadata": {},
   "source": [
    "We can add year and month columns."
   ]
  },
  {
   "cell_type": "code",
   "execution_count": 7,
   "metadata": {},
   "outputs": [],
   "source": [
    "df_cd['year'] = df_cd['date_incident'].dt.year\n",
    "df_cd['month'] = df_cd['date_incident'].dt.month"
   ]
  },
  {
   "cell_type": "markdown",
   "metadata": {},
   "source": [
    "# 2. Correct the county names\n",
    "Based on the [the cencus data](https://demographics.texas.gov/Data/TPEPP/Estimates/), we can correct the county names."
   ]
  },
  {
   "cell_type": "code",
   "execution_count": 8,
   "metadata": {},
   "outputs": [
    {
     "data": {
      "text/html": [
       "<div>\n",
       "<style scoped>\n",
       "    .dataframe tbody tr th:only-of-type {\n",
       "        vertical-align: middle;\n",
       "    }\n",
       "\n",
       "    .dataframe tbody tr th {\n",
       "        vertical-align: top;\n",
       "    }\n",
       "\n",
       "    .dataframe thead th {\n",
       "        text-align: right;\n",
       "    }\n",
       "</style>\n",
       "<table border=\"1\" class=\"dataframe\">\n",
       "  <thead>\n",
       "    <tr style=\"text-align: right;\">\n",
       "      <th></th>\n",
       "      <th>WHITE</th>\n",
       "      <th>BLACK</th>\n",
       "      <th>HISPANIC</th>\n",
       "      <th>OTHER</th>\n",
       "    </tr>\n",
       "    <tr>\n",
       "      <th>County</th>\n",
       "      <th></th>\n",
       "      <th></th>\n",
       "      <th></th>\n",
       "      <th></th>\n",
       "    </tr>\n",
       "  </thead>\n",
       "  <tbody>\n",
       "    <tr>\n",
       "      <th>ANDERSON</th>\n",
       "      <td>34383</td>\n",
       "      <td>12472</td>\n",
       "      <td>10550</td>\n",
       "      <td>1574</td>\n",
       "    </tr>\n",
       "    <tr>\n",
       "      <th>ANDREWS</th>\n",
       "      <td>6794</td>\n",
       "      <td>206</td>\n",
       "      <td>11371</td>\n",
       "      <td>307</td>\n",
       "    </tr>\n",
       "    <tr>\n",
       "      <th>ANGELINA</th>\n",
       "      <td>55069</td>\n",
       "      <td>13751</td>\n",
       "      <td>20476</td>\n",
       "      <td>2391</td>\n",
       "    </tr>\n",
       "    <tr>\n",
       "      <th>ARANSAS</th>\n",
       "      <td>15716</td>\n",
       "      <td>244</td>\n",
       "      <td>6896</td>\n",
       "      <td>868</td>\n",
       "    </tr>\n",
       "    <tr>\n",
       "      <th>ARCHER</th>\n",
       "      <td>8238</td>\n",
       "      <td>40</td>\n",
       "      <td>933</td>\n",
       "      <td>248</td>\n",
       "    </tr>\n",
       "  </tbody>\n",
       "</table>\n",
       "</div>"
      ],
      "text/plain": [
       "          WHITE  BLACK  HISPANIC  OTHER\n",
       "County                                 \n",
       "ANDERSON  34383  12472     10550   1574\n",
       "ANDREWS    6794    206     11371    307\n",
       "ANGELINA  55069  13751     20476   2391\n",
       "ARANSAS   15716    244      6896    868\n",
       "ARCHER     8238     40       933    248"
      ]
     },
     "execution_count": 8,
     "metadata": {},
     "output_type": "execute_result"
    }
   ],
   "source": [
    "df_census = pd.read_pickle('../Data/Interim/census_county_race_2010.pkl'); df_census.head()"
   ]
  },
  {
   "cell_type": "code",
   "execution_count": 9,
   "metadata": {},
   "outputs": [
    {
     "name": "stdout",
     "output_type": "stream",
     "text": [
      "{'QUAY (NM)', 'COLIN'}\n",
      "set()\n"
     ]
    }
   ],
   "source": [
    "print(set(df_cd['incident_county']) - set(df_census.index))\n",
    "print(set(df_os['incident_county']) - set(df_census.index))"
   ]
  },
  {
   "cell_type": "markdown",
   "metadata": {},
   "source": [
    "There is one incident that is from the Quay county in NM. \n",
    "- This incident began when an officer tried to stop a driver in Amarillo. The driver evaded, and officers from a few agencies pursued the vehicle. Just as the driver crossed state lines, he got into a shootout with officers. A Texas DPS trooper in Quay County, New Mexico, shot the driver. \n",
    "- Since this is only single incident, so we are going to keep it for now."
   ]
  },
  {
   "cell_type": "code",
   "execution_count": 10,
   "metadata": {},
   "outputs": [
    {
     "data": {
      "text/plain": [
       "1"
      ]
     },
     "execution_count": 10,
     "metadata": {},
     "output_type": "execute_result"
    }
   ],
   "source": [
    "(df_cd['incident_county'] == 'QUAY (NM)').sum()"
   ]
  },
  {
   "cell_type": "markdown",
   "metadata": {},
   "source": [
    "We can also correct the typo:"
   ]
  },
  {
   "cell_type": "code",
   "execution_count": 11,
   "metadata": {},
   "outputs": [],
   "source": [
    "df_cd['incident_county'] = df_cd['incident_county'].str.replace('COLIN','COLLIN')"
   ]
  },
  {
   "cell_type": "markdown",
   "metadata": {},
   "source": [
    "# 3. Remove duplicates\n",
    "The dataset does not have a unique identifier and thus I used the civilian full name and the date of incident to identify duplicates.\n",
    "I found 3 incidents that have duplicates. These seem to be reports that were filed twice. I kept the most recent reports but deleted the rows with earlier reports assuming that the more recent reports may have more up-to-date information and fewer errors."
   ]
  },
  {
   "cell_type": "code",
   "execution_count": 12,
   "metadata": {},
   "outputs": [
    {
     "data": {
      "text/html": [
       "<div>\n",
       "<style scoped>\n",
       "    .dataframe tbody tr th:only-of-type {\n",
       "        vertical-align: middle;\n",
       "    }\n",
       "\n",
       "    .dataframe tbody tr th {\n",
       "        vertical-align: top;\n",
       "    }\n",
       "\n",
       "    .dataframe thead th {\n",
       "        text-align: right;\n",
       "    }\n",
       "</style>\n",
       "<table border=\"1\" class=\"dataframe\">\n",
       "  <thead>\n",
       "    <tr style=\"text-align: right;\">\n",
       "      <th></th>\n",
       "      <th>civilian_name_full</th>\n",
       "      <th>date_incident</th>\n",
       "    </tr>\n",
       "  </thead>\n",
       "  <tbody>\n",
       "    <tr>\n",
       "      <th>503</th>\n",
       "      <td>SHAWN BOYETT</td>\n",
       "      <td>2018-07-18</td>\n",
       "    </tr>\n",
       "    <tr>\n",
       "      <th>508</th>\n",
       "      <td>JAVIER LOPEZ</td>\n",
       "      <td>2018-07-20</td>\n",
       "    </tr>\n",
       "    <tr>\n",
       "      <th>598</th>\n",
       "      <td>MATTHEW REYES MIRELES</td>\n",
       "      <td>2019-01-25</td>\n",
       "    </tr>\n",
       "  </tbody>\n",
       "</table>\n",
       "</div>"
      ],
      "text/plain": [
       "        civilian_name_full date_incident\n",
       "503           SHAWN BOYETT    2018-07-18\n",
       "508           JAVIER LOPEZ    2018-07-20\n",
       "598  MATTHEW REYES MIRELES    2019-01-25"
      ]
     },
     "execution_count": 12,
     "metadata": {},
     "output_type": "execute_result"
    }
   ],
   "source": [
    "df_cd_unique, df_cd_duplicates = preprocess.get_duplicates_from_cols(df_cd, ['civilian_name_full', 'date_incident'], what_to_keep='first'); df_cd_duplicates"
   ]
  },
  {
   "cell_type": "markdown",
   "metadata": {},
   "source": [
    "No duplicates are found in the officer data."
   ]
  },
  {
   "cell_type": "code",
   "execution_count": 13,
   "metadata": {},
   "outputs": [
    {
     "name": "stdout",
     "output_type": "stream",
     "text": [
      "0\n"
     ]
    }
   ],
   "source": [
    "df_os_unique, df_os_duplicates = preprocess.get_duplicates_from_cols(df_os, ['officer_name_first', 'officer_name_last', 'date_incident'], what_to_keep='first')\n",
    "print(df_os_duplicates.shape[0])"
   ]
  },
  {
   "cell_type": "code",
   "execution_count": 14,
   "metadata": {},
   "outputs": [
    {
     "name": "stdout",
     "output_type": "stream",
     "text": [
      "(788, 145)\n",
      "(137, 47)\n"
     ]
    }
   ],
   "source": [
    "df_cd = df_cd_unique.copy()\n",
    "df_os = df_os_unique.copy()\n",
    "print(df_cd.shape)\n",
    "print(df_os.shape)"
   ]
  },
  {
   "cell_type": "markdown",
   "metadata": {},
   "source": [
    "# 4. Select data from 2016 to 2019"
   ]
  },
  {
   "cell_type": "markdown",
   "metadata": {},
   "source": [
    "We limit the analysis from 2016 to 2019 since 2015 data is incomplete (data collection started in September 2015). Thus, we can slice the data based on when the incident happened."
   ]
  },
  {
   "cell_type": "code",
   "execution_count": 15,
   "metadata": {},
   "outputs": [],
   "source": [
    "years = range(2016, 2020)"
   ]
  },
  {
   "cell_type": "code",
   "execution_count": 16,
   "metadata": {},
   "outputs": [
    {
     "name": "stdout",
     "output_type": "stream",
     "text": [
      "(697, 145)\n"
     ]
    }
   ],
   "source": [
    "df_cd = df_cd.loc[df_cd['year'].isin(years)]; print(df_cd.shape)"
   ]
  },
  {
   "cell_type": "markdown",
   "metadata": {},
   "source": [
    "# 5. Create a boolean column to represent the severity of an incident (death or injury)"
   ]
  },
  {
   "cell_type": "markdown",
   "metadata": {},
   "source": [
    "The analyses in the report focus on not only the entire incidents but also the incidents where civilians and officers were shot and killed. Thus, for convenience, we are creating a boolean column that represents the severity (whether the person shot was killed or not)."
   ]
  },
  {
   "cell_type": "code",
   "execution_count": 17,
   "metadata": {},
   "outputs": [],
   "source": [
    "df_cd['died'] = df_cd['civilian_died']=='DEATH'"
   ]
  },
  {
   "cell_type": "markdown",
   "metadata": {},
   "source": [
    "# 6. Clean the text from `incident_result_of` in the civilian shooting data\n",
    "The column that represents the cause of incident `incident_result_of` needs variations of text but they can be categorized into 5 groups: 'Traffic Stop', 'Emergency/Request for Assistance', 'Execution of a Warrant', 'Hostage/Barricade/Other Emergency', 'Other'. Thus, cleaning is required."
   ]
  },
  {
   "cell_type": "code",
   "execution_count": 18,
   "metadata": {},
   "outputs": [
    {
     "data": {
      "text/plain": [
       "array(['EMERGENCY', 'EMERGENCY CALL OR REQUEST FOR ASSISTANCE',\n",
       "       'EMERGENCY CALL OR REQUEST FOR ASSISTANCE, TRAFFIC STOP',\n",
       "       'EMERGENCY CALL OR REQUEST FOR ASSISTANCE; EXECUTION OF A WARRANT',\n",
       "       'EMERGENCY CALL OR REQUEST FOR ASSISTANCE; HOSTAGE, BARRICADE, OR OTHER EMERGENCY SITUATION',\n",
       "       'EMERGENCY CALL OR REQUEST FOR ASSISTANCE; HOSTAGE/BARRICADE/OTHER EMERG SITUATION',\n",
       "       'EMERGENCY CALL OR REQUEST FOR ASSISTANCE; OTHER',\n",
       "       'EMERGENCY CALL OR REQUEST FOR ASSISTANCE; TRAFFIC STOP',\n",
       "       'EMERGENCY CALL OR REQUEST FOR ASSISTANCE; TRAFFIC STOP; EXECUTION OF A WARRANT',\n",
       "       'EXECUTION OF A WARRANT', 'EXECUTION OF A WARRANT; OTHER',\n",
       "       'HOSTAGE, BARRICADE OR OTHER EMERGENCY SITUATION',\n",
       "       'HOSTAGE, BARRICADE, OR OTHER EMERGENCY SITUATION',\n",
       "       'HOSTAGE, BARRICADE, OR OTHER EMERGENCY SITUATION; OTHER - SPECIFY TYPE OF CALL',\n",
       "       'HOSTAGE/BARRICADE/OTHER EMERG SITUATION',\n",
       "       'HOSTAGE/BARRICADE/OTHER EMERGENCY SITUATION', 'OTHER',\n",
       "       'OTHER - SPECIFY TYPE OF CALL', 'TRAFFIC STOP',\n",
       "       'TRAFFIC STOP; EXECUTION OF A WARRANT',\n",
       "       'TRAFFIC STOP; EXECUTION OF A WARRANT; HOSTAGE/BARRICADE/OTHER EMERG SITUATION',\n",
       "       'TRAFFIC STOP; OTHER'], dtype=object)"
      ]
     },
     "execution_count": 18,
     "metadata": {},
     "output_type": "execute_result"
    }
   ],
   "source": [
    "np.sort(df_cd['incident_result_of'].unique())"
   ]
  },
  {
   "cell_type": "markdown",
   "metadata": {},
   "source": [
    "I followed these stpes for cleaning:\n",
    "- I converted `EMERGENCY` to `EMERGENCY CALL OR REQUEST FOR ASSISTANCE`\n",
    "- I converted `EMERGENCY CALL OR REQUEST FOR ASSISTANCE, TRAFFIC STOP` to `EMERGENCY CALL OR REQUEST FOR ASSISTANCE; TRAFFIC STOP`\n",
    "- I converted the category names with consistency (see `clean_incident_causes()`)"
   ]
  },
  {
   "cell_type": "code",
   "execution_count": 19,
   "metadata": {},
   "outputs": [],
   "source": [
    "df_cd.loc[df_cd['incident_result_of']=='EMERGENCY', 'incident_result_of'] = 'EMERGENCY CALL OR REQUEST FOR ASSISTANCE'\n",
    "df_cd.loc[df_cd['incident_result_of']=='EMERGENCY CALL OR REQUEST FOR ASSISTANCE, TRAFFIC STOP', 'incident_result_of'] = \\\n",
    "'EMERGENCY CALL OR REQUEST FOR ASSISTANCE; TRAFFIC STOP'\n",
    "df_cd['incident_result_of'] = df_cd['incident_result_of'].str.strip()"
   ]
  },
  {
   "cell_type": "code",
   "execution_count": 20,
   "metadata": {},
   "outputs": [],
   "source": [
    "def clean_incident_causes(s):\n",
    "    if 'EMERGENCY' in s:\n",
    "        return 'Emergency/Request for Assistance'\n",
    "    elif 'HOSTAGE' in s:\n",
    "        return 'Hostage/Barricade/Other Emergency'\n",
    "    elif 'OTHER' in s:\n",
    "        return 'Other'\n",
    "    elif 'TRAFFIC STOP' in s:\n",
    "        return 'Traffic Stop'\n",
    "    elif 'WARRANT' in s:\n",
    "        return 'Execution of a Warrant'\n",
    "    else:\n",
    "        raise ValueError('Double check the string from incident causes.')"
   ]
  },
  {
   "cell_type": "code",
   "execution_count": 21,
   "metadata": {},
   "outputs": [],
   "source": [
    "incident_causes_list = ['Traffic Stop', 'Emergency/Request for Assistance', \n",
    "                        'Execution of a Warrant', 'Hostage/Barricade/Other Emergency', 'Other']"
   ]
  },
  {
   "cell_type": "markdown",
   "metadata": {},
   "source": [
    "Even though it's a single column, as you can see above, multiple causes can exist. I split these into multiple columns and one-hot encoded (binary for each cause)."
   ]
  },
  {
   "cell_type": "code",
   "execution_count": 22,
   "metadata": {},
   "outputs": [],
   "source": [
    "df_causes_list = df_cd['incident_result_of'].str.split(';')\n",
    "df_causes_list_clean = df_causes_list.apply(lambda x: [clean_incident_causes(s) for s in x]).apply(pd.Series)\n",
    "df_causes_list_clean_separated = df_causes_list_clean.stack().str.get_dummies().sum(level=0)[incident_causes_list]"
   ]
  },
  {
   "cell_type": "code",
   "execution_count": 23,
   "metadata": {},
   "outputs": [
    {
     "data": {
      "text/plain": [
       "Traffic Stop                          88\n",
       "Emergency/Request for Assistance     386\n",
       "Execution of a Warrant                71\n",
       "Hostage/Barricade/Other Emergency     37\n",
       "Other                                176\n",
       "dtype: int64"
      ]
     },
     "execution_count": 23,
     "metadata": {},
     "output_type": "execute_result"
    }
   ],
   "source": [
    "df_causes_list_clean_separated.sum()"
   ]
  },
  {
   "cell_type": "code",
   "execution_count": 24,
   "metadata": {},
   "outputs": [
    {
     "name": "stdout",
     "output_type": "stream",
     "text": [
      "(697, 151)\n"
     ]
    },
    {
     "data": {
      "text/html": [
       "<div>\n",
       "<style scoped>\n",
       "    .dataframe tbody tr th:only-of-type {\n",
       "        vertical-align: middle;\n",
       "    }\n",
       "\n",
       "    .dataframe tbody tr th {\n",
       "        vertical-align: top;\n",
       "    }\n",
       "\n",
       "    .dataframe thead th {\n",
       "        text-align: right;\n",
       "    }\n",
       "</style>\n",
       "<table border=\"1\" class=\"dataframe\">\n",
       "  <thead>\n",
       "    <tr style=\"text-align: right;\">\n",
       "      <th></th>\n",
       "      <th>Traffic Stop</th>\n",
       "      <th>Emergency/Request for Assistance</th>\n",
       "      <th>Execution of a Warrant</th>\n",
       "      <th>Hostage/Barricade/Other Emergency</th>\n",
       "      <th>Other</th>\n",
       "    </tr>\n",
       "  </thead>\n",
       "  <tbody>\n",
       "    <tr>\n",
       "      <th>66</th>\n",
       "      <td>0</td>\n",
       "      <td>1</td>\n",
       "      <td>0</td>\n",
       "      <td>0</td>\n",
       "      <td>0</td>\n",
       "    </tr>\n",
       "    <tr>\n",
       "      <th>67</th>\n",
       "      <td>0</td>\n",
       "      <td>0</td>\n",
       "      <td>0</td>\n",
       "      <td>0</td>\n",
       "      <td>1</td>\n",
       "    </tr>\n",
       "    <tr>\n",
       "      <th>68</th>\n",
       "      <td>0</td>\n",
       "      <td>1</td>\n",
       "      <td>0</td>\n",
       "      <td>0</td>\n",
       "      <td>0</td>\n",
       "    </tr>\n",
       "    <tr>\n",
       "      <th>69</th>\n",
       "      <td>0</td>\n",
       "      <td>1</td>\n",
       "      <td>0</td>\n",
       "      <td>0</td>\n",
       "      <td>0</td>\n",
       "    </tr>\n",
       "    <tr>\n",
       "      <th>70</th>\n",
       "      <td>0</td>\n",
       "      <td>0</td>\n",
       "      <td>0</td>\n",
       "      <td>0</td>\n",
       "      <td>1</td>\n",
       "    </tr>\n",
       "  </tbody>\n",
       "</table>\n",
       "</div>"
      ],
      "text/plain": [
       "    Traffic Stop  Emergency/Request for Assistance  Execution of a Warrant  \\\n",
       "66             0                                 1                       0   \n",
       "67             0                                 0                       0   \n",
       "68             0                                 1                       0   \n",
       "69             0                                 1                       0   \n",
       "70             0                                 0                       0   \n",
       "\n",
       "    Hostage/Barricade/Other Emergency  Other  \n",
       "66                                  0      0  \n",
       "67                                  0      1  \n",
       "68                                  0      0  \n",
       "69                                  0      0  \n",
       "70                                  0      1  "
      ]
     },
     "execution_count": 24,
     "metadata": {},
     "output_type": "execute_result"
    }
   ],
   "source": [
    "df_cd = pd.concat([df_cd, df_causes_list_clean_separated], axis=1); print(df_cd.shape)\n",
    "df_cd[incident_causes_list].head()"
   ]
  },
  {
   "cell_type": "markdown",
   "metadata": {},
   "source": [
    "# 7. Discretize civilian age into bins based on the census age groups"
   ]
  },
  {
   "cell_type": "markdown",
   "metadata": {},
   "source": [
    "I found these mortality datasets from Texas DSHS:\n",
    "    - [Death counts by race, gender and age, 2013](https://www.dshs.texas.gov/chs/vstat/vs13/t26a.aspx)\n",
    "        - All rates per 100k population\n",
    "        - This dataset has race demographics (white, black, hispanic) and also has gender demographics. (male, female) \n",
    "        - I only focused on the **male** data mostly because the civilian dataset has very few female civilians.\n",
    "    - [Death counts by county, 2013](https://www.dshs.texas.gov/chs/vstat/vs13/t26b.aspx)\n",
    "        - All rates per 1k Population\n",
    "        - This dataset has race demographics (white, black, hispanic, other) but does not have gender distinction.\n",
    "\n",
    "This census data has age information that is binned into the following groups: '<1', '1-4' '5-14' '15-24' '25-34' '35-44' '45-54' '55-64' '65-74' '75+'. I decided to use this binning to compare our data with this census data. To do so, I have extracted a male mortality data (the age analysis only looks at men because female data has extremely small sample size for a meaningful comparison). I removed the newborns (less than age 1) and binned the age information from the civiliand data."
   ]
  },
  {
   "cell_type": "code",
   "execution_count": 25,
   "metadata": {},
   "outputs": [
    {
     "name": "stdout",
     "output_type": "stream",
     "text": [
      "(9, 4)\n"
     ]
    }
   ],
   "source": [
    "df_death_age_male = pd.read_csv('../Data/Raw/Census/mortality_rate_by_age_male.csv', index_col='Age').iloc[1:, :]; print(df_death_age_male.shape)"
   ]
  },
  {
   "cell_type": "code",
   "execution_count": 26,
   "metadata": {},
   "outputs": [
    {
     "data": {
      "text/html": [
       "<div>\n",
       "<style scoped>\n",
       "    .dataframe tbody tr th:only-of-type {\n",
       "        vertical-align: middle;\n",
       "    }\n",
       "\n",
       "    .dataframe tbody tr th {\n",
       "        vertical-align: top;\n",
       "    }\n",
       "\n",
       "    .dataframe thead th {\n",
       "        text-align: right;\n",
       "    }\n",
       "</style>\n",
       "<table border=\"1\" class=\"dataframe\">\n",
       "  <thead>\n",
       "    <tr style=\"text-align: right;\">\n",
       "      <th></th>\n",
       "      <th>WHITE</th>\n",
       "      <th>BLACK</th>\n",
       "      <th>HISPANIC</th>\n",
       "      <th>TOTAL</th>\n",
       "    </tr>\n",
       "    <tr>\n",
       "      <th>Age</th>\n",
       "      <th></th>\n",
       "      <th></th>\n",
       "      <th></th>\n",
       "      <th></th>\n",
       "    </tr>\n",
       "  </thead>\n",
       "  <tbody>\n",
       "    <tr>\n",
       "      <th>1-4</th>\n",
       "      <td>95</td>\n",
       "      <td>47</td>\n",
       "      <td>103</td>\n",
       "      <td>245</td>\n",
       "    </tr>\n",
       "    <tr>\n",
       "      <th>5-14</th>\n",
       "      <td>108</td>\n",
       "      <td>57</td>\n",
       "      <td>137</td>\n",
       "      <td>302</td>\n",
       "    </tr>\n",
       "    <tr>\n",
       "      <th>15-24</th>\n",
       "      <td>811</td>\n",
       "      <td>297</td>\n",
       "      <td>700</td>\n",
       "      <td>1808</td>\n",
       "    </tr>\n",
       "    <tr>\n",
       "      <th>25-34</th>\n",
       "      <td>1210</td>\n",
       "      <td>505</td>\n",
       "      <td>917</td>\n",
       "      <td>2632</td>\n",
       "    </tr>\n",
       "    <tr>\n",
       "      <th>35-44</th>\n",
       "      <td>1755</td>\n",
       "      <td>628</td>\n",
       "      <td>1199</td>\n",
       "      <td>3582</td>\n",
       "    </tr>\n",
       "  </tbody>\n",
       "</table>\n",
       "</div>"
      ],
      "text/plain": [
       "       WHITE  BLACK  HISPANIC  TOTAL\n",
       "Age                                 \n",
       "1-4       95     47       103    245\n",
       "5-14     108     57       137    302\n",
       "15-24    811    297       700   1808\n",
       "25-34   1210    505       917   2632\n",
       "35-44   1755    628      1199   3582"
      ]
     },
     "execution_count": 26,
     "metadata": {},
     "output_type": "execute_result"
    }
   ],
   "source": [
    "df_death_age_male.head()"
   ]
  },
  {
   "cell_type": "code",
   "execution_count": 27,
   "metadata": {},
   "outputs": [
    {
     "name": "stdout",
     "output_type": "stream",
     "text": [
      "['1-4' '5-14' '15-24' '25-34' '35-44' '45-54' '55-64' '65-74' '75+']\n",
      "9\n"
     ]
    }
   ],
   "source": [
    "age_range_names = df_death_age_male.index.values\n",
    "print(age_range_names)\n",
    "print(len(age_range_names))"
   ]
  },
  {
   "cell_type": "code",
   "execution_count": 28,
   "metadata": {},
   "outputs": [],
   "source": [
    "bins = [5, 15, 25, 35, 45, 55, 65, 75, 100]\n",
    "df_cd['civilian_age_binned'] = np.digitize(df_cd['civilian_age'], bins)"
   ]
  },
  {
   "cell_type": "code",
   "execution_count": 29,
   "metadata": {},
   "outputs": [
    {
     "data": {
      "text/plain": [
       "0      1\n",
       "1      3\n",
       "2    167\n",
       "3    217\n",
       "4    148\n",
       "5     93\n",
       "6     52\n",
       "7      8\n",
       "8      4\n",
       "9      4\n",
       "Name: civilian_age_binned, dtype: int64"
      ]
     },
     "execution_count": 29,
     "metadata": {},
     "output_type": "execute_result"
    }
   ],
   "source": [
    "df_cd['civilian_age_binned'].value_counts().sort_index()"
   ]
  },
  {
   "cell_type": "markdown",
   "metadata": {},
   "source": [
    "Note that even though we have 9 age ranges (`age_range_names`) but we now have 10 indices (0 to 9). This is because the last index (`9`) represents data that cannot be included in any of the defined ranges (either missing or out of the range (in this case it was all missing data)."
   ]
  },
  {
   "cell_type": "markdown",
   "metadata": {},
   "source": [
    "# 8. Calculate the report delay\n",
    "I've created a column that represents the report delay (the number of days between the incident and the date that the agency received its report (agencies are required by law to file within 30 days) = `date_ag_received - date_incident`"
   ]
  },
  {
   "cell_type": "code",
   "execution_count": 30,
   "metadata": {},
   "outputs": [
    {
     "data": {
      "text/plain": [
       "166"
      ]
     },
     "execution_count": 30,
     "metadata": {},
     "output_type": "execute_result"
    }
   ],
   "source": [
    "df_cd['date_ag_received'].isnull().sum()"
   ]
  },
  {
   "cell_type": "code",
   "execution_count": 31,
   "metadata": {},
   "outputs": [
    {
     "data": {
      "text/plain": [
       "2016    160\n",
       "2017      6\n",
       "Name: year, dtype: int64"
      ]
     },
     "execution_count": 31,
     "metadata": {},
     "output_type": "execute_result"
    }
   ],
   "source": [
    "df_cd.loc[df_cd['date_ag_received'].isnull(), 'year'].value_counts()"
   ]
  },
  {
   "cell_type": "markdown",
   "metadata": {},
   "source": [
    "Most of the missing data comes from 2016 and this is why I excluded 2016 from the report-delay analysis."
   ]
  },
  {
   "cell_type": "code",
   "execution_count": 32,
   "metadata": {},
   "outputs": [],
   "source": [
    "df_cd['delay_days'] = (df_cd['date_ag_received'] - df_cd['date_incident']).dt.days"
   ]
  },
  {
   "cell_type": "code",
   "execution_count": 33,
   "metadata": {},
   "outputs": [
    {
     "data": {
      "text/plain": [
       "-364.0     1\n",
       " 0.0      11\n",
       " 1.0      26\n",
       " 2.0      35\n",
       " 3.0      29\n",
       "          ..\n",
       " 340.0     1\n",
       " 365.0     1\n",
       " 386.0     1\n",
       " 390.0     1\n",
       " 738.0     1\n",
       "Name: delay_days, Length: 80, dtype: int64"
      ]
     },
     "execution_count": 33,
     "metadata": {},
     "output_type": "execute_result"
    }
   ],
   "source": [
    "df_cd['delay_days'].value_counts().sort_index()"
   ]
  },
  {
   "cell_type": "markdown",
   "metadata": {},
   "source": [
    "Negative delay does not make sense and thus let's covert it to nans."
   ]
  },
  {
   "cell_type": "code",
   "execution_count": 34,
   "metadata": {},
   "outputs": [],
   "source": [
    "df_cd.loc[df_cd['delay_days']<0, 'delay_days'] = np.nan"
   ]
  },
  {
   "cell_type": "markdown",
   "metadata": {},
   "source": [
    "# 9. Bin the report delays"
   ]
  },
  {
   "cell_type": "markdown",
   "metadata": {},
   "source": [
    "For visualization purposes, I discretized the delay into bins."
   ]
  },
  {
   "cell_type": "code",
   "execution_count": 35,
   "metadata": {},
   "outputs": [
    {
     "name": "stdout",
     "output_type": "stream",
     "text": [
      "['Same Day', '1 to 7 Days', '8 to 14 Days', '15 to 30 Days', '31 to 60 Days', '61 to 90 Days', '91 to 180 Days', '181 to 360 Days', '361 to 720 Days', 'More than 720 Days']\n"
     ]
    }
   ],
   "source": [
    "bins = [0, 7, 14, 30, 60, 90, 180, 360, 720]\n",
    "binnames = ['Same Day'] + ['{} to {} Days'.format(bins[i]+1, bins[i+1]) for i in range(len(bins)-1)] + ['More than 720 Days']\n",
    "print(binnames)"
   ]
  },
  {
   "cell_type": "markdown",
   "metadata": {},
   "source": [
    "Nans get `-1` labels."
   ]
  },
  {
   "cell_type": "code",
   "execution_count": 36,
   "metadata": {},
   "outputs": [],
   "source": [
    "delay_bins = np.digitize(df_cd['delay_days'].values, bins, right=True)\n",
    "nan_inds = np.argwhere(pd.isnull(df_cd['delay_days']).values).ravel()\n",
    "delay_bins[nan_inds] = -1"
   ]
  },
  {
   "cell_type": "code",
   "execution_count": 37,
   "metadata": {},
   "outputs": [
    {
     "name": "stdout",
     "output_type": "stream",
     "text": [
      "[-1 -1 -1 -1 -1 -1 -1 -1 -1 -1 -1 -1 -1 -1 -1 -1 -1 -1 -1 -1 -1 -1 -1 -1\n",
      " -1 -1 -1 -1  7 -1 -1 -1 -1 -1 -1 -1 -1 -1 -1 -1 -1 -1 -1 -1 -1 -1 -1 -1\n",
      " -1 -1 -1 -1 -1 -1 -1 -1  7 -1 -1 -1 -1 -1 -1 -1 -1 -1 -1 -1 -1 -1 -1 -1\n",
      " -1 -1 -1 -1 -1 -1 -1 -1 -1 -1 -1 -1 -1 -1 -1 -1 -1 -1 -1  7 -1 -1  7 -1\n",
      " -1 -1 -1 -1 -1 -1  6 -1 -1 -1 -1  6  6 -1 -1 -1 -1 -1 -1 -1 -1 -1 -1  6\n",
      "  6 -1 -1 -1 -1 -1 -1 -1 -1 -1 -1 -1 -1 -1 -1 -1 -1 -1 -1 -1 -1  2 -1 -1\n",
      " -1 -1 -1 -1 -1 -1 -1 -1 -1 -1 -1 -1 -1 -1  5 -1 -1  5  3 -1 -1 -1 -1  4\n",
      "  4  4 -1 -1 -1 -1 -1 -1 -1 -1 -1 -1 -1 -1  3  3  1  3  1  2  1  3  6  1\n",
      "  3  3  1  1  1  1  2  2  3  3  2  1  3  3  3  2  1  8  1  2  6  1  2  1\n",
      "  3  2  1  3  3  1  1  0  2  1  2  3  4  1  3  0  2  3  2  3  2  2  2  2\n",
      "  1  3  2  1  2  4  2  3  1  3  3  3  1  1  1  1  3  2  4  1  2  2  2  1\n",
      "  0  9  1  1  3  1  4  3  2  2  4  3  3  2  3  1  1  3  3  3  2  3  2  3\n",
      "  3  3  3  1  3  1  3  4  5  2  6  4  3  2  3  3  3  1  3  3  3  3  1  1\n",
      "  1  1  1  2  3  1  1  3  3  3  2  3  4  1  2  4  6  3  2  3  4  8  4  4\n",
      "  4  1  2 -1  3  2  4  1  1  4  2  3  4  3  1  1  0  3  1  1  1  5  1  2\n",
      "  3  3  3  3  1  1  1  8  4  1  3  3  3  2  3  1  1  0  0  3  3  1  3  1\n",
      "  1  3  3  3  4  1  2  3  3  2  3  2  3  2  3  2  2  3  1  0  2  2  6  4\n",
      "  3  3  2  1  1  2  3  4  4  3  1  3  2  2  1  2  2  2  6  2  3  2  3  1\n",
      "  1  3  3  3  0  1  1  1  2  2  3  3  1  3  1  3  1  1  1  3  1  1  1  2\n",
      "  2  2  3  3  1  2  2  3  2  2  1  3  1  3  1  2  1  3  3  1  1  3  3  1\n",
      "  3  3  1  1  1  1  3  3  3  3  2  2  2  2  1  2  5  4  4  2  3  3  3  3\n",
      "  2  4  7  3  1  3  4  1  4  3  3  2  1  3  3  1  3  1  4  4  1  2  1  3\n",
      "  6  4  2  1  3  3  2  1  3  1  2  3  3  3  2  3  6  3  1  3  1  1  1  3\n",
      "  3  1  0  2  2  2  1  1  1  1  1  2  1  2  3  2  2  3  1  3  1  1  4  2\n",
      "  3  4  1  3  2  2  1  1  3  1  0  1  2  3  3  2  2  1  1  1  1  1  1  2\n",
      "  1  3  1  2  1  4  3  2  1  1  3  3  2  1  1  2  1  1  1  6  2  3  1  3\n",
      "  1  3  1  6  4  2  3  3  2  1  3  3  3  2  3  3  3  2  1  3  3  3  3  3\n",
      "  1  3  1  3  3  6  3  3  2  2  2  0  1  3  1  3  1  1  1  3  3  3  1  1\n",
      "  6  1  4  1  2  3  1  1  1  5  3  3  4  3  1  1  3  2  4  1  3  2  2  3\n",
      "  2]\n"
     ]
    }
   ],
   "source": [
    "print(delay_bins)"
   ]
  },
  {
   "cell_type": "code",
   "execution_count": 38,
   "metadata": {},
   "outputs": [],
   "source": [
    "df_cd['delay_bin_label'] = delay_bins"
   ]
  },
  {
   "cell_type": "markdown",
   "metadata": {},
   "source": [
    "# 10. Save the preprocessed data"
   ]
  },
  {
   "cell_type": "code",
   "execution_count": 39,
   "metadata": {},
   "outputs": [],
   "source": [
    "df_cd.to_pickle('../Data/Preprocessed/civilian_shooting_preprocessed.pkl') # pickle preserves the datetime format \n",
    "df_cd.to_csv('../Data/Preprocessed/civilian_shooting_preprocessed.csv') # csv does not"
   ]
  },
  {
   "cell_type": "markdown",
   "metadata": {},
   "source": [
    "# Officer dataset"
   ]
  },
  {
   "cell_type": "markdown",
   "metadata": {},
   "source": [
    "# 1. Extract year and month"
   ]
  },
  {
   "cell_type": "code",
   "execution_count": 40,
   "metadata": {},
   "outputs": [],
   "source": [
    "df_os['year'] = df_os['date_incident'].dt.year\n",
    "df_os['month'] = df_os['date_incident'].dt.month"
   ]
  },
  {
   "cell_type": "markdown",
   "metadata": {},
   "source": [
    "2016-2019"
   ]
  },
  {
   "cell_type": "code",
   "execution_count": 41,
   "metadata": {},
   "outputs": [
    {
     "name": "stdout",
     "output_type": "stream",
     "text": [
      "(130, 49)\n"
     ]
    }
   ],
   "source": [
    "df_os = df_os.loc[df_os['year'].isin(years)]; print(df_os.shape)"
   ]
  },
  {
   "cell_type": "markdown",
   "metadata": {},
   "source": [
    "# 2. Calculate the report delay"
   ]
  },
  {
   "cell_type": "code",
   "execution_count": 42,
   "metadata": {},
   "outputs": [],
   "source": [
    "df_os['delay_days'] = (df_os['date_ag_received']-df_os['date_incident']).dt.days"
   ]
  },
  {
   "cell_type": "code",
   "execution_count": 43,
   "metadata": {},
   "outputs": [
    {
     "data": {
      "text/plain": [
       "0"
      ]
     },
     "execution_count": 43,
     "metadata": {},
     "output_type": "execute_result"
    }
   ],
   "source": [
    "(df_os['delay_days']<0).sum()"
   ]
  },
  {
   "cell_type": "markdown",
   "metadata": {},
   "source": [
    "# 3. Save the preprocessed data"
   ]
  },
  {
   "cell_type": "code",
   "execution_count": 44,
   "metadata": {},
   "outputs": [],
   "source": [
    "df_os.to_pickle('../Data/Preprocessed/officer_shooting_preprocessed.pkl')\n",
    "df_os.to_csv('../Data/Preprocessed/officer_shooting_preprocessed.csv')"
   ]
  }
 ],
 "metadata": {
  "kernelspec": {
   "display_name": "Python 3",
   "language": "python",
   "name": "python3"
  },
  "language_info": {
   "codemirror_mode": {
    "name": "ipython",
    "version": 3
   },
   "file_extension": ".py",
   "mimetype": "text/x-python",
   "name": "python",
   "nbconvert_exporter": "python",
   "pygments_lexer": "ipython3",
   "version": "3.7.9"
  }
 },
 "nbformat": 4,
 "nbformat_minor": 4
}
